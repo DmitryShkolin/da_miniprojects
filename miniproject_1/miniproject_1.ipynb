{
 "cells": [
  {
   "cell_type": "code",
   "execution_count": 187,
   "id": "f61d270d",
   "metadata": {},
   "outputs": [],
   "source": [
    "#Goal of Miniproject 1 is to analyse hotel bookings"
   ]
  },
  {
   "cell_type": "code",
   "execution_count": 188,
   "id": "cad25369",
   "metadata": {},
   "outputs": [],
   "source": [
    "import pandas as pd\n",
    "import seaborn as sns\n",
    "import matplotlib.pyplot as plt\n",
    "%matplotlib inline\n",
    "bookings=pd.read_csv('/Users/dmitry/Downloads/2_bookings.csv',sep=';')"
   ]
  },
  {
   "cell_type": "code",
   "execution_count": 189,
   "id": "63120750",
   "metadata": {},
   "outputs": [
    {
     "data": {
      "text/html": [
       "<div>\n",
       "<style scoped>\n",
       "    .dataframe tbody tr th:only-of-type {\n",
       "        vertical-align: middle;\n",
       "    }\n",
       "\n",
       "    .dataframe tbody tr th {\n",
       "        vertical-align: top;\n",
       "    }\n",
       "\n",
       "    .dataframe thead th {\n",
       "        text-align: right;\n",
       "    }\n",
       "</style>\n",
       "<table border=\"1\" class=\"dataframe\">\n",
       "  <thead>\n",
       "    <tr style=\"text-align: right;\">\n",
       "      <th></th>\n",
       "      <th>Hotel</th>\n",
       "      <th>Is Canceled</th>\n",
       "      <th>Lead Time</th>\n",
       "      <th>arrival full date</th>\n",
       "      <th>Arrival Date Year</th>\n",
       "      <th>Arrival Date Month</th>\n",
       "      <th>Arrival Date Week Number</th>\n",
       "      <th>Arrival Date Day of Month</th>\n",
       "      <th>Stays in Weekend nights</th>\n",
       "      <th>Stays in week nights</th>\n",
       "      <th>...</th>\n",
       "      <th>Adults</th>\n",
       "      <th>Children</th>\n",
       "      <th>Babies</th>\n",
       "      <th>Meal</th>\n",
       "      <th>Country</th>\n",
       "      <th>Reserved Room Type</th>\n",
       "      <th>Assigned room type</th>\n",
       "      <th>customer type</th>\n",
       "      <th>Reservation Status</th>\n",
       "      <th>Reservation status_date</th>\n",
       "    </tr>\n",
       "  </thead>\n",
       "  <tbody>\n",
       "    <tr>\n",
       "      <th>0</th>\n",
       "      <td>Resort Hotel</td>\n",
       "      <td>0</td>\n",
       "      <td>342</td>\n",
       "      <td>2015-07-01</td>\n",
       "      <td>2015</td>\n",
       "      <td>July</td>\n",
       "      <td>27</td>\n",
       "      <td>1</td>\n",
       "      <td>0</td>\n",
       "      <td>0</td>\n",
       "      <td>...</td>\n",
       "      <td>2</td>\n",
       "      <td>0.0</td>\n",
       "      <td>0</td>\n",
       "      <td>BB</td>\n",
       "      <td>PRT</td>\n",
       "      <td>C</td>\n",
       "      <td>C</td>\n",
       "      <td>Transient</td>\n",
       "      <td>Check-Out</td>\n",
       "      <td>2015-07-01</td>\n",
       "    </tr>\n",
       "    <tr>\n",
       "      <th>1</th>\n",
       "      <td>Resort Hotel</td>\n",
       "      <td>0</td>\n",
       "      <td>737</td>\n",
       "      <td>2015-07-01</td>\n",
       "      <td>2015</td>\n",
       "      <td>July</td>\n",
       "      <td>27</td>\n",
       "      <td>1</td>\n",
       "      <td>0</td>\n",
       "      <td>0</td>\n",
       "      <td>...</td>\n",
       "      <td>2</td>\n",
       "      <td>0.0</td>\n",
       "      <td>0</td>\n",
       "      <td>BB</td>\n",
       "      <td>PRT</td>\n",
       "      <td>C</td>\n",
       "      <td>C</td>\n",
       "      <td>Transient</td>\n",
       "      <td>Check-Out</td>\n",
       "      <td>2015-07-01</td>\n",
       "    </tr>\n",
       "    <tr>\n",
       "      <th>2</th>\n",
       "      <td>Resort Hotel</td>\n",
       "      <td>0</td>\n",
       "      <td>7</td>\n",
       "      <td>2015-07-01</td>\n",
       "      <td>2015</td>\n",
       "      <td>July</td>\n",
       "      <td>27</td>\n",
       "      <td>1</td>\n",
       "      <td>0</td>\n",
       "      <td>1</td>\n",
       "      <td>...</td>\n",
       "      <td>1</td>\n",
       "      <td>0.0</td>\n",
       "      <td>0</td>\n",
       "      <td>BB</td>\n",
       "      <td>GBR</td>\n",
       "      <td>A</td>\n",
       "      <td>C</td>\n",
       "      <td>Transient</td>\n",
       "      <td>Check-Out</td>\n",
       "      <td>2015-07-02</td>\n",
       "    </tr>\n",
       "    <tr>\n",
       "      <th>3</th>\n",
       "      <td>Resort Hotel</td>\n",
       "      <td>0</td>\n",
       "      <td>13</td>\n",
       "      <td>2015-07-01</td>\n",
       "      <td>2015</td>\n",
       "      <td>July</td>\n",
       "      <td>27</td>\n",
       "      <td>1</td>\n",
       "      <td>0</td>\n",
       "      <td>1</td>\n",
       "      <td>...</td>\n",
       "      <td>1</td>\n",
       "      <td>0.0</td>\n",
       "      <td>0</td>\n",
       "      <td>BB</td>\n",
       "      <td>GBR</td>\n",
       "      <td>A</td>\n",
       "      <td>A</td>\n",
       "      <td>Transient</td>\n",
       "      <td>Check-Out</td>\n",
       "      <td>2015-07-02</td>\n",
       "    </tr>\n",
       "    <tr>\n",
       "      <th>4</th>\n",
       "      <td>Resort Hotel</td>\n",
       "      <td>0</td>\n",
       "      <td>14</td>\n",
       "      <td>2015-07-01</td>\n",
       "      <td>2015</td>\n",
       "      <td>July</td>\n",
       "      <td>27</td>\n",
       "      <td>1</td>\n",
       "      <td>0</td>\n",
       "      <td>2</td>\n",
       "      <td>...</td>\n",
       "      <td>2</td>\n",
       "      <td>0.0</td>\n",
       "      <td>0</td>\n",
       "      <td>BB</td>\n",
       "      <td>GBR</td>\n",
       "      <td>A</td>\n",
       "      <td>A</td>\n",
       "      <td>Transient</td>\n",
       "      <td>Check-Out</td>\n",
       "      <td>2015-07-03</td>\n",
       "    </tr>\n",
       "  </tbody>\n",
       "</table>\n",
       "<p>5 rows × 21 columns</p>\n",
       "</div>"
      ],
      "text/plain": [
       "          Hotel  Is Canceled  Lead Time arrival full date  Arrival Date Year  \\\n",
       "0  Resort Hotel            0        342        2015-07-01               2015   \n",
       "1  Resort Hotel            0        737        2015-07-01               2015   \n",
       "2  Resort Hotel            0          7        2015-07-01               2015   \n",
       "3  Resort Hotel            0         13        2015-07-01               2015   \n",
       "4  Resort Hotel            0         14        2015-07-01               2015   \n",
       "\n",
       "  Arrival Date Month  Arrival Date Week Number  Arrival Date Day of Month  \\\n",
       "0               July                        27                          1   \n",
       "1               July                        27                          1   \n",
       "2               July                        27                          1   \n",
       "3               July                        27                          1   \n",
       "4               July                        27                          1   \n",
       "\n",
       "   Stays in Weekend nights  Stays in week nights  ...  Adults  Children  \\\n",
       "0                        0                     0  ...       2       0.0   \n",
       "1                        0                     0  ...       2       0.0   \n",
       "2                        0                     1  ...       1       0.0   \n",
       "3                        0                     1  ...       1       0.0   \n",
       "4                        0                     2  ...       2       0.0   \n",
       "\n",
       "   Babies  Meal Country Reserved Room Type Assigned room type customer type  \\\n",
       "0       0    BB     PRT                  C                  C     Transient   \n",
       "1       0    BB     PRT                  C                  C     Transient   \n",
       "2       0    BB     GBR                  A                  C     Transient   \n",
       "3       0    BB     GBR                  A                  A     Transient   \n",
       "4       0    BB     GBR                  A                  A     Transient   \n",
       "\n",
       "  Reservation Status Reservation status_date  \n",
       "0          Check-Out              2015-07-01  \n",
       "1          Check-Out              2015-07-01  \n",
       "2          Check-Out              2015-07-02  \n",
       "3          Check-Out              2015-07-02  \n",
       "4          Check-Out              2015-07-03  \n",
       "\n",
       "[5 rows x 21 columns]"
      ]
     },
     "execution_count": 189,
     "metadata": {},
     "output_type": "execute_result"
    }
   ],
   "source": [
    "bookings.head()"
   ]
  },
  {
   "cell_type": "code",
   "execution_count": 190,
   "id": "351ce140",
   "metadata": {},
   "outputs": [],
   "source": [
    "#How many rows and columns in the dataframe?"
   ]
  },
  {
   "cell_type": "code",
   "execution_count": 191,
   "id": "44e5c292",
   "metadata": {},
   "outputs": [
    {
     "name": "stdout",
     "output_type": "stream",
     "text": [
      "There are 119390 rows and 21 columnds in the dataframe\n"
     ]
    }
   ],
   "source": [
    "print('There are {} rows and {} columns in the dataframe'. \\\n",
    "      format(bookings.shape[0], bookings.shape[1]))"
   ]
  },
  {
   "cell_type": "code",
   "execution_count": 192,
   "id": "eaf68e96",
   "metadata": {},
   "outputs": [],
   "source": [
    "#What is the datatype of the majority of variables?"
   ]
  },
  {
   "cell_type": "code",
   "execution_count": 193,
   "id": "211f3003",
   "metadata": {},
   "outputs": [
    {
     "data": {
      "text/plain": [
       "object     10\n",
       "int64      10\n",
       "float64     1\n",
       "dtype: int64"
      ]
     },
     "execution_count": 193,
     "metadata": {},
     "output_type": "execute_result"
    }
   ],
   "source": [
    "bookings.dtypes.value_counts()"
   ]
  },
  {
   "cell_type": "code",
   "execution_count": 194,
   "id": "7790c37a",
   "metadata": {},
   "outputs": [],
   "source": [
    "#Change the name of columns to lowercases and replace \" \" with \"_\""
   ]
  },
  {
   "cell_type": "code",
   "execution_count": 195,
   "id": "b6504122",
   "metadata": {},
   "outputs": [],
   "source": [
    "old_names=bookings.columns.to_list()\n",
    "new_names=[]\n",
    "for i in old_names:\n",
    "    new_names.append(i.lower().replace(' ','_'))\n",
    "rename_dictionary=dict(zip(old_names,new_names))\n",
    "bookings=bookings.rename(columns=rename_dictionary)"
   ]
  },
  {
   "cell_type": "code",
   "execution_count": 196,
   "id": "a90fb63b",
   "metadata": {},
   "outputs": [],
   "source": [
    "#Users of which countries had made the most successful bookings? \n",
    "#Print Top-5"
   ]
  },
  {
   "cell_type": "code",
   "execution_count": 197,
   "id": "73db8fb7",
   "metadata": {},
   "outputs": [
    {
     "data": {
      "text/html": [
       "<div>\n",
       "<style scoped>\n",
       "    .dataframe tbody tr th:only-of-type {\n",
       "        vertical-align: middle;\n",
       "    }\n",
       "\n",
       "    .dataframe tbody tr th {\n",
       "        vertical-align: top;\n",
       "    }\n",
       "\n",
       "    .dataframe thead th {\n",
       "        text-align: right;\n",
       "    }\n",
       "</style>\n",
       "<table border=\"1\" class=\"dataframe\">\n",
       "  <thead>\n",
       "    <tr style=\"text-align: right;\">\n",
       "      <th></th>\n",
       "      <th>country</th>\n",
       "      <th>is_canceled</th>\n",
       "    </tr>\n",
       "  </thead>\n",
       "  <tbody>\n",
       "    <tr>\n",
       "      <th>135</th>\n",
       "      <td>PRT</td>\n",
       "      <td>48590</td>\n",
       "    </tr>\n",
       "    <tr>\n",
       "      <th>59</th>\n",
       "      <td>GBR</td>\n",
       "      <td>12129</td>\n",
       "    </tr>\n",
       "    <tr>\n",
       "      <th>56</th>\n",
       "      <td>FRA</td>\n",
       "      <td>10415</td>\n",
       "    </tr>\n",
       "    <tr>\n",
       "      <th>51</th>\n",
       "      <td>ESP</td>\n",
       "      <td>8568</td>\n",
       "    </tr>\n",
       "    <tr>\n",
       "      <th>43</th>\n",
       "      <td>DEU</td>\n",
       "      <td>7287</td>\n",
       "    </tr>\n",
       "  </tbody>\n",
       "</table>\n",
       "</div>"
      ],
      "text/plain": [
       "    country  is_canceled\n",
       "135     PRT        48590\n",
       "59      GBR        12129\n",
       "56      FRA        10415\n",
       "51      ESP         8568\n",
       "43      DEU         7287"
      ]
     },
     "execution_count": 197,
     "metadata": {},
     "output_type": "execute_result"
    }
   ],
   "source": [
    "bookings_not_canceled=bookings.query('is_canceled==0')\n",
    "bookings.groupby('country',as_index=False).count() \\\n",
    "[['country','is_canceled']].sort_values('is_canceled',ascending=False).head()"
   ]
  },
  {
   "cell_type": "code",
   "execution_count": 198,
   "id": "f2eee31f",
   "metadata": {},
   "outputs": [],
   "source": [
    "#What is the average number of stays by hotel type? Round it to two number after comma"
   ]
  },
  {
   "cell_type": "code",
   "execution_count": 199,
   "id": "2411408f",
   "metadata": {},
   "outputs": [
    {
     "data": {
      "text/html": [
       "<div>\n",
       "<style scoped>\n",
       "    .dataframe tbody tr th:only-of-type {\n",
       "        vertical-align: middle;\n",
       "    }\n",
       "\n",
       "    .dataframe tbody tr th {\n",
       "        vertical-align: top;\n",
       "    }\n",
       "\n",
       "    .dataframe thead th {\n",
       "        text-align: right;\n",
       "    }\n",
       "</style>\n",
       "<table border=\"1\" class=\"dataframe\">\n",
       "  <thead>\n",
       "    <tr style=\"text-align: right;\">\n",
       "      <th></th>\n",
       "      <th>stays_total_nights</th>\n",
       "    </tr>\n",
       "    <tr>\n",
       "      <th>hotel</th>\n",
       "      <th></th>\n",
       "    </tr>\n",
       "  </thead>\n",
       "  <tbody>\n",
       "    <tr>\n",
       "      <th>City Hotel</th>\n",
       "      <td>2.98</td>\n",
       "    </tr>\n",
       "    <tr>\n",
       "      <th>Resort Hotel</th>\n",
       "      <td>4.32</td>\n",
       "    </tr>\n",
       "  </tbody>\n",
       "</table>\n",
       "</div>"
      ],
      "text/plain": [
       "              stays_total_nights\n",
       "hotel                           \n",
       "City Hotel                  2.98\n",
       "Resort Hotel                4.32"
      ]
     },
     "execution_count": 199,
     "metadata": {},
     "output_type": "execute_result"
    }
   ],
   "source": [
    "bookings.groupby(['hotel']).agg({'stays_total_nights':'mean'}).round(2)"
   ]
  },
  {
   "cell_type": "code",
   "execution_count": 200,
   "id": "c648cb97",
   "metadata": {},
   "outputs": [],
   "source": [
    "#How many times has assigned room type differed from the reseverved one?"
   ]
  },
  {
   "cell_type": "code",
   "execution_count": 201,
   "id": "1db1c8a9",
   "metadata": {},
   "outputs": [
    {
     "data": {
      "text/plain": [
       "(14917, 21)"
      ]
     },
     "execution_count": 201,
     "metadata": {},
     "output_type": "execute_result"
    }
   ],
   "source": [
    "bookings.query('assigned_room_type!=reserved_room_type').shape"
   ]
  },
  {
   "cell_type": "code",
   "execution_count": 202,
   "id": "be535f25",
   "metadata": {},
   "outputs": [],
   "source": [
    "#Which month had the most bookings by year?"
   ]
  },
  {
   "cell_type": "code",
   "execution_count": 203,
   "id": "e6cf3c60",
   "metadata": {},
   "outputs": [
    {
     "data": {
      "image/png": "[encoded data removed]",
      "text/plain": [
       "<Figure size 1440x864 with 1 Axes>"
      ]
     },
     "metadata": {},
     "output_type": "display_data"
    }
   ],
   "source": [
    "year_month=bookings.query('arrival_date_year==2016 |arrival_date_year==2017'). \\\n",
    "           groupby(['arrival_date_year','arrival_date_month'],as_index=False).count()\\\n",
    "           [['arrival_date_year','arrival_date_month','stays_total_nights']]\n",
    "sns.set(\n",
    "    font_scale=2,\n",
    "    style=\"whitegrid\",\n",
    "    rc={'figure.figsize':(20,12)}\n",
    "        )\n",
    "sns.barplot(x='arrival_date_month', y='stays_total_nights',hue='arrival_date_year',data=year_month,\\\n",
    "           order=['January','February','March','April','May','June','July','August',\n",
    "                 'September','October','November','December'])\n",
    "plt.show()"
   ]
  },
  {
   "cell_type": "code",
   "execution_count": 204,
   "id": "b4b64105",
   "metadata": {},
   "outputs": [],
   "source": [
    "# For City Hotel type, which month had the most cancellations?"
   ]
  },
  {
   "cell_type": "code",
   "execution_count": 205,
   "id": "11d5ae28",
   "metadata": {},
   "outputs": [
    {
     "data": {
      "text/plain": [
       "arrival_date_year  arrival_date_month\n",
       "2015               September             1543\n",
       "                   October               1321\n",
       "                   August                1232\n",
       "                   July                   939\n",
       "                   December               668\n",
       "                   November               301\n",
       "2016               October               1947\n",
       "                   June                  1720\n",
       "                   September             1567\n",
       "                   April                 1539\n",
       "                   May                   1436\n",
       "                   November              1360\n",
       "                   August                1247\n",
       "                   March                 1108\n",
       "                   December              1072\n",
       "                   July                  1043\n",
       "                   February               930\n",
       "                   January                438\n",
       "2017               May                   2217\n",
       "                   April                 1926\n",
       "                   June                  1808\n",
       "                   July                  1324\n",
       "                   March                 1278\n",
       "                   August                1123\n",
       "                   January               1044\n",
       "                   February               971\n",
       "Name: arrival_date_month, dtype: int64"
      ]
     },
     "execution_count": 205,
     "metadata": {},
     "output_type": "execute_result"
    }
   ],
   "source": [
    "bookings.query('is_canceled==1 & hotel==\"City Hotel\"'). \\\n",
    "groupby('arrival_date_year') \\\n",
    "['arrival_date_month'].value_counts()"
   ]
  },
  {
   "cell_type": "code",
   "execution_count": 206,
   "id": "46d73361",
   "metadata": {},
   "outputs": [],
   "source": [
    "#Print and compare mean of columns \"adults\", \"children\", and \"babies\""
   ]
  },
  {
   "cell_type": "code",
   "execution_count": 207,
   "id": "a0120404",
   "metadata": {},
   "outputs": [
    {
     "name": "stdout",
     "output_type": "stream",
     "text": [
      "Average number of adults is: 1.86\n",
      "Average number of children is: 0.1\n",
      "Average number of babies is: 0.01\n"
     ]
    }
   ],
   "source": [
    "print('Average number of adults is: {:.2f}'.format(bookings['adults'].mean()))\n",
    "print('Average number of children is: {}'.format(bookings['children'].mean().round(2)))\n",
    "print('Average number of babies is: {:.2f}'.format(bookings['babies'].mean()))"
   ]
  },
  {
   "cell_type": "code",
   "execution_count": 208,
   "id": "fb6d0d62",
   "metadata": {},
   "outputs": [],
   "source": [
    "#Create the column \"total kids\". Which hotel type has the largest mean of total kids?"
   ]
  },
  {
   "cell_type": "code",
   "execution_count": 209,
   "id": "9c061a6c",
   "metadata": {},
   "outputs": [
    {
     "name": "stdout",
     "output_type": "stream",
     "text": [
      "          hotel  total_kids\n",
      "0    City Hotel        0.10\n",
      "1  Resort Hotel        0.14\n"
     ]
    }
   ],
   "source": [
    "bookings['total_kids']=bookings['children']+bookings['babies']\n",
    "total_kids=bookings.groupby(['hotel'],as_index=False)['total_kids'].mean().round(2)\n",
    "print(total_kids)"
   ]
  },
  {
   "cell_type": "code",
   "execution_count": 210,
   "id": "e6fe98ff",
   "metadata": {},
   "outputs": [],
   "source": [
    "#Calculate churn rate of customers with kids and without kids"
   ]
  },
  {
   "cell_type": "code",
   "execution_count": 211,
   "id": "632c2a18",
   "metadata": {},
   "outputs": [
    {
     "name": "stdout",
     "output_type": "stream",
     "text": [
      "Churn rate of customers with kids 34.92% and without kids 37.22%\n"
     ]
    }
   ],
   "source": [
    "canceled=bookings.copy()\n",
    "canceled=canceled.query('is_canceled==1')\n",
    "canceled['has_kids']=canceled['total_kids'].apply(lambda x: True if x>0 else False)\n",
    "churn_rate_dataframe=canceled.groupby(['has_kids']).count()['hotel']\n",
    "total_bookings_w_kids=bookings.query('total_kids>0').shape[0]\n",
    "total_bookings_wo_kids=bookings.query('total_kids==0.0').shape[0]\n",
    "canceled_w_kids=churn_rate_dataframe[1]\n",
    "canceled_wo_kids=churn_rate_dataframe[0]\n",
    "churn_w_kids=canceled_w_kids/total_bookings_w_kids\n",
    "churn_wo_kids=canceled_wo_kids/total_bookings_wo_kids\n",
    "print('Churn rate of customers with kids {:.2%} and without kids {:.2%}'.format(churn_w_kids,churn_wo_kids))"
   ]
  }
 ],
 "metadata": {
  "kernelspec": {
   "display_name": "Python 3",
   "language": "python",
   "name": "python3"
  },
  "language_info": {
   "codemirror_mode": {
    "name": "ipython",
    "version": 3
   },
   "file_extension": ".py",
   "mimetype": "text/x-python",
   "name": "python",
   "nbconvert_exporter": "python",
   "pygments_lexer": "ipython3",
   "version": "3.7.4"
  }
 },
 "nbformat": 4,
 "nbformat_minor": 5
}
