{
 "cells": [
  {
   "cell_type": "markdown",
   "id": "073c655f",
   "metadata": {},
   "source": [
    "## Минипроект по статистике 4\n",
    "## Statistics miniproject 4"
   ]
  },
  {
   "cell_type": "markdown",
   "id": "22bb4458",
   "metadata": {},
   "source": [
    "order_id - id заказа <br>\n",
    "delivery_time - время доставки в минутах <br>\n",
    "district - район доставки <br>\n",
    "experiment_group - экспериментальная группа"
   ]
  },
  {
   "cell_type": "markdown",
   "id": "af19fc77",
   "metadata": {},
   "source": [
    "order_id - order id <br>\n",
    "delivery_time - delivery time in minutes <br>\n",
    "district - delivery area <br>\n",
    "experiment_group - experimental group <br>"
   ]
  },
  {
   "cell_type": "code",
   "execution_count": 107,
   "id": "6a2a9e49",
   "metadata": {},
   "outputs": [],
   "source": [
    "import pandas as pd\n",
    "data=pd.read_csv('~/experiment_lesson_4.csv')"
   ]
  },
  {
   "cell_type": "code",
   "execution_count": 108,
   "id": "2e5f81ed",
   "metadata": {},
   "outputs": [
    {
     "data": {
      "text/html": [
       "<div>\n",
       "<style scoped>\n",
       "    .dataframe tbody tr th:only-of-type {\n",
       "        vertical-align: middle;\n",
       "    }\n",
       "\n",
       "    .dataframe tbody tr th {\n",
       "        vertical-align: top;\n",
       "    }\n",
       "\n",
       "    .dataframe thead th {\n",
       "        text-align: right;\n",
       "    }\n",
       "</style>\n",
       "<table border=\"1\" class=\"dataframe\">\n",
       "  <thead>\n",
       "    <tr style=\"text-align: right;\">\n",
       "      <th></th>\n",
       "      <th>order_id</th>\n",
       "      <th>delivery_time</th>\n",
       "      <th>district</th>\n",
       "      <th>experiment_group</th>\n",
       "    </tr>\n",
       "  </thead>\n",
       "  <tbody>\n",
       "    <tr>\n",
       "      <th>0</th>\n",
       "      <td>3159</td>\n",
       "      <td>44.0</td>\n",
       "      <td>Purlieus</td>\n",
       "      <td>control</td>\n",
       "    </tr>\n",
       "    <tr>\n",
       "      <th>1</th>\n",
       "      <td>10426</td>\n",
       "      <td>51.0</td>\n",
       "      <td>Purlieus</td>\n",
       "      <td>control</td>\n",
       "    </tr>\n",
       "    <tr>\n",
       "      <th>2</th>\n",
       "      <td>9155</td>\n",
       "      <td>46.0</td>\n",
       "      <td>Purlieus</td>\n",
       "      <td>control</td>\n",
       "    </tr>\n",
       "    <tr>\n",
       "      <th>3</th>\n",
       "      <td>10699</td>\n",
       "      <td>34.0</td>\n",
       "      <td>Purlieus</td>\n",
       "      <td>control</td>\n",
       "    </tr>\n",
       "    <tr>\n",
       "      <th>4</th>\n",
       "      <td>10061</td>\n",
       "      <td>43.0</td>\n",
       "      <td>Purlieus</td>\n",
       "      <td>control</td>\n",
       "    </tr>\n",
       "    <tr>\n",
       "      <th>...</th>\n",
       "      <td>...</td>\n",
       "      <td>...</td>\n",
       "      <td>...</td>\n",
       "      <td>...</td>\n",
       "    </tr>\n",
       "    <tr>\n",
       "      <th>20191</th>\n",
       "      <td>14561</td>\n",
       "      <td>42.0</td>\n",
       "      <td>Suburb</td>\n",
       "      <td>test</td>\n",
       "    </tr>\n",
       "    <tr>\n",
       "      <th>20192</th>\n",
       "      <td>12015</td>\n",
       "      <td>32.0</td>\n",
       "      <td>Suburb</td>\n",
       "      <td>test</td>\n",
       "    </tr>\n",
       "    <tr>\n",
       "      <th>20193</th>\n",
       "      <td>20077</td>\n",
       "      <td>23.0</td>\n",
       "      <td>Purlieus</td>\n",
       "      <td>test</td>\n",
       "    </tr>\n",
       "    <tr>\n",
       "      <th>20194</th>\n",
       "      <td>14861</td>\n",
       "      <td>41.0</td>\n",
       "      <td>Central</td>\n",
       "      <td>test</td>\n",
       "    </tr>\n",
       "    <tr>\n",
       "      <th>20195</th>\n",
       "      <td>13501</td>\n",
       "      <td>41.0</td>\n",
       "      <td>Central</td>\n",
       "      <td>test</td>\n",
       "    </tr>\n",
       "  </tbody>\n",
       "</table>\n",
       "<p>20196 rows × 4 columns</p>\n",
       "</div>"
      ],
      "text/plain": [
       "       order_id  delivery_time  district experiment_group\n",
       "0          3159           44.0  Purlieus          control\n",
       "1         10426           51.0  Purlieus          control\n",
       "2          9155           46.0  Purlieus          control\n",
       "3         10699           34.0  Purlieus          control\n",
       "4         10061           43.0  Purlieus          control\n",
       "...         ...            ...       ...              ...\n",
       "20191     14561           42.0    Suburb             test\n",
       "20192     12015           32.0    Suburb             test\n",
       "20193     20077           23.0  Purlieus             test\n",
       "20194     14861           41.0   Central             test\n",
       "20195     13501           41.0   Central             test\n",
       "\n",
       "[20196 rows x 4 columns]"
      ]
     },
     "execution_count": 108,
     "metadata": {},
     "output_type": "execute_result"
    }
   ],
   "source": [
    "data"
   ]
  },
  {
   "cell_type": "markdown",
   "id": "460f2ca0",
   "metadata": {},
   "source": [
    "Вопрос 1 <br>\n",
    "Постройте распределение заказов по экспериментальным группам <br>\n",
    "Question 1 <br>\n",
    "Plot the distribution of orders across experimental groups <br>"
   ]
  },
  {
   "cell_type": "code",
   "execution_count": 109,
   "id": "70511207",
   "metadata": {},
   "outputs": [],
   "source": [
    "test=data.query('experiment_group==\"test\"')\n",
    "control=data.query('experiment_group==\"control\"')"
   ]
  },
  {
   "cell_type": "code",
   "execution_count": 110,
   "id": "7c9bc884",
   "metadata": {},
   "outputs": [],
   "source": [
    "import matplotlib.pyplot as plt\n",
    "import seaborn as sns\n",
    "%matplotlib inline"
   ]
  },
  {
   "cell_type": "code",
   "execution_count": 111,
   "id": "8f8ae3c7",
   "metadata": {},
   "outputs": [
    {
     "data": {
      "text/plain": [
       "<seaborn.axisgrid.FacetGrid at 0x7fb3c428bf50>"
      ]
     },
     "execution_count": 111,
     "metadata": {},
     "output_type": "execute_result"
    },
    {
     "data": {
      "image/png": "[encoded data removed]",
      "text/plain": [
       "<Figure size 435.875x360 with 1 Axes>"
      ]
     },
     "metadata": {
      "needs_background": "light"
     },
     "output_type": "display_data"
    }
   ],
   "source": [
    "sns.displot(x='delivery_time',data=test, hue='district')"
   ]
  },
  {
   "cell_type": "markdown",
   "id": "79459978",
   "metadata": {},
   "source": [
    "sns.displot(x='delivery_time',data=control, hue='district')"
   ]
  },
  {
   "cell_type": "markdown",
   "id": "89cf8775",
   "metadata": {},
   "source": [
    "Вопрос 2 <br>\n",
    "Посчитайте количество наблюдений в тестовой и контрольной группе. <br>\n",
    "На сколько по модулю отличается количество наблюдений в тесте и контроле? <br>\n",
    "Question 2 <br>\n",
    "Count the number of observations in the test and control groups. <br>\n",
    "What is the modulo difference between the number of observations in the test and control?"
   ]
  },
  {
   "cell_type": "code",
   "execution_count": 112,
   "id": "cbeae2ca",
   "metadata": {},
   "outputs": [
    {
     "data": {
      "text/plain": [
       "12"
      ]
     },
     "execution_count": 112,
     "metadata": {},
     "output_type": "execute_result"
    }
   ],
   "source": [
    "abs(data.groupby(['experiment_group']).count().loc['control'][0]-\\\n",
    "data.groupby(['experiment_group']).count().loc['test'][0])"
   ]
  },
  {
   "cell_type": "code",
   "execution_count": 113,
   "id": "c6af04a9",
   "metadata": {},
   "outputs": [
    {
     "data": {
      "text/html": [
       "<div>\n",
       "<style scoped>\n",
       "    .dataframe tbody tr th:only-of-type {\n",
       "        vertical-align: middle;\n",
       "    }\n",
       "\n",
       "    .dataframe tbody tr th {\n",
       "        vertical-align: top;\n",
       "    }\n",
       "\n",
       "    .dataframe thead th {\n",
       "        text-align: right;\n",
       "    }\n",
       "</style>\n",
       "<table border=\"1\" class=\"dataframe\">\n",
       "  <thead>\n",
       "    <tr style=\"text-align: right;\">\n",
       "      <th></th>\n",
       "      <th>order_id</th>\n",
       "      <th>delivery_time</th>\n",
       "      <th>district</th>\n",
       "    </tr>\n",
       "    <tr>\n",
       "      <th>experiment_group</th>\n",
       "      <th></th>\n",
       "      <th></th>\n",
       "      <th></th>\n",
       "    </tr>\n",
       "  </thead>\n",
       "  <tbody>\n",
       "    <tr>\n",
       "      <th>control</th>\n",
       "      <td>10092</td>\n",
       "      <td>10092</td>\n",
       "      <td>10092</td>\n",
       "    </tr>\n",
       "    <tr>\n",
       "      <th>test</th>\n",
       "      <td>10104</td>\n",
       "      <td>10104</td>\n",
       "      <td>10104</td>\n",
       "    </tr>\n",
       "  </tbody>\n",
       "</table>\n",
       "</div>"
      ],
      "text/plain": [
       "                  order_id  delivery_time  district\n",
       "experiment_group                                   \n",
       "control              10092          10092     10092\n",
       "test                 10104          10104     10104"
      ]
     },
     "execution_count": 113,
     "metadata": {},
     "output_type": "execute_result"
    }
   ],
   "source": [
    "data.groupby(['experiment_group']).count()"
   ]
  },
  {
   "cell_type": "markdown",
   "id": "68967aef",
   "metadata": {},
   "source": [
    "Вопрос 3 <br>\n",
    "При помощи теста Шапиро-Уилка проведите проверку на нормальность для экспериментальных групп <br>\n",
    "Question 3 <br> \n",
    "With the help of Shapiro-Wilk test for normality experimental groups"
   ]
  },
  {
   "cell_type": "code",
   "execution_count": 114,
   "id": "69908279",
   "metadata": {},
   "outputs": [],
   "source": [
    "from scipy import stats"
   ]
  },
  {
   "cell_type": "code",
   "execution_count": 115,
   "id": "bacd9f9b",
   "metadata": {},
   "outputs": [],
   "source": [
    "test_sample=data[data['experiment_group'] == 'test']['delivery_time'].sample(1000, random_state=17)"
   ]
  },
  {
   "cell_type": "code",
   "execution_count": 116,
   "id": "a88192d8",
   "metadata": {},
   "outputs": [
    {
     "data": {
      "text/plain": [
       "ShapiroResult(statistic=0.9975479245185852, pvalue=0.14013493061065674)"
      ]
     },
     "execution_count": 116,
     "metadata": {},
     "output_type": "execute_result"
    }
   ],
   "source": [
    "shapiro_test_sample=stats.shapiro(test_sample)\n",
    "shapiro_test_sample"
   ]
  },
  {
   "cell_type": "code",
   "execution_count": 117,
   "id": "e45ec2b9",
   "metadata": {},
   "outputs": [],
   "source": [
    "control_sample=data[data['experiment_group'] == 'control']['delivery_time'].sample(1000, random_state=17)"
   ]
  },
  {
   "cell_type": "code",
   "execution_count": 118,
   "id": "2c6cd165",
   "metadata": {},
   "outputs": [
    {
     "data": {
      "text/plain": [
       "ShapiroResult(statistic=0.9974725842475891, pvalue=0.12411931157112122)"
      ]
     },
     "execution_count": 118,
     "metadata": {},
     "output_type": "execute_result"
    }
   ],
   "source": [
    "shapiro_control_sample=stats.shapiro(control_sample)\n",
    "shapiro_control_sample"
   ]
  },
  {
   "cell_type": "code",
   "execution_count": 119,
   "id": "ff6e63cd",
   "metadata": {},
   "outputs": [
    {
     "data": {
      "text/plain": [
       "count    10104.000000\n",
       "mean        39.046813\n",
       "std          9.883308\n",
       "min         10.000000\n",
       "25%         32.000000\n",
       "50%         39.000000\n",
       "75%         46.000000\n",
       "max         75.000000\n",
       "Name: delivery_time, dtype: float64"
      ]
     },
     "execution_count": 119,
     "metadata": {},
     "output_type": "execute_result"
    }
   ],
   "source": [
    "test['delivery_time'].describe()"
   ]
  },
  {
   "cell_type": "code",
   "execution_count": 120,
   "id": "6b964229",
   "metadata": {},
   "outputs": [
    {
     "data": {
      "text/plain": [
       "count    10092.000000\n",
       "mean        45.065101\n",
       "std          9.990017\n",
       "min         15.000000\n",
       "25%         38.000000\n",
       "50%         45.000000\n",
       "75%         52.000000\n",
       "max         83.000000\n",
       "Name: delivery_time, dtype: float64"
      ]
     },
     "execution_count": 120,
     "metadata": {},
     "output_type": "execute_result"
    }
   ],
   "source": [
    "control['delivery_time'].describe()"
   ]
  },
  {
   "cell_type": "markdown",
   "id": "c7fdcc34",
   "metadata": {},
   "source": [
    "Вопрос 4 <br>\n",
    "Сравните средние при помощи Т-теста для теста и контроля <br>\n",
    "Question 4 <br>\n",
    "Compare means with the help of T-test for test and control groups <br>"
   ]
  },
  {
   "cell_type": "code",
   "execution_count": 121,
   "id": "ba13a87b",
   "metadata": {},
   "outputs": [
    {
     "data": {
      "text/plain": [
       "Ttest_indResult(statistic=-43.03582663183714, pvalue=0.0)"
      ]
     },
     "execution_count": 121,
     "metadata": {},
     "output_type": "execute_result"
    }
   ],
   "source": [
    "t_test=stats.ttest_ind(test['delivery_time'],control['delivery_time'])\n",
    "t_test"
   ]
  },
  {
   "cell_type": "markdown",
   "id": "bf557b39",
   "metadata": {},
   "source": [
    "Вопрос 5 <br>\n",
    "Рассчитайте изменение среднего при переходе от контрольной группы к тестовой в % <br>\n",
    "Question 5 <br>\n",
    "Calculate mean change from control to test group in %"
   ]
  },
  {
   "cell_type": "code",
   "execution_count": 122,
   "id": "15780320",
   "metadata": {},
   "outputs": [
    {
     "data": {
      "text/plain": [
       "-0.1335"
      ]
     },
     "execution_count": 122,
     "metadata": {},
     "output_type": "execute_result"
    }
   ],
   "source": [
    "round(39.046813/45.065101-1,4)"
   ]
  }
 ],
 "metadata": {
  "kernelspec": {
   "display_name": "Python 3",
   "language": "python",
   "name": "python3"
  },
  "language_info": {
   "codemirror_mode": {
    "name": "ipython",
    "version": 3
   },
   "file_extension": ".py",
   "mimetype": "text/x-python",
   "name": "python",
   "nbconvert_exporter": "python",
   "pygments_lexer": "ipython3",
   "version": "3.7.4"
  }
 },
 "nbformat": 4,
 "nbformat_minor": 5
}
