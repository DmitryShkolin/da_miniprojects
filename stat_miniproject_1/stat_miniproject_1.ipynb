{
 "cells": [
  {
   "cell_type": "markdown",
   "id": "fc744b6e",
   "metadata": {},
   "source": [
    "## Минипроект по статистике 1\n",
    "## Statistics Miniproject 1"
   ]
  },
  {
   "cell_type": "raw",
   "id": "c5135874",
   "metadata": {},
   "source": [
    "Rank – место по объему продаж\n",
    "Name – название игры\n",
    "Platform – платформа, на которой выпущена игра\n",
    "Year – год релиза\n",
    "Genre – жанр\n",
    "Publisher – издатель\n",
    "NA_Sales – продажи в Северной Америке, в млн.\n",
    "EU_Sales – продажи в Европе, в млн.\n",
    "JP_Sales – продажи в Японии, в млн.\n",
    "Other_Sales – продажи в остальном мире, в млн."
   ]
  },
  {
   "cell_type": "raw",
   "id": "84a146a6",
   "metadata": {},
   "source": [
    "Rank - place in terms of sales\n",
    "Name - the name of the game\n",
    "Platform - the platform on which the game was released\n",
    "Year - year of release\n",
    "Genre - genre\n",
    "Publisher - publisher\n",
    "NA_Sales - sales in North America, in mln.\n",
    "EU_Sales - sales in Europe, in mln.\n",
    "JP_Sales - sales in Japan, in mln.\n",
    "Other_Sales - sales in the rest of the world, in mln."
   ]
  },
  {
   "cell_type": "code",
   "execution_count": 206,
   "id": "c26d0806",
   "metadata": {},
   "outputs": [],
   "source": [
    "import pandas as pd\n",
    "import seaborn as sns\n",
    "import matplotlib.pyplot as plt\n",
    "import numpy as np\n",
    "%matplotlib inline\n",
    "games=pd.read_csv('~/games.csv')"
   ]
  },
  {
   "cell_type": "raw",
   "id": "a9d991a6",
   "metadata": {},
   "source": [
    "Вопрос 1\n",
    "В каком столбце встретилось больше всего пропущенных значений? В качестве ответа укажите их число, после чего удалите строки с пропущенными значениями из датасета.\n",
    "Question 1\n",
    "Which column has the most missing values? As an answer, indicate their number, and then remove the rows with missing values from the dataset."
   ]
  },
  {
   "cell_type": "code",
   "execution_count": 207,
   "id": "08db0fb4",
   "metadata": {},
   "outputs": [
    {
     "name": "stdout",
     "output_type": "stream",
     "text": [
      "There are 16598 rows and 11 columns\n",
      "\n",
      "With the following datatypes: \n",
      "\n",
      "Rank              int64\n",
      "Name             object\n",
      "Platform         object\n",
      "Year            float64\n",
      "Genre            object\n",
      "Publisher        object\n",
      "NA_Sales        float64\n",
      "EU_Sales        float64\n",
      "JP_Sales        float64\n",
      "Other_Sales     float64\n",
      "Global_Sales    float64\n",
      "dtype: object\n"
     ]
    }
   ],
   "source": [
    "print('There are {} rows and {} columns\\n'.format(games.shape[0],games.shape[1]))\n",
    "print('With the following datatypes: \\n')\n",
    "print(games.dtypes)"
   ]
  },
  {
   "cell_type": "code",
   "execution_count": 208,
   "id": "5a329341",
   "metadata": {},
   "outputs": [
    {
     "data": {
      "text/plain": [
       "Rank              0\n",
       "Name              0\n",
       "Platform          0\n",
       "Year            271\n",
       "Genre             0\n",
       "Publisher        58\n",
       "NA_Sales          0\n",
       "EU_Sales          0\n",
       "JP_Sales          0\n",
       "Other_Sales       0\n",
       "Global_Sales      0\n",
       "dtype: int64"
      ]
     },
     "execution_count": 208,
     "metadata": {},
     "output_type": "execute_result"
    }
   ],
   "source": [
    "games.isna().sum()"
   ]
  },
  {
   "cell_type": "code",
   "execution_count": 209,
   "id": "a511fb76",
   "metadata": {},
   "outputs": [],
   "source": [
    "games=games.dropna()"
   ]
  },
  {
   "cell_type": "raw",
   "id": "810cb1f7",
   "metadata": {},
   "source": [
    "Вопрос 2\n",
    "Выведите описательные характеристики переменной Year и постройте график распределения количества выпущенных игр по годам.\n",
    "Question 2\n",
    "Display characteristics of variable Year and calculate the distribution of game releases by year."
   ]
  },
  {
   "cell_type": "code",
   "execution_count": 210,
   "id": "73fce137",
   "metadata": {},
   "outputs": [
    {
     "data": {
      "text/plain": [
       "count    16291.000000\n",
       "mean      2006.405561\n",
       "std          5.832412\n",
       "min       1980.000000\n",
       "25%       2003.000000\n",
       "50%       2007.000000\n",
       "75%       2010.000000\n",
       "max       2020.000000\n",
       "Name: Year, dtype: float64"
      ]
     },
     "execution_count": 210,
     "metadata": {},
     "output_type": "execute_result"
    }
   ],
   "source": [
    "games['Year'].describe()"
   ]
  },
  {
   "cell_type": "code",
   "execution_count": 211,
   "id": "29c55e49",
   "metadata": {},
   "outputs": [
    {
     "data": {
      "text/plain": [
       "<seaborn.axisgrid.FacetGrid at 0x7fc6a3d23b10>"
      ]
     },
     "execution_count": 211,
     "metadata": {},
     "output_type": "execute_result"
    },
    {
     "data": {
      "image/png": "[encoded data removed]",
      "text/plain": [
       "<Figure size 360x360 with 1 Axes>"
      ]
     },
     "metadata": {
      "needs_background": "light"
     },
     "output_type": "display_data"
    }
   ],
   "source": [
    "sns.displot(games['Year'], kde=False)"
   ]
  },
  {
   "cell_type": "code",
   "execution_count": 212,
   "id": "57a9d850",
   "metadata": {},
   "outputs": [
    {
     "data": {
      "text/html": [
       "<div>\n",
       "<style scoped>\n",
       "    .dataframe tbody tr th:only-of-type {\n",
       "        vertical-align: middle;\n",
       "    }\n",
       "\n",
       "    .dataframe tbody tr th {\n",
       "        vertical-align: top;\n",
       "    }\n",
       "\n",
       "    .dataframe thead th {\n",
       "        text-align: right;\n",
       "    }\n",
       "</style>\n",
       "<table border=\"1\" class=\"dataframe\">\n",
       "  <thead>\n",
       "    <tr style=\"text-align: right;\">\n",
       "      <th></th>\n",
       "      <th>Rank</th>\n",
       "      <th>Name</th>\n",
       "      <th>Platform</th>\n",
       "      <th>Genre</th>\n",
       "      <th>Publisher</th>\n",
       "      <th>NA_Sales</th>\n",
       "      <th>EU_Sales</th>\n",
       "      <th>JP_Sales</th>\n",
       "      <th>Other_Sales</th>\n",
       "      <th>Global_Sales</th>\n",
       "    </tr>\n",
       "    <tr>\n",
       "      <th>Year</th>\n",
       "      <th></th>\n",
       "      <th></th>\n",
       "      <th></th>\n",
       "      <th></th>\n",
       "      <th></th>\n",
       "      <th></th>\n",
       "      <th></th>\n",
       "      <th></th>\n",
       "      <th></th>\n",
       "      <th></th>\n",
       "    </tr>\n",
       "  </thead>\n",
       "  <tbody>\n",
       "    <tr>\n",
       "      <th>2009.0</th>\n",
       "      <td>1431</td>\n",
       "      <td>1431</td>\n",
       "      <td>1431</td>\n",
       "      <td>1431</td>\n",
       "      <td>1431</td>\n",
       "      <td>1431</td>\n",
       "      <td>1431</td>\n",
       "      <td>1431</td>\n",
       "      <td>1431</td>\n",
       "      <td>1431</td>\n",
       "    </tr>\n",
       "    <tr>\n",
       "      <th>2008.0</th>\n",
       "      <td>1428</td>\n",
       "      <td>1428</td>\n",
       "      <td>1428</td>\n",
       "      <td>1428</td>\n",
       "      <td>1428</td>\n",
       "      <td>1428</td>\n",
       "      <td>1428</td>\n",
       "      <td>1428</td>\n",
       "      <td>1428</td>\n",
       "      <td>1428</td>\n",
       "    </tr>\n",
       "    <tr>\n",
       "      <th>2010.0</th>\n",
       "      <td>1257</td>\n",
       "      <td>1257</td>\n",
       "      <td>1257</td>\n",
       "      <td>1257</td>\n",
       "      <td>1257</td>\n",
       "      <td>1257</td>\n",
       "      <td>1257</td>\n",
       "      <td>1257</td>\n",
       "      <td>1257</td>\n",
       "      <td>1257</td>\n",
       "    </tr>\n",
       "  </tbody>\n",
       "</table>\n",
       "</div>"
      ],
      "text/plain": [
       "        Rank  Name  Platform  Genre  Publisher  NA_Sales  EU_Sales  JP_Sales  \\\n",
       "Year                                                                           \n",
       "2009.0  1431  1431      1431   1431       1431      1431      1431      1431   \n",
       "2008.0  1428  1428      1428   1428       1428      1428      1428      1428   \n",
       "2010.0  1257  1257      1257   1257       1257      1257      1257      1257   \n",
       "\n",
       "        Other_Sales  Global_Sales  \n",
       "Year                               \n",
       "2009.0         1431          1431  \n",
       "2008.0         1428          1428  \n",
       "2010.0         1257          1257  "
      ]
     },
     "execution_count": 212,
     "metadata": {},
     "output_type": "execute_result"
    }
   ],
   "source": [
    "games.groupby(['Year']).count().sort_values('Rank', ascending=False).head(3)"
   ]
  },
  {
   "cell_type": "raw",
   "id": "45d7e39e",
   "metadata": {},
   "source": [
    "Вопрос 3\n",
    "На каких платформах произошло больше всего релизов?\n",
    "Оставьте названия только тех платформ, частота встречаемости которых составляет более 7%. \n",
    "Question 3\n",
    "Which platforms have the most releases?\n",
    "Leave the names of only those platforms whose frequency of occurrence is more than 7%."
   ]
  },
  {
   "cell_type": "code",
   "execution_count": 213,
   "id": "8478270f",
   "metadata": {},
   "outputs": [],
   "source": [
    "grouped_by_platform=games.groupby(['Platform'], as_index=False).count()\n",
    "grouped_by_platform['Total']=grouped_by_platform['Rank'].sum()\n",
    "grouped_by_platform['Share']=round(grouped_by_platform['Rank']/grouped_by_platform['Total'],2)\n",
    "grouped_by_platform_top=grouped_by_platform[grouped_by_platform['Share']>=0.07]. \\\n",
    "                        sort_values('Rank',ascending=False)['Platform'].to_list()"
   ]
  },
  {
   "cell_type": "code",
   "execution_count": 214,
   "id": "e22e0195",
   "metadata": {},
   "outputs": [
    {
     "name": "stdout",
     "output_type": "stream",
     "text": [
      "['DS', 'PS2', 'PS3', 'Wii', 'X360', 'PSP', 'PS']\n"
     ]
    }
   ],
   "source": [
    "print(grouped_by_platform_top)"
   ]
  },
  {
   "cell_type": "raw",
   "id": "6830484c",
   "metadata": {},
   "source": [
    "Вопрос 4\n",
    "Игры каких издателей (Publisher) встречаются в датасете чаще всего?\n",
    "Question 4\n",
    "Games of which publishers (Publisher) are most often found in the dataset?"
   ]
  },
  {
   "cell_type": "code",
   "execution_count": 215,
   "id": "cdb450d5",
   "metadata": {},
   "outputs": [
    {
     "data": {
      "text/html": [
       "<div>\n",
       "<style scoped>\n",
       "    .dataframe tbody tr th:only-of-type {\n",
       "        vertical-align: middle;\n",
       "    }\n",
       "\n",
       "    .dataframe tbody tr th {\n",
       "        vertical-align: top;\n",
       "    }\n",
       "\n",
       "    .dataframe thead th {\n",
       "        text-align: right;\n",
       "    }\n",
       "</style>\n",
       "<table border=\"1\" class=\"dataframe\">\n",
       "  <thead>\n",
       "    <tr style=\"text-align: right;\">\n",
       "      <th></th>\n",
       "      <th>Publisher</th>\n",
       "      <th>Rank</th>\n",
       "      <th>Name</th>\n",
       "      <th>Platform</th>\n",
       "      <th>Year</th>\n",
       "      <th>Genre</th>\n",
       "      <th>NA_Sales</th>\n",
       "      <th>EU_Sales</th>\n",
       "      <th>JP_Sales</th>\n",
       "      <th>Other_Sales</th>\n",
       "      <th>Global_Sales</th>\n",
       "    </tr>\n",
       "  </thead>\n",
       "  <tbody>\n",
       "    <tr>\n",
       "      <th>138</th>\n",
       "      <td>Electronic Arts</td>\n",
       "      <td>1339</td>\n",
       "      <td>1339</td>\n",
       "      <td>1339</td>\n",
       "      <td>1339</td>\n",
       "      <td>1339</td>\n",
       "      <td>1339</td>\n",
       "      <td>1339</td>\n",
       "      <td>1339</td>\n",
       "      <td>1339</td>\n",
       "      <td>1339</td>\n",
       "    </tr>\n",
       "    <tr>\n",
       "      <th>21</th>\n",
       "      <td>Activision</td>\n",
       "      <td>966</td>\n",
       "      <td>966</td>\n",
       "      <td>966</td>\n",
       "      <td>966</td>\n",
       "      <td>966</td>\n",
       "      <td>966</td>\n",
       "      <td>966</td>\n",
       "      <td>966</td>\n",
       "      <td>966</td>\n",
       "      <td>966</td>\n",
       "    </tr>\n",
       "    <tr>\n",
       "      <th>347</th>\n",
       "      <td>Namco Bandai Games</td>\n",
       "      <td>928</td>\n",
       "      <td>928</td>\n",
       "      <td>928</td>\n",
       "      <td>928</td>\n",
       "      <td>928</td>\n",
       "      <td>928</td>\n",
       "      <td>928</td>\n",
       "      <td>928</td>\n",
       "      <td>928</td>\n",
       "      <td>928</td>\n",
       "    </tr>\n",
       "    <tr>\n",
       "      <th>524</th>\n",
       "      <td>Ubisoft</td>\n",
       "      <td>918</td>\n",
       "      <td>918</td>\n",
       "      <td>918</td>\n",
       "      <td>918</td>\n",
       "      <td>918</td>\n",
       "      <td>918</td>\n",
       "      <td>918</td>\n",
       "      <td>918</td>\n",
       "      <td>918</td>\n",
       "      <td>918</td>\n",
       "    </tr>\n",
       "    <tr>\n",
       "      <th>275</th>\n",
       "      <td>Konami Digital Entertainment</td>\n",
       "      <td>823</td>\n",
       "      <td>823</td>\n",
       "      <td>823</td>\n",
       "      <td>823</td>\n",
       "      <td>823</td>\n",
       "      <td>823</td>\n",
       "      <td>823</td>\n",
       "      <td>823</td>\n",
       "      <td>823</td>\n",
       "      <td>823</td>\n",
       "    </tr>\n",
       "  </tbody>\n",
       "</table>\n",
       "</div>"
      ],
      "text/plain": [
       "                        Publisher  Rank  Name  Platform  Year  Genre  \\\n",
       "138               Electronic Arts  1339  1339      1339  1339   1339   \n",
       "21                     Activision   966   966       966   966    966   \n",
       "347            Namco Bandai Games   928   928       928   928    928   \n",
       "524                       Ubisoft   918   918       918   918    918   \n",
       "275  Konami Digital Entertainment   823   823       823   823    823   \n",
       "\n",
       "     NA_Sales  EU_Sales  JP_Sales  Other_Sales  Global_Sales  \n",
       "138      1339      1339      1339         1339          1339  \n",
       "21        966       966       966          966           966  \n",
       "347       928       928       928          928           928  \n",
       "524       918       918       918          918           918  \n",
       "275       823       823       823          823           823  "
      ]
     },
     "execution_count": 215,
     "metadata": {},
     "output_type": "execute_result"
    }
   ],
   "source": [
    "games.groupby(['Publisher'],as_index=False).count(). \\\n",
    "                                sort_values('Rank', ascending=False).head(5)"
   ]
  },
  {
   "cell_type": "raw",
   "id": "2f85411f",
   "metadata": {},
   "source": [
    "Вопрос 5\n",
    "Сфокусируемся на играх от Nintendo. Посчитайте среднее, медиану и стандартное отклонение по продажам игр данного издателя в разных регионах (NA, EU, JP, Other). \n",
    "В каком регионе медианное значение объема продаж является наибольшим?\n",
    "Question 5\n",
    "Let's focus on games from Nintendo. Calculate the mean, median and standard deviation of sales of games from a given publisher in different regions (NA, EU, JP, Other).\n",
    "Which region has the highest median sales volume?"
   ]
  },
  {
   "cell_type": "code",
   "execution_count": 216,
   "id": "f42ad346",
   "metadata": {},
   "outputs": [
    {
     "data": {
      "text/plain": [
       "array(['Nintendo', 'Microsoft Game Studios', 'Take-Two Interactive',\n",
       "       'Sony Computer Entertainment', 'Activision', 'Ubisoft',\n",
       "       'Bethesda Softworks', 'Electronic Arts', 'Sega', 'SquareSoft',\n",
       "       'Atari', '505 Games', 'Capcom', 'GT Interactive',\n",
       "       'Konami Digital Entertainment',\n",
       "       'Sony Computer Entertainment Europe', 'Square Enix', 'LucasArts',\n",
       "       'Virgin Interactive', 'Warner Bros. Interactive Entertainment',\n",
       "       'Universal Interactive', 'Eidos Interactive', 'RedOctane',\n",
       "       'Vivendi Games', 'Enix Corporation', 'Namco Bandai Games',\n",
       "       'Palcom', 'Hasbro Interactive', 'THQ', 'Fox Interactive',\n",
       "       'Acclaim Entertainment', 'MTV Games', 'Disney Interactive Studios',\n",
       "       'Majesco Entertainment', 'Codemasters', 'Red Orb', 'Level 5',\n",
       "       'Arena Entertainment', 'Midway Games', 'JVC', 'Deep Silver',\n",
       "       '989 Studios', 'NCSoft', 'UEP Systems', 'Parker Bros.', 'Maxis',\n",
       "       'Imagic', 'Tecmo Koei', 'Valve Software', 'ASCII Entertainment',\n",
       "       'Mindscape', 'Infogrames', 'Unknown', 'Square', 'Valve',\n",
       "       'Activision Value', 'Banpresto', 'D3Publisher',\n",
       "       'Oxygen Interactive', 'Red Storm Entertainment', 'Video System',\n",
       "       'Hello Games', 'Global Star', 'Gotham Games', 'Westwood Studios',\n",
       "       'GungHo', 'Crave Entertainment', 'Hudson Soft', 'Coleco',\n",
       "       'Rising Star Games', 'Atlus', 'TDK Mediactive', 'ASC Games',\n",
       "       'Zoo Games', 'Accolade', 'Sony Online Entertainment', '3DO', 'RTL',\n",
       "       'Natsume', 'Focus Home Interactive', 'Alchemist',\n",
       "       'Black Label Games', 'SouthPeak Games', 'Mastertronic', 'Ocean',\n",
       "       'Zoo Digital Publishing', 'Psygnosis', 'City Interactive',\n",
       "       'Empire Interactive', 'Success', 'Compile', 'Russel', 'Taito',\n",
       "       'Agetec', 'GSP', 'Microprose', 'Play It', 'Slightly Mad Studios',\n",
       "       'Tomy Corporation', 'Sammy Corporation', 'Koch Media',\n",
       "       'Game Factory', 'Titus', 'Marvelous Entertainment', 'Genki',\n",
       "       'Mojang', 'Pinnacle', 'CTO SpA', 'TalonSoft', 'Crystal Dynamics',\n",
       "       'SCi', 'Quelle', 'mixi, Inc', 'Rage Software', 'Ubisoft Annecy',\n",
       "       'Scholastic Inc.', 'Interplay', 'Mystique', 'ChunSoft',\n",
       "       'Square EA', '20th Century Fox Video Games', 'Avanquest Software',\n",
       "       'Hudson Entertainment', 'Nordic Games', 'Men-A-Vision', 'Nobilis',\n",
       "       'Big Ben Interactive', 'Touchstone', 'Spike', 'Jester Interactive',\n",
       "       'Nippon Ichi Software', 'LEGO Media', 'Quest',\n",
       "       'Illusion Softworks', 'Tigervision', 'Funbox Media',\n",
       "       'Rocket Company', 'Metro 3D', 'Mattel Interactive', 'IE Institute',\n",
       "       'Rondomedia', 'Sony Computer Entertainment America',\n",
       "       'Universal Gamex', 'Ghostlight', 'Wizard Video Games',\n",
       "       'BMG Interactive Entertainment', 'PQube', 'Trion Worlds', 'Laguna',\n",
       "       'Ignition Entertainment', 'Takara', 'Kadokawa Shoten', 'Destineer',\n",
       "       'Enterbrain', 'Xseed Games', 'Imagineer',\n",
       "       'System 3 Arcade Software', 'CPG Products', 'Aruze Corp',\n",
       "       'Gamebridge', 'Midas Interactive Entertainment', 'Jaleco',\n",
       "       'Answer Software', 'XS Games', 'Activision Blizzard',\n",
       "       'Pack In Soft', 'Rebellion', 'Xplosiv', 'GameMill Entertainment',\n",
       "       'Wanadoo', 'NovaLogic', 'Telltale Games', 'Epoch',\n",
       "       'BAM! Entertainment', 'Knowledge Adventure', 'Mastiff',\n",
       "       'Tetris Online', 'Harmonix Music Systems', 'ESP', 'TYO',\n",
       "       'Telegames', 'Mud Duck Productions', 'Screenlife', 'Pioneer LDC',\n",
       "       'Magical Company', 'Mentor Interactive', 'Kemco',\n",
       "       'Human Entertainment', 'Avanquest', 'Data Age',\n",
       "       'Electronic Arts Victor', 'Black Bean Games', 'Jack of All Games',\n",
       "       '989 Sports', 'Takara Tomy', 'Media Rings', 'Elf', 'Starfish',\n",
       "       'Zushi Games', 'Jorudan', 'Destination Software, Inc', 'New',\n",
       "       'Brash Entertainment', 'ITT Family Games', 'PopCap Games',\n",
       "       'Home Entertainment Suppliers', 'Ackkstudios', 'Starpath Corp.',\n",
       "       'P2 Games', 'BPS', 'Gathering of Developers', 'NewKidCo',\n",
       "       'Storm City Games', 'CokeM Interactive', 'CBS Electronics',\n",
       "       'Magix', 'Marvelous Interactive', 'Kalypso Media',\n",
       "       'Nihon Falcom Corporation', 'Wargaming.net', 'Angel Studios',\n",
       "       'Arc System Works', 'Playmates', 'SNK Playmore',\n",
       "       'Hamster Corporation', 'From Software', 'Nippon Columbia',\n",
       "       'Nichibutsu', 'Little Orbit', 'Conspiracy Entertainment',\n",
       "       'DTP Entertainment', 'Hect', 'Mumbo Jumbo',\n",
       "       'Pacific Century Cyber Works', 'Indie Games', 'Liquid Games',\n",
       "       'NEC', 'Axela', 'ArtDink', 'Sunsoft', 'Gust', 'SNK',\n",
       "       'NEC Interchannel', 'FuRyu', 'Xing Entertainment', 'ValuSoft',\n",
       "       'Victor Interactive', 'Detn8 Games', 'American Softworks',\n",
       "       'Nordcurrent', 'Bomb', 'Falcom Corporation', 'AQ Interactive',\n",
       "       'CCP', 'Milestone S.r.l.', 'JoWood Productions',\n",
       "       'Seta Corporation', 'On Demand', 'NCS', 'Aspyr',\n",
       "       'Gremlin Interactive Ltd', 'Agatsuma Entertainment',\n",
       "       'Compile Heart', 'Culture Brain', 'Mad Catz', 'Shogakukan',\n",
       "       'Merscom LLC', 'Rebellion Developments', 'Nippon Telenet',\n",
       "       'TDK Core', 'bitComposer Games', 'Foreign Media Games', 'Astragon',\n",
       "       'SSI', 'Kadokawa Games', 'Idea Factory',\n",
       "       'Performance Designed Products', 'Asylum Entertainment',\n",
       "       'Core Design Ltd.', 'PlayV', 'UFO Interactive',\n",
       "       'Idea Factory International', 'Playlogic Game Factory',\n",
       "       'Essential Games', 'Adeline Software', 'Funcom',\n",
       "       'Panther Software', 'Blast! Entertainment Ltd', 'Game Life',\n",
       "       'DSI Games', 'Avalon Interactive', 'Popcorn Arcade',\n",
       "       'Neko Entertainment', 'Vir2L Studios', 'Aques', 'Syscom',\n",
       "       'White Park Bay Software', 'System 3', 'Vatical Entertainment',\n",
       "       'Daedalic', 'EA Games', 'Media Factory', 'Vic Tokai',\n",
       "       'The Adventure Company', 'Game Arts', 'Broccoli', 'Acquire',\n",
       "       'General Entertainment', 'Excalibur Publishing', 'Imadio',\n",
       "       'Swing! Entertainment', 'Sony Music Entertainment', 'Aqua Plus',\n",
       "       'Paradox Interactive', 'Hip Interactive',\n",
       "       'DreamCatcher Interactive', 'Tripwire Interactive', 'Sting',\n",
       "       'Yacht Club Games', 'SCS Software', 'Bigben Interactive',\n",
       "       'Havas Interactive', 'Slitherine Software', 'Graffiti', 'Funsta',\n",
       "       'Telstar', 'U.S. Gold', 'DreamWorks Interactive',\n",
       "       'Data Design Interactive', 'MTO', 'DHM Interactive', 'FunSoft',\n",
       "       'SPS', 'Bohemia Interactive', 'Reef Entertainment',\n",
       "       'Tru Blu Entertainment', 'Moss', 'T&E Soft', 'O-Games',\n",
       "       'Aksys Games', 'NDA Productions', 'Data East',\n",
       "       'Time Warner Interactive', 'Gainax Network Systems', 'Daito',\n",
       "       'O3 Entertainment', 'Gameloft', 'Xicat Interactive',\n",
       "       'Simon & Schuster Interactive', 'Valcon Games', 'PopTop Software',\n",
       "       'TOHO', 'HMH Interactive', '5pb', 'Cave',\n",
       "       'CDV Software Entertainment', 'Microids', 'PM Studios', 'Paon',\n",
       "       'Micro Cabin', 'GameTek', 'Benesse', 'Type-Moon',\n",
       "       'Enjoy Gaming ltd.', 'Asmik Corp', 'Interplay Productions',\n",
       "       'Asmik Ace Entertainment', 'inXile Entertainment', 'Image Epoch',\n",
       "       'Phantom EFX', 'Evolved Games', 'responDESIGN',\n",
       "       'Culture Publishers', 'Griffin International', 'Hackberry',\n",
       "       'Hearty Robin', 'Nippon Amuse', 'Origin Systems', 'Seventh Chord',\n",
       "       'Mitsui', 'Milestone', 'Abylight', 'Flight-Plan', 'Glams', 'Locus',\n",
       "       'Warp', 'Daedalic Entertainment', 'Alternative Software',\n",
       "       'Myelin Media', 'Mercury Games', 'Irem Software Engineering',\n",
       "       'Sunrise Interactive', 'Elite', 'Evolution Games', 'Tivola',\n",
       "       'Global A Entertainment', 'Edia', 'Athena', 'Aria', 'Gamecock',\n",
       "       'Tommo', 'Altron', 'Happinet', 'iWin', 'Media Works', 'Fortyfive',\n",
       "       'Revolution Software', 'Imax', 'Crimson Cow', '10TACLE Studios',\n",
       "       'Groove Games', 'Pack-In-Video', 'Insomniac Games',\n",
       "       'Ascaron Entertainment GmbH', 'Asgard', 'Ecole', 'Yumedia',\n",
       "       'Phenomedia', 'HAL Laboratory', 'Grand Prix Games', 'DigiCube',\n",
       "       'Creative Core', 'Kaga Create', 'WayForward Technologies',\n",
       "       'LSP Games', 'ASCII Media Works', 'Coconuts Japan', 'Arika',\n",
       "       'Ertain', 'Marvel Entertainment', 'Prototype', 'Phantagram',\n",
       "       '1C Company', 'The Learning Company', 'TechnoSoft', 'Vap',\n",
       "       'Misawa', 'Tradewest', 'Team17 Software', 'Yeti', 'Pow',\n",
       "       'Navarre Corp', 'MediaQuest', 'Max Five', 'Comfort',\n",
       "       'Monte Christo Multimedia', 'Pony Canyon', 'Riverhillsoft',\n",
       "       'Summitsoft', 'Milestone S.r.l', 'Playmore', 'MLB.com',\n",
       "       'Kool Kizz', 'Flashpoint Games', '49Games', 'Legacy Interactive',\n",
       "       'Alawar Entertainment', 'CyberFront',\n",
       "       'Cloud Imperium Games Corporation', 'Societa',\n",
       "       'Virtual Play Games', 'Interchannel', 'Sonnet', 'Experience Inc.',\n",
       "       'Zenrin', 'Iceberg Interactive', 'Ivolgamus', '2D Boy',\n",
       "       'MC2 Entertainment', 'Kando Games', 'Just Flight', 'Office Create',\n",
       "       'Mamba Games', 'Fields', 'Princess Soft', 'Maximum Family Games',\n",
       "       'Berkeley', 'Fuji', 'Dusenberry Martin Racing', 'imageepoch Inc.',\n",
       "       'Big Fish Games', 'Her Interactive', 'Kamui', 'ASK',\n",
       "       'TopWare Interactive', 'Headup Games', 'KSS', 'Cygames', 'KID',\n",
       "       'Quinrose', 'Sunflowers', 'dramatic create', 'TGL', 'Encore',\n",
       "       'Extreme Entertainment Group', 'Intergrow', 'G.Rev', 'Sweets',\n",
       "       'Kokopeli Digital Studios', 'Number None', 'Nexon', 'id Software',\n",
       "       'BushiRoad', 'Tryfirst', 'Strategy First', '7G//AMES',\n",
       "       'GN Software', \"Yuke's\", 'Easy Interactive', 'Licensed 4U',\n",
       "       'FuRyu Corporation', 'Lexicon Entertainment', 'Paon Corporation',\n",
       "       'Kids Station', 'GOA', 'Graphsim Entertainment', 'King Records',\n",
       "       'Introversion Software', 'Minato Station', 'Devolver Digital',\n",
       "       'Blue Byte', 'Gaga', 'Yamasa Entertainment', 'Plenty', 'Views',\n",
       "       'fonfun', 'NetRevo', 'Codemasters Online', 'Quintet',\n",
       "       'Phoenix Games', 'Dorart', 'Marvelous Games', 'Focus Multimedia',\n",
       "       'Imageworks', 'Karin Entertainment', 'Aerosoft',\n",
       "       'Technos Japan Corporation', 'Gakken', 'Mirai Shounen',\n",
       "       'Datam Polystar', 'Saurus', 'HuneX', 'Revolution (Japan)',\n",
       "       'Giza10', 'Visco', 'Alvion', 'Mycom', 'Giga', 'Warashi',\n",
       "       'System Soft', 'Sold Out', 'Lighthouse Interactive',\n",
       "       'Masque Publishing', 'RED Entertainment', 'Michaelsoft',\n",
       "       'Media Entertainment', 'New World Computing', 'Genterprise',\n",
       "       'Interworks Unlimited, Inc.', 'Boost On', 'Stainless Games',\n",
       "       'EON Digital Entertainment', 'Epic Games', 'Naxat Soft',\n",
       "       'Ascaron Entertainment', 'Piacci', 'Nitroplus',\n",
       "       'Paradox Development', 'Otomate', 'Ongakukan', 'Commseed',\n",
       "       'Inti Creates', 'Takuyo', 'Interchannel-Holon', 'Rain Games',\n",
       "       'UIG Entertainment'], dtype=object)"
      ]
     },
     "execution_count": 216,
     "metadata": {},
     "output_type": "execute_result"
    }
   ],
   "source": [
    "games['Publisher'].unique()"
   ]
  },
  {
   "cell_type": "code",
   "execution_count": 217,
   "id": "a33e32d0",
   "metadata": {},
   "outputs": [
    {
     "data": {
      "text/html": [
       "<div>\n",
       "<style scoped>\n",
       "    .dataframe tbody tr th:only-of-type {\n",
       "        vertical-align: middle;\n",
       "    }\n",
       "\n",
       "    .dataframe tbody tr th {\n",
       "        vertical-align: top;\n",
       "    }\n",
       "\n",
       "    .dataframe thead th {\n",
       "        text-align: right;\n",
       "    }\n",
       "</style>\n",
       "<table border=\"1\" class=\"dataframe\">\n",
       "  <thead>\n",
       "    <tr style=\"text-align: right;\">\n",
       "      <th></th>\n",
       "      <th>NA_Sales</th>\n",
       "      <th>EU_Sales</th>\n",
       "      <th>JP_Sales</th>\n",
       "      <th>Other_Sales</th>\n",
       "    </tr>\n",
       "  </thead>\n",
       "  <tbody>\n",
       "    <tr>\n",
       "      <th>count</th>\n",
       "      <td>696.000000</td>\n",
       "      <td>696.000000</td>\n",
       "      <td>696.000000</td>\n",
       "      <td>696.000000</td>\n",
       "    </tr>\n",
       "    <tr>\n",
       "      <th>mean</th>\n",
       "      <td>1.172055</td>\n",
       "      <td>0.601006</td>\n",
       "      <td>0.653721</td>\n",
       "      <td>0.136767</td>\n",
       "    </tr>\n",
       "    <tr>\n",
       "      <th>std</th>\n",
       "      <td>2.989913</td>\n",
       "      <td>1.743953</td>\n",
       "      <td>1.063110</td>\n",
       "      <td>0.464170</td>\n",
       "    </tr>\n",
       "    <tr>\n",
       "      <th>min</th>\n",
       "      <td>0.000000</td>\n",
       "      <td>0.000000</td>\n",
       "      <td>0.000000</td>\n",
       "      <td>0.000000</td>\n",
       "    </tr>\n",
       "    <tr>\n",
       "      <th>25%</th>\n",
       "      <td>0.010000</td>\n",
       "      <td>0.007500</td>\n",
       "      <td>0.090000</td>\n",
       "      <td>0.000000</td>\n",
       "    </tr>\n",
       "    <tr>\n",
       "      <th>50%</th>\n",
       "      <td>0.375000</td>\n",
       "      <td>0.120000</td>\n",
       "      <td>0.280000</td>\n",
       "      <td>0.030000</td>\n",
       "    </tr>\n",
       "    <tr>\n",
       "      <th>75%</th>\n",
       "      <td>0.972500</td>\n",
       "      <td>0.482500</td>\n",
       "      <td>0.740000</td>\n",
       "      <td>0.090000</td>\n",
       "    </tr>\n",
       "    <tr>\n",
       "      <th>max</th>\n",
       "      <td>41.490000</td>\n",
       "      <td>29.020000</td>\n",
       "      <td>10.220000</td>\n",
       "      <td>8.460000</td>\n",
       "    </tr>\n",
       "  </tbody>\n",
       "</table>\n",
       "</div>"
      ],
      "text/plain": [
       "         NA_Sales    EU_Sales    JP_Sales  Other_Sales\n",
       "count  696.000000  696.000000  696.000000   696.000000\n",
       "mean     1.172055    0.601006    0.653721     0.136767\n",
       "std      2.989913    1.743953    1.063110     0.464170\n",
       "min      0.000000    0.000000    0.000000     0.000000\n",
       "25%      0.010000    0.007500    0.090000     0.000000\n",
       "50%      0.375000    0.120000    0.280000     0.030000\n",
       "75%      0.972500    0.482500    0.740000     0.090000\n",
       "max     41.490000   29.020000   10.220000     8.460000"
      ]
     },
     "execution_count": 217,
     "metadata": {},
     "output_type": "execute_result"
    }
   ],
   "source": [
    "nintendo_games=games.query('Publisher==\"Nintendo\"')\n",
    "NA_Sales=pd.DataFrame(nintendo_games['NA_Sales'].describe())\n",
    "EU_Sales=pd.DataFrame(nintendo_games['EU_Sales'].describe())\n",
    "JP_Sales=pd.DataFrame(nintendo_games['JP_Sales'].describe())\n",
    "Other_Sales=pd.DataFrame(nintendo_games['Other_Sales'].describe())\n",
    "nintendo_summary=pd.concat([NA_Sales, EU_Sales,JP_Sales, Other_Sales],axis=1)\n",
    "nintendo_summary"
   ]
  },
  {
   "cell_type": "raw",
   "id": "125fb515",
   "metadata": {},
   "source": [
    "Вопрос 6\n",
    "Теперь посмотрим на продажи Nintendo в Японии по жанрам. Постройте боксплот, где:\n",
    "по оси x будет расположен жанр игры (Genre)\n",
    "по оси у – объем продаж в Японии (JP_sales)\n",
    "Question 6\n",
    "Now let's look at Nintendo sales in Japan by genre. Build a boxplot where:\n",
    "the x-axis will be the genre of the game (Genre)\n",
    "on the y-axis - sales in Japan (JP_sales)"
   ]
  },
  {
   "cell_type": "code",
   "execution_count": 218,
   "id": "09c92438",
   "metadata": {},
   "outputs": [
    {
     "data": {
      "text/plain": [
       "<AxesSubplot:xlabel='Genre', ylabel='JP_Sales'>"
      ]
     },
     "execution_count": 218,
     "metadata": {},
     "output_type": "execute_result"
    },
    {
     "data": {
      "image/png": "[encoded data removed]",
      "text/plain": [
       "<Figure size 1152x576 with 1 Axes>"
      ]
     },
     "metadata": {
      "needs_background": "light"
     },
     "output_type": "display_data"
    }
   ],
   "source": [
    "plt.figure(figsize=(16,8))\n",
    "sns.boxplot(x='Genre',y='JP_Sales', data=nintendo_games)"
   ]
  },
  {
   "cell_type": "raw",
   "id": "35c79622",
   "metadata": {},
   "source": [
    "Вопрос 7\n",
    "Визуализируйте динамику изменения объема мировых продаж (Global_Sales) по годам\n",
    "для игр Nintendo следующих жанров: Fighting, Simulation, Platform, Racing, Sports.\n",
    "Question 7\n",
    "Visualize the dynamics of changes in the volume of global sales (Global_Sales) by years\n",
    "for Nintendo games of the following genres: Fighting, Simulation, Platform, Racing, Sports."
   ]
  },
  {
   "cell_type": "code",
   "execution_count": 219,
   "id": "8190e1ee",
   "metadata": {},
   "outputs": [],
   "source": [
    "nintendo_games=nintendo_games.query('Genre==\"Fighting\" | Genre==\"Simulation\" | Genre==\"Platform\"| Genre==\"Racing\" | Genre==\"Sports\"')"
   ]
  },
  {
   "cell_type": "code",
   "execution_count": 220,
   "id": "d1c91eec",
   "metadata": {},
   "outputs": [],
   "source": [
    "nintendo_games_by_genre=nintendo_games.groupby(['Genre','Year'],as_index=False).sum()"
   ]
  },
  {
   "cell_type": "code",
   "execution_count": 221,
   "id": "e589dc3f",
   "metadata": {},
   "outputs": [
    {
     "data": {
      "text/plain": [
       "<AxesSubplot:xlabel='Year', ylabel='Global_Sales'>"
      ]
     },
     "execution_count": 221,
     "metadata": {},
     "output_type": "execute_result"
    },
    {
     "data": {
      "image/png": "[encoded data removed]",
      "text/plain": [
       "<Figure size 1152x576 with 1 Axes>"
      ]
     },
     "metadata": {
      "needs_background": "light"
     },
     "output_type": "display_data"
    }
   ],
   "source": [
    "plt.figure(figsize=(16,8))\n",
    "sns.scatterplot(x='Year',y='Global_Sales', data=nintendo_games_by_genre, hue='Genre')"
   ]
  }
 ],
 "metadata": {
  "kernelspec": {
   "display_name": "Python 3",
   "language": "python",
   "name": "python3"
  },
  "language_info": {
   "codemirror_mode": {
    "name": "ipython",
    "version": 3
   },
   "file_extension": ".py",
   "mimetype": "text/x-python",
   "name": "python",
   "nbconvert_exporter": "python",
   "pygments_lexer": "ipython3",
   "version": "3.7.4"
  }
 },
 "nbformat": 4,
 "nbformat_minor": 5
}
