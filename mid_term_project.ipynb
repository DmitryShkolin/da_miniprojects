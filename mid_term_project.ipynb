{
 "cells": [
  {
   "cell_type": "markdown",
   "id": "765de0a4",
   "metadata": {},
   "source": [
    "<div align=\"center\"> <b> Mid-term project </b></div>\n",
    "<div align=\"center\"> <b> Промежуточный проект </b></div>"
   ]
  },
  {
   "cell_type": "code",
   "execution_count": 208,
   "id": "0d7d2d76",
   "metadata": {},
   "outputs": [],
   "source": [
    "import pandas as pd\n",
    "import matplotlib.pyplot as plt\n",
    "import seaborn as sns\n",
    "import numpy as np\n",
    "%matplotlib inline"
   ]
  },
  {
   "cell_type": "code",
   "execution_count": 209,
   "id": "f38338d0",
   "metadata": {},
   "outputs": [],
   "source": [
    "customers=pd.read_csv('/Users/dmitry/Downloads/olist_customers_dataset.csv')\n",
    "orders=pd.read_csv('/Users/dmitry/Downloads/olist_orders_dataset.csv')\n",
    "order_items=pd.read_csv('/Users/dmitry/Downloads/olist_order_items_dataset.csv')"
   ]
  },
  {
   "cell_type": "markdown",
   "id": "b46f3aff",
   "metadata": {},
   "source": [
    "## Pre-work "
   ]
  },
  {
   "cell_type": "markdown",
   "id": "5300faaf",
   "metadata": {},
   "source": [
    "Let's have a look at all 3 dataframes <br>\n",
    "Посмотрим на все 3 датафрейма"
   ]
  },
  {
   "cell_type": "markdown",
   "id": "afec806e",
   "metadata": {},
   "source": [
    "**customers** - таблица с уникальными идентификаторами пользователей"
   ]
  },
  {
   "cell_type": "code",
   "execution_count": 210,
   "id": "8e01ed58",
   "metadata": {},
   "outputs": [
    {
     "data": {
      "text/html": [
       "<div>\n",
       "<style scoped>\n",
       "    .dataframe tbody tr th:only-of-type {\n",
       "        vertical-align: middle;\n",
       "    }\n",
       "\n",
       "    .dataframe tbody tr th {\n",
       "        vertical-align: top;\n",
       "    }\n",
       "\n",
       "    .dataframe thead th {\n",
       "        text-align: right;\n",
       "    }\n",
       "</style>\n",
       "<table border=\"1\" class=\"dataframe\">\n",
       "  <thead>\n",
       "    <tr style=\"text-align: right;\">\n",
       "      <th></th>\n",
       "      <th>customer_id</th>\n",
       "      <th>customer_unique_id</th>\n",
       "      <th>customer_zip_code_prefix</th>\n",
       "      <th>customer_city</th>\n",
       "      <th>customer_state</th>\n",
       "    </tr>\n",
       "  </thead>\n",
       "  <tbody>\n",
       "    <tr>\n",
       "      <th>0</th>\n",
       "      <td>06b8999e2fba1a1fbc88172c00ba8bc7</td>\n",
       "      <td>861eff4711a542e4b93843c6dd7febb0</td>\n",
       "      <td>14409</td>\n",
       "      <td>franca</td>\n",
       "      <td>SP</td>\n",
       "    </tr>\n",
       "    <tr>\n",
       "      <th>1</th>\n",
       "      <td>18955e83d337fd6b2def6b18a428ac77</td>\n",
       "      <td>290c77bc529b7ac935b93aa66c333dc3</td>\n",
       "      <td>9790</td>\n",
       "      <td>sao bernardo do campo</td>\n",
       "      <td>SP</td>\n",
       "    </tr>\n",
       "    <tr>\n",
       "      <th>2</th>\n",
       "      <td>4e7b3e00288586ebd08712fdd0374a03</td>\n",
       "      <td>060e732b5b29e8181a18229c7b0b2b5e</td>\n",
       "      <td>1151</td>\n",
       "      <td>sao paulo</td>\n",
       "      <td>SP</td>\n",
       "    </tr>\n",
       "  </tbody>\n",
       "</table>\n",
       "</div>"
      ],
      "text/plain": [
       "                        customer_id                customer_unique_id  \\\n",
       "0  06b8999e2fba1a1fbc88172c00ba8bc7  861eff4711a542e4b93843c6dd7febb0   \n",
       "1  18955e83d337fd6b2def6b18a428ac77  290c77bc529b7ac935b93aa66c333dc3   \n",
       "2  4e7b3e00288586ebd08712fdd0374a03  060e732b5b29e8181a18229c7b0b2b5e   \n",
       "\n",
       "   customer_zip_code_prefix          customer_city customer_state  \n",
       "0                     14409                 franca             SP  \n",
       "1                      9790  sao bernardo do campo             SP  \n",
       "2                      1151              sao paulo             SP  "
      ]
     },
     "execution_count": 210,
     "metadata": {},
     "output_type": "execute_result"
    }
   ],
   "source": [
    "customers.head(3)"
   ]
  },
  {
   "cell_type": "markdown",
   "id": "642c9345",
   "metadata": {},
   "source": [
    "**customer_id** — позаказный идентификатор пользователя <br>\n",
    "**customer_unique_id** —  уникальный идентификатор пользователя  (аналог номера паспорта)<br>\n",
    "**customer_zip_code_prefix** —  почтовый индекс пользователя<br>\n",
    "**customer_city** —  город доставки пользователя<br>\n",
    "**customer_state** —  штат доставки пользователя<br>"
   ]
  },
  {
   "cell_type": "code",
   "execution_count": 211,
   "id": "0b884e6e",
   "metadata": {},
   "outputs": [
    {
     "data": {
      "text/plain": [
       "customer_id                 object\n",
       "customer_unique_id          object\n",
       "customer_zip_code_prefix     int64\n",
       "customer_city               object\n",
       "customer_state              object\n",
       "dtype: object"
      ]
     },
     "execution_count": 211,
     "metadata": {},
     "output_type": "execute_result"
    }
   ],
   "source": [
    "customers.dtypes"
   ]
  },
  {
   "cell_type": "markdown",
   "id": "e360ce5a",
   "metadata": {},
   "source": [
    "**orders** - таблица заказов"
   ]
  },
  {
   "cell_type": "code",
   "execution_count": 212,
   "id": "42138c40",
   "metadata": {},
   "outputs": [
    {
     "data": {
      "text/html": [
       "<div>\n",
       "<style scoped>\n",
       "    .dataframe tbody tr th:only-of-type {\n",
       "        vertical-align: middle;\n",
       "    }\n",
       "\n",
       "    .dataframe tbody tr th {\n",
       "        vertical-align: top;\n",
       "    }\n",
       "\n",
       "    .dataframe thead th {\n",
       "        text-align: right;\n",
       "    }\n",
       "</style>\n",
       "<table border=\"1\" class=\"dataframe\">\n",
       "  <thead>\n",
       "    <tr style=\"text-align: right;\">\n",
       "      <th></th>\n",
       "      <th>order_id</th>\n",
       "      <th>customer_id</th>\n",
       "      <th>order_status</th>\n",
       "      <th>order_purchase_timestamp</th>\n",
       "      <th>order_approved_at</th>\n",
       "      <th>order_delivered_carrier_date</th>\n",
       "      <th>order_delivered_customer_date</th>\n",
       "      <th>order_estimated_delivery_date</th>\n",
       "    </tr>\n",
       "  </thead>\n",
       "  <tbody>\n",
       "    <tr>\n",
       "      <th>0</th>\n",
       "      <td>e481f51cbdc54678b7cc49136f2d6af7</td>\n",
       "      <td>9ef432eb6251297304e76186b10a928d</td>\n",
       "      <td>delivered</td>\n",
       "      <td>2017-10-02 10:56:33</td>\n",
       "      <td>2017-10-02 11:07:15</td>\n",
       "      <td>2017-10-04 19:55:00</td>\n",
       "      <td>2017-10-10 21:25:13</td>\n",
       "      <td>2017-10-18 00:00:00</td>\n",
       "    </tr>\n",
       "    <tr>\n",
       "      <th>1</th>\n",
       "      <td>53cdb2fc8bc7dce0b6741e2150273451</td>\n",
       "      <td>b0830fb4747a6c6d20dea0b8c802d7ef</td>\n",
       "      <td>delivered</td>\n",
       "      <td>2018-07-24 20:41:37</td>\n",
       "      <td>2018-07-26 03:24:27</td>\n",
       "      <td>2018-07-26 14:31:00</td>\n",
       "      <td>2018-08-07 15:27:45</td>\n",
       "      <td>2018-08-13 00:00:00</td>\n",
       "    </tr>\n",
       "    <tr>\n",
       "      <th>2</th>\n",
       "      <td>47770eb9100c2d0c44946d9cf07ec65d</td>\n",
       "      <td>41ce2a54c0b03bf3443c3d931a367089</td>\n",
       "      <td>delivered</td>\n",
       "      <td>2018-08-08 08:38:49</td>\n",
       "      <td>2018-08-08 08:55:23</td>\n",
       "      <td>2018-08-08 13:50:00</td>\n",
       "      <td>2018-08-17 18:06:29</td>\n",
       "      <td>2018-09-04 00:00:00</td>\n",
       "    </tr>\n",
       "  </tbody>\n",
       "</table>\n",
       "</div>"
      ],
      "text/plain": [
       "                           order_id                       customer_id  \\\n",
       "0  e481f51cbdc54678b7cc49136f2d6af7  9ef432eb6251297304e76186b10a928d   \n",
       "1  53cdb2fc8bc7dce0b6741e2150273451  b0830fb4747a6c6d20dea0b8c802d7ef   \n",
       "2  47770eb9100c2d0c44946d9cf07ec65d  41ce2a54c0b03bf3443c3d931a367089   \n",
       "\n",
       "  order_status order_purchase_timestamp    order_approved_at  \\\n",
       "0    delivered      2017-10-02 10:56:33  2017-10-02 11:07:15   \n",
       "1    delivered      2018-07-24 20:41:37  2018-07-26 03:24:27   \n",
       "2    delivered      2018-08-08 08:38:49  2018-08-08 08:55:23   \n",
       "\n",
       "  order_delivered_carrier_date order_delivered_customer_date  \\\n",
       "0          2017-10-04 19:55:00           2017-10-10 21:25:13   \n",
       "1          2018-07-26 14:31:00           2018-08-07 15:27:45   \n",
       "2          2018-08-08 13:50:00           2018-08-17 18:06:29   \n",
       "\n",
       "  order_estimated_delivery_date  \n",
       "0           2017-10-18 00:00:00  \n",
       "1           2018-08-13 00:00:00  \n",
       "2           2018-09-04 00:00:00  "
      ]
     },
     "execution_count": 212,
     "metadata": {},
     "output_type": "execute_result"
    }
   ],
   "source": [
    "orders.head(3)"
   ]
  },
  {
   "cell_type": "markdown",
   "id": "d5b3112d",
   "metadata": {},
   "source": [
    "**order_id** —  уникальный идентификатор заказа (номер чека) <br>\n",
    "**customer_id** —  позаказный идентификатор пользователя <br>\n",
    "**order_status** —  статус заказа <br>\n",
    "**order_purchase_timestamp** —  время создания заказа<br>\n",
    "**order_approved_at** —  время подтверждения оплаты заказа<br>\n",
    "**order_delivered_carrier_date** —  время передачи заказа в логистическую службу<br>\n",
    "**order_delivered_customer_date** —  время доставки заказа<br>\n",
    "**order_estimated_delivery_date** —  обещанная дата доставки<br>"
   ]
  },
  {
   "cell_type": "markdown",
   "id": "8685bb25",
   "metadata": {},
   "source": [
    "Column names are too long - let's drop \"order_\" from (supposed) datetime columns <br>\n",
    "Названия некоторых столбцов слишком длинные - уберем \"order_\" из них"
   ]
  },
  {
   "cell_type": "code",
   "execution_count": 213,
   "id": "743b2d64",
   "metadata": {},
   "outputs": [],
   "source": [
    "old_names=orders.columns.to_list()\n",
    "new_names=[]\n",
    "for i in old_names:\n",
    "    if (i!='order_id') & (i!='order_status'):\n",
    "        new_names.append(i.replace('order_',''))\n",
    "    else:\n",
    "        new_names.append(i)\n",
    "orders=orders.rename(columns=dict(zip(old_names,new_names)))"
   ]
  },
  {
   "cell_type": "code",
   "execution_count": 214,
   "id": "2c616756",
   "metadata": {},
   "outputs": [
    {
     "data": {
      "text/plain": [
       "order_id                   object\n",
       "customer_id                object\n",
       "order_status               object\n",
       "purchase_timestamp         object\n",
       "approved_at                object\n",
       "delivered_carrier_date     object\n",
       "delivered_customer_date    object\n",
       "estimated_delivery_date    object\n",
       "dtype: object"
      ]
     },
     "execution_count": 214,
     "metadata": {},
     "output_type": "execute_result"
    }
   ],
   "source": [
    "orders.dtypes"
   ]
  },
  {
   "cell_type": "markdown",
   "id": "19162b13",
   "metadata": {},
   "source": [
    "Let's change all datetimes to datetime format to avoid doing it later <br>\n",
    "Сразу переведем временные столбцы в datetime формат\n"
   ]
  },
  {
   "cell_type": "code",
   "execution_count": 215,
   "id": "935f0c98",
   "metadata": {},
   "outputs": [],
   "source": [
    "orders['purchase_timestamp']=pd.to_datetime(orders['purchase_timestamp'])\n",
    "orders['approved_at']=pd.to_datetime(orders['approved_at'])\n",
    "orders['delivered_carrier_date']=pd.to_datetime(orders['delivered_carrier_date'])\n",
    "orders['delivered_customer_date']=pd.to_datetime(orders['delivered_customer_date'])\n",
    "orders['estimated_delivery_date']=pd.to_datetime(orders['estimated_delivery_date'])"
   ]
  },
  {
   "cell_type": "markdown",
   "id": "a62b01ab",
   "metadata": {},
   "source": [
    "Let's check if everything has worked out <br>\n",
    "Проверим,что все сработало"
   ]
  },
  {
   "cell_type": "code",
   "execution_count": 216,
   "id": "577e0a44",
   "metadata": {},
   "outputs": [
    {
     "data": {
      "text/plain": [
       "order_id                           object\n",
       "customer_id                        object\n",
       "order_status                       object\n",
       "purchase_timestamp         datetime64[ns]\n",
       "approved_at                datetime64[ns]\n",
       "delivered_carrier_date     datetime64[ns]\n",
       "delivered_customer_date    datetime64[ns]\n",
       "estimated_delivery_date    datetime64[ns]\n",
       "dtype: object"
      ]
     },
     "execution_count": 216,
     "metadata": {},
     "output_type": "execute_result"
    }
   ],
   "source": [
    "orders.dtypes"
   ]
  },
  {
   "cell_type": "markdown",
   "id": "65e0df80",
   "metadata": {},
   "source": [
    "**order_items** - товарные позиции, входящие в заказы"
   ]
  },
  {
   "cell_type": "code",
   "execution_count": 217,
   "id": "95750347",
   "metadata": {},
   "outputs": [
    {
     "data": {
      "text/html": [
       "<div>\n",
       "<style scoped>\n",
       "    .dataframe tbody tr th:only-of-type {\n",
       "        vertical-align: middle;\n",
       "    }\n",
       "\n",
       "    .dataframe tbody tr th {\n",
       "        vertical-align: top;\n",
       "    }\n",
       "\n",
       "    .dataframe thead th {\n",
       "        text-align: right;\n",
       "    }\n",
       "</style>\n",
       "<table border=\"1\" class=\"dataframe\">\n",
       "  <thead>\n",
       "    <tr style=\"text-align: right;\">\n",
       "      <th></th>\n",
       "      <th>order_id</th>\n",
       "      <th>order_item_id</th>\n",
       "      <th>product_id</th>\n",
       "      <th>seller_id</th>\n",
       "      <th>shipping_limit_date</th>\n",
       "      <th>price</th>\n",
       "      <th>freight_value</th>\n",
       "    </tr>\n",
       "  </thead>\n",
       "  <tbody>\n",
       "    <tr>\n",
       "      <th>0</th>\n",
       "      <td>00010242fe8c5a6d1ba2dd792cb16214</td>\n",
       "      <td>1</td>\n",
       "      <td>4244733e06e7ecb4970a6e2683c13e61</td>\n",
       "      <td>48436dade18ac8b2bce089ec2a041202</td>\n",
       "      <td>2017-09-19 09:45:35</td>\n",
       "      <td>58.9</td>\n",
       "      <td>13.29</td>\n",
       "    </tr>\n",
       "    <tr>\n",
       "      <th>1</th>\n",
       "      <td>00018f77f2f0320c557190d7a144bdd3</td>\n",
       "      <td>1</td>\n",
       "      <td>e5f2d52b802189ee658865ca93d83a8f</td>\n",
       "      <td>dd7ddc04e1b6c2c614352b383efe2d36</td>\n",
       "      <td>2017-05-03 11:05:13</td>\n",
       "      <td>239.9</td>\n",
       "      <td>19.93</td>\n",
       "    </tr>\n",
       "    <tr>\n",
       "      <th>2</th>\n",
       "      <td>000229ec398224ef6ca0657da4fc703e</td>\n",
       "      <td>1</td>\n",
       "      <td>c777355d18b72b67abbeef9df44fd0fd</td>\n",
       "      <td>5b51032eddd242adc84c38acab88f23d</td>\n",
       "      <td>2018-01-18 14:48:30</td>\n",
       "      <td>199.0</td>\n",
       "      <td>17.87</td>\n",
       "    </tr>\n",
       "  </tbody>\n",
       "</table>\n",
       "</div>"
      ],
      "text/plain": [
       "                           order_id  order_item_id  \\\n",
       "0  00010242fe8c5a6d1ba2dd792cb16214              1   \n",
       "1  00018f77f2f0320c557190d7a144bdd3              1   \n",
       "2  000229ec398224ef6ca0657da4fc703e              1   \n",
       "\n",
       "                         product_id                         seller_id  \\\n",
       "0  4244733e06e7ecb4970a6e2683c13e61  48436dade18ac8b2bce089ec2a041202   \n",
       "1  e5f2d52b802189ee658865ca93d83a8f  dd7ddc04e1b6c2c614352b383efe2d36   \n",
       "2  c777355d18b72b67abbeef9df44fd0fd  5b51032eddd242adc84c38acab88f23d   \n",
       "\n",
       "   shipping_limit_date  price  freight_value  \n",
       "0  2017-09-19 09:45:35   58.9          13.29  \n",
       "1  2017-05-03 11:05:13  239.9          19.93  \n",
       "2  2018-01-18 14:48:30  199.0          17.87  "
      ]
     },
     "execution_count": 217,
     "metadata": {},
     "output_type": "execute_result"
    }
   ],
   "source": [
    "order_items.head(3)"
   ]
  },
  {
   "cell_type": "markdown",
   "id": "7a265ffa",
   "metadata": {},
   "source": [
    "**order_id** —  уникальный идентификатор заказа (номер чека) <br>\n",
    "**order_item_id** —  идентификатор товара внутри одного заказа<br>\n",
    "**product_id** —  ид товара (аналог штрихкода)<br>\n",
    "**seller_id** — ид производителя товара<br>\n",
    "**shipping_limit_date** —  максимальная дата доставки продавцом для передачи заказа партнеру по логистике<br>\n",
    "**price** —  цена за единицу товара<br>\n",
    "**freight_value** —  вес товара<br>"
   ]
  },
  {
   "cell_type": "code",
   "execution_count": 218,
   "id": "1908c2c0",
   "metadata": {},
   "outputs": [
    {
     "data": {
      "text/plain": [
       "order_id                object\n",
       "order_item_id            int64\n",
       "product_id              object\n",
       "seller_id               object\n",
       "shipping_limit_date     object\n",
       "price                  float64\n",
       "freight_value          float64\n",
       "dtype: object"
      ]
     },
     "execution_count": 218,
     "metadata": {},
     "output_type": "execute_result"
    }
   ],
   "source": [
    "order_items.dtypes"
   ]
  },
  {
   "cell_type": "code",
   "execution_count": 219,
   "id": "12d61ded",
   "metadata": {},
   "outputs": [],
   "source": [
    "order_items['shipping_limit_date']=pd.to_datetime(order_items['shipping_limit_date'])"
   ]
  },
  {
   "cell_type": "markdown",
   "id": "1980ba52",
   "metadata": {},
   "source": [
    "Let's have a look at unique orders' statuses <br>\n",
    "Посмотрим на уникальные статусы заказов"
   ]
  },
  {
   "cell_type": "code",
   "execution_count": 220,
   "id": "e01b32c7",
   "metadata": {},
   "outputs": [
    {
     "data": {
      "text/plain": [
       "array(['delivered', 'invoiced', 'shipped', 'processing', 'unavailable',\n",
       "       'canceled', 'created', 'approved'], dtype=object)"
      ]
     },
     "execution_count": 220,
     "metadata": {},
     "output_type": "execute_result"
    }
   ],
   "source": [
    "orders['order_status'].unique()"
   ]
  },
  {
   "cell_type": "markdown",
   "id": "fd0e0e9a",
   "metadata": {},
   "source": [
    "**created** —  создан <br>\n",
    "**approved** —  подтверждён<br>\n",
    "**invoiced** —  выставлен счёт<br>\n",
    "**processing** —  в процессе сборки заказа<br>\n",
    "**shipped** —  отгружен со склада<br>\n",
    "**delivered** —  доставлен пользователю<br>\n",
    "**unavailable** —  недоступен<br>\n",
    "**canceled** —  отменён (assuming it was canceled by the customer)<br>"
   ]
  },
  {
   "cell_type": "markdown",
   "id": "1d5a8ccd",
   "metadata": {},
   "source": [
    "Let's look in order dataframe by order status:<br>\n",
    "Посмотрим в датафрейм order, сгруппировав его по order status:"
   ]
  },
  {
   "cell_type": "code",
   "execution_count": 221,
   "id": "9d90d815",
   "metadata": {},
   "outputs": [
    {
     "data": {
      "text/html": [
       "<div>\n",
       "<style scoped>\n",
       "    .dataframe tbody tr th:only-of-type {\n",
       "        vertical-align: middle;\n",
       "    }\n",
       "\n",
       "    .dataframe tbody tr th {\n",
       "        vertical-align: top;\n",
       "    }\n",
       "\n",
       "    .dataframe thead th {\n",
       "        text-align: right;\n",
       "    }\n",
       "</style>\n",
       "<table border=\"1\" class=\"dataframe\">\n",
       "  <thead>\n",
       "    <tr style=\"text-align: right;\">\n",
       "      <th></th>\n",
       "      <th>order_id</th>\n",
       "      <th>customer_id</th>\n",
       "      <th>purchase_timestamp</th>\n",
       "      <th>approved_at</th>\n",
       "      <th>delivered_carrier_date</th>\n",
       "      <th>delivered_customer_date</th>\n",
       "      <th>estimated_delivery_date</th>\n",
       "    </tr>\n",
       "    <tr>\n",
       "      <th>order_status</th>\n",
       "      <th></th>\n",
       "      <th></th>\n",
       "      <th></th>\n",
       "      <th></th>\n",
       "      <th></th>\n",
       "      <th></th>\n",
       "      <th></th>\n",
       "    </tr>\n",
       "  </thead>\n",
       "  <tbody>\n",
       "    <tr>\n",
       "      <th>approved</th>\n",
       "      <td>2</td>\n",
       "      <td>2</td>\n",
       "      <td>2</td>\n",
       "      <td>2</td>\n",
       "      <td>0</td>\n",
       "      <td>0</td>\n",
       "      <td>2</td>\n",
       "    </tr>\n",
       "    <tr>\n",
       "      <th>canceled</th>\n",
       "      <td>625</td>\n",
       "      <td>625</td>\n",
       "      <td>625</td>\n",
       "      <td>484</td>\n",
       "      <td>75</td>\n",
       "      <td>6</td>\n",
       "      <td>625</td>\n",
       "    </tr>\n",
       "    <tr>\n",
       "      <th>created</th>\n",
       "      <td>5</td>\n",
       "      <td>5</td>\n",
       "      <td>5</td>\n",
       "      <td>0</td>\n",
       "      <td>0</td>\n",
       "      <td>0</td>\n",
       "      <td>5</td>\n",
       "    </tr>\n",
       "    <tr>\n",
       "      <th>delivered</th>\n",
       "      <td>96478</td>\n",
       "      <td>96478</td>\n",
       "      <td>96478</td>\n",
       "      <td>96464</td>\n",
       "      <td>96476</td>\n",
       "      <td>96470</td>\n",
       "      <td>96478</td>\n",
       "    </tr>\n",
       "    <tr>\n",
       "      <th>invoiced</th>\n",
       "      <td>314</td>\n",
       "      <td>314</td>\n",
       "      <td>314</td>\n",
       "      <td>314</td>\n",
       "      <td>0</td>\n",
       "      <td>0</td>\n",
       "      <td>314</td>\n",
       "    </tr>\n",
       "    <tr>\n",
       "      <th>processing</th>\n",
       "      <td>301</td>\n",
       "      <td>301</td>\n",
       "      <td>301</td>\n",
       "      <td>301</td>\n",
       "      <td>0</td>\n",
       "      <td>0</td>\n",
       "      <td>301</td>\n",
       "    </tr>\n",
       "    <tr>\n",
       "      <th>shipped</th>\n",
       "      <td>1107</td>\n",
       "      <td>1107</td>\n",
       "      <td>1107</td>\n",
       "      <td>1107</td>\n",
       "      <td>1107</td>\n",
       "      <td>0</td>\n",
       "      <td>1107</td>\n",
       "    </tr>\n",
       "    <tr>\n",
       "      <th>unavailable</th>\n",
       "      <td>609</td>\n",
       "      <td>609</td>\n",
       "      <td>609</td>\n",
       "      <td>609</td>\n",
       "      <td>0</td>\n",
       "      <td>0</td>\n",
       "      <td>609</td>\n",
       "    </tr>\n",
       "  </tbody>\n",
       "</table>\n",
       "</div>"
      ],
      "text/plain": [
       "              order_id  customer_id  purchase_timestamp  approved_at  \\\n",
       "order_status                                                           \n",
       "approved             2            2                   2            2   \n",
       "canceled           625          625                 625          484   \n",
       "created              5            5                   5            0   \n",
       "delivered        96478        96478               96478        96464   \n",
       "invoiced           314          314                 314          314   \n",
       "processing         301          301                 301          301   \n",
       "shipped           1107         1107                1107         1107   \n",
       "unavailable        609          609                 609          609   \n",
       "\n",
       "              delivered_carrier_date  delivered_customer_date  \\\n",
       "order_status                                                    \n",
       "approved                           0                        0   \n",
       "canceled                          75                        6   \n",
       "created                            0                        0   \n",
       "delivered                      96476                    96470   \n",
       "invoiced                           0                        0   \n",
       "processing                         0                        0   \n",
       "shipped                         1107                        0   \n",
       "unavailable                        0                        0   \n",
       "\n",
       "              estimated_delivery_date  \n",
       "order_status                           \n",
       "approved                            2  \n",
       "canceled                          625  \n",
       "created                             5  \n",
       "delivered                       96478  \n",
       "invoiced                          314  \n",
       "processing                        301  \n",
       "shipped                          1107  \n",
       "unavailable                       609  "
      ]
     },
     "execution_count": 221,
     "metadata": {},
     "output_type": "execute_result"
    }
   ],
   "source": [
    "orders.groupby(['order_status']).count()"
   ]
  },
  {
   "cell_type": "markdown",
   "id": "fd2faa1f",
   "metadata": {},
   "source": [
    "**We notice that:**\n",
    "1) There are 6 delivered orders with status \"canceled\" <br>\n",
    "2) There are 96478 purchases entries with status \"delivered\", out are 96464 approved orders, but 96476 were delivered to carrier and 96470 were delivered orders <br>\n",
    "<br>\n",
    "**6, 14 non-approved delivered orders, and 8 delivered but without delivered_customer_date  should be checked separately and for now should be considered as bugged - we can't include them in further calculations**\n",
    "\n",
    "**Замечаем**:<br>\n",
    "1) 6 доставленных заказов имеют статус \"canceled\" <br>\n",
    "2) Всего 96748 покупок со статусом \"delivered\", но только 96464 из них \"approved\", но 96476 было доставлено в курьерскую службу, а 96470 было доставлено заказчику <br>\n",
    "<br>\n",
    "**6,14 не подтвержденных заказов было доставлено, 8 доставленных, но без даты доставки должны быть проверены отдельно, в данный момент мы можем считать их багнутыми - не можем включать в дальнейшие расчеты**"
   ]
  },
  {
   "cell_type": "markdown",
   "id": "e8ee6a78",
   "metadata": {},
   "source": [
    "Let's exlcude them below:<br>\n",
    "Исключим их ниже:"
   ]
  },
  {
   "cell_type": "code",
   "execution_count": 222,
   "id": "65b64253",
   "metadata": {},
   "outputs": [],
   "source": [
    "canceled_bugged=orders[orders['delivered_customer_date'].notna()].\\\n",
    "                query('order_status==\"canceled\"')\\\n",
    "                ['order_id'].to_frame()\n",
    "delivered_not_approved_bugged=orders[orders['approved_at'].isna()].\\\n",
    "                query('order_status==\"delivered\"')\\\n",
    "                ['order_id'].to_frame()\n",
    "delivered_wo_customer_bugged=orders[orders['delivered_customer_date'].isna()].\\\n",
    "                query('order_status==\"delivered\"')\\\n",
    "                ['order_id'].to_frame()"
   ]
  },
  {
   "cell_type": "code",
   "execution_count": 223,
   "id": "6698b036",
   "metadata": {},
   "outputs": [],
   "source": [
    "bugged_list=list(pd.concat([canceled_bugged, \n",
    "                       delivered_not_approved_bugged, \n",
    "                       delivered_wo_customer_bugged])['order_id'].unique())"
   ]
  },
  {
   "cell_type": "code",
   "execution_count": 224,
   "id": "882d7b25",
   "metadata": {},
   "outputs": [
    {
     "data": {
      "text/plain": [
       "['1950d777989f6a877539f53795b4c3c3',\n",
       " 'dabf2b0e35b423f94618bf965fcb7514',\n",
       " '770d331c84e5b214bd9dc70a10b829d0',\n",
       " '8beb59392e21af5eb9547ae1a9938d06',\n",
       " '65d1e226dfaeb8cdc42f665422522d14',\n",
       " '2c45c33d2f9cb8ff8b1c86cc28c11c30',\n",
       " 'e04abd8149ef81b95221e88f6ed9ab6a',\n",
       " '8a9adc69528e1001fc68dd0aaebbb54a',\n",
       " '7013bcfc1c97fe719a7b5e05e61c12db',\n",
       " '5cf925b116421afa85ee25e99b4c34fb',\n",
       " '12a95a3c06dbaec84bcfb0e2da5d228a',\n",
       " 'c1d4211b3dae76144deccd6c74144a88',\n",
       " 'd69e5d356402adc8cf17e08b5033acfb',\n",
       " 'd77031d6a3c8a52f019764e68f211c69',\n",
       " '7002a78c79c519ac54022d4f8a65e6e8',\n",
       " '2eecb0d85f281280f79fa00f9cec1a95',\n",
       " '51eb2eebd5d76a24625b31c33dd41449',\n",
       " '88083e8f64d95b932164187484d90212',\n",
       " '3c0b8706b065f9919d0505d3b3343881',\n",
       " '2babbb4b15e6d2dfe95e2de765c97bce',\n",
       " '2d1e2d5bf4dc7227b3bfebb81328c15f',\n",
       " 'f5dd62b788049ad9fc0526e3ad11a097',\n",
       " '2ebdfc4f15f23b91474edf87475f108e',\n",
       " 'e69f75a717d64fc5ecdfae42b2e8e086',\n",
       " '0d3268bad9b086af767785e3f0fc0133',\n",
       " '2d858f451373b04fb5c984a1cc2defaf',\n",
       " 'ab7c89dc1bf4a1ead9d6ec1ec8968a84',\n",
       " '20edc82cf5400ce95e1afacc25798b31']"
      ]
     },
     "execution_count": 224,
     "metadata": {},
     "output_type": "execute_result"
    }
   ],
   "source": [
    "bugged_list"
   ]
  },
  {
   "cell_type": "markdown",
   "id": "91e8f867",
   "metadata": {},
   "source": [
    "The list above should be observed separately to understand reasons for bugs<br>\n",
    "Стоит рассмотреть эти заказы отдельно, чтобы понять причину багов"
   ]
  },
  {
   "cell_type": "code",
   "execution_count": 225,
   "id": "b7eeb2a8",
   "metadata": {},
   "outputs": [],
   "source": [
    "orders=orders.query('order_id  not in @bugged_list')"
   ]
  },
  {
   "cell_type": "markdown",
   "id": "54da8429",
   "metadata": {},
   "source": [
    "**We consider a purchase an order with non-zero purchase_timestamp, not with the status \"canceled\", \"unavailable\", and not in the \"bugged list\"** <br>\n",
    "**Будем считать покупкой заказ с ненулевой датой покупки, не в статусе \"canceled\",\"unavailable\" и не в \"багнутом листе\"**"
   ]
  },
  {
   "cell_type": "code",
   "execution_count": 226,
   "id": "0520501d",
   "metadata": {},
   "outputs": [],
   "source": [
    "purchase=orders.copy()\n",
    "purchase=purchase.query('order_status!=\"canceled\" & order_status!=\"unavailable\"')"
   ]
  },
  {
   "cell_type": "code",
   "execution_count": 227,
   "id": "d5ed0cd5",
   "metadata": {},
   "outputs": [
    {
     "data": {
      "text/html": [
       "<div>\n",
       "<style scoped>\n",
       "    .dataframe tbody tr th:only-of-type {\n",
       "        vertical-align: middle;\n",
       "    }\n",
       "\n",
       "    .dataframe tbody tr th {\n",
       "        vertical-align: top;\n",
       "    }\n",
       "\n",
       "    .dataframe thead th {\n",
       "        text-align: right;\n",
       "    }\n",
       "</style>\n",
       "<table border=\"1\" class=\"dataframe\">\n",
       "  <thead>\n",
       "    <tr style=\"text-align: right;\">\n",
       "      <th></th>\n",
       "      <th>order_id</th>\n",
       "      <th>customer_id</th>\n",
       "      <th>purchase_timestamp</th>\n",
       "      <th>approved_at</th>\n",
       "      <th>delivered_carrier_date</th>\n",
       "      <th>delivered_customer_date</th>\n",
       "      <th>estimated_delivery_date</th>\n",
       "    </tr>\n",
       "    <tr>\n",
       "      <th>order_status</th>\n",
       "      <th></th>\n",
       "      <th></th>\n",
       "      <th></th>\n",
       "      <th></th>\n",
       "      <th></th>\n",
       "      <th></th>\n",
       "      <th></th>\n",
       "    </tr>\n",
       "  </thead>\n",
       "  <tbody>\n",
       "    <tr>\n",
       "      <th>approved</th>\n",
       "      <td>2</td>\n",
       "      <td>2</td>\n",
       "      <td>2</td>\n",
       "      <td>2</td>\n",
       "      <td>0</td>\n",
       "      <td>0</td>\n",
       "      <td>2</td>\n",
       "    </tr>\n",
       "    <tr>\n",
       "      <th>created</th>\n",
       "      <td>5</td>\n",
       "      <td>5</td>\n",
       "      <td>5</td>\n",
       "      <td>0</td>\n",
       "      <td>0</td>\n",
       "      <td>0</td>\n",
       "      <td>5</td>\n",
       "    </tr>\n",
       "    <tr>\n",
       "      <th>delivered</th>\n",
       "      <td>96456</td>\n",
       "      <td>96456</td>\n",
       "      <td>96456</td>\n",
       "      <td>96456</td>\n",
       "      <td>96455</td>\n",
       "      <td>96456</td>\n",
       "      <td>96456</td>\n",
       "    </tr>\n",
       "    <tr>\n",
       "      <th>invoiced</th>\n",
       "      <td>314</td>\n",
       "      <td>314</td>\n",
       "      <td>314</td>\n",
       "      <td>314</td>\n",
       "      <td>0</td>\n",
       "      <td>0</td>\n",
       "      <td>314</td>\n",
       "    </tr>\n",
       "    <tr>\n",
       "      <th>processing</th>\n",
       "      <td>301</td>\n",
       "      <td>301</td>\n",
       "      <td>301</td>\n",
       "      <td>301</td>\n",
       "      <td>0</td>\n",
       "      <td>0</td>\n",
       "      <td>301</td>\n",
       "    </tr>\n",
       "    <tr>\n",
       "      <th>shipped</th>\n",
       "      <td>1107</td>\n",
       "      <td>1107</td>\n",
       "      <td>1107</td>\n",
       "      <td>1107</td>\n",
       "      <td>1107</td>\n",
       "      <td>0</td>\n",
       "      <td>1107</td>\n",
       "    </tr>\n",
       "  </tbody>\n",
       "</table>\n",
       "</div>"
      ],
      "text/plain": [
       "              order_id  customer_id  purchase_timestamp  approved_at  \\\n",
       "order_status                                                           \n",
       "approved             2            2                   2            2   \n",
       "created              5            5                   5            0   \n",
       "delivered        96456        96456               96456        96456   \n",
       "invoiced           314          314                 314          314   \n",
       "processing         301          301                 301          301   \n",
       "shipped           1107         1107                1107         1107   \n",
       "\n",
       "              delivered_carrier_date  delivered_customer_date  \\\n",
       "order_status                                                    \n",
       "approved                           0                        0   \n",
       "created                            0                        0   \n",
       "delivered                      96455                    96456   \n",
       "invoiced                           0                        0   \n",
       "processing                         0                        0   \n",
       "shipped                         1107                        0   \n",
       "\n",
       "              estimated_delivery_date  \n",
       "order_status                           \n",
       "approved                            2  \n",
       "created                             5  \n",
       "delivered                       96456  \n",
       "invoiced                          314  \n",
       "processing                        301  \n",
       "shipped                          1107  "
      ]
     },
     "execution_count": 227,
     "metadata": {},
     "output_type": "execute_result"
    }
   ],
   "source": [
    "purchase.groupby(['order_status']).count()"
   ]
  },
  {
   "cell_type": "markdown",
   "id": "7be19c59",
   "metadata": {},
   "source": [
    "We see the funnel stabilize in purchase_timestamp & approved_at. So far these orders have not been canceled, set to unavailable - we consider them as purchase<br>\n",
    "Замечаем стабилизацию воронки по столбцам purchase_timestamp и approved_at. Эти заказы пока не были отменены или переведены в статус \"unavailable\" - мы считаем их покупкой\n"
   ]
  },
  {
   "cell_type": "markdown",
   "id": "e4b8b599",
   "metadata": {},
   "source": [
    "## Question 1"
   ]
  },
  {
   "cell_type": "markdown",
   "id": "d318f4c4",
   "metadata": {},
   "source": [
    "**Question 1** <br>\n",
    "How many users have made only 1 Purchase? <br>\n",
    "<br>\n",
    "**Вопрос 1** <br>\n",
    "Сколько у нас пользователей, которые совершили покупку только один раз? <br>"
   ]
  },
  {
   "cell_type": "markdown",
   "id": "4a51213f",
   "metadata": {},
   "source": [
    "Присоединим к заказам уникальные номера заказчиков:"
   ]
  },
  {
   "cell_type": "code",
   "execution_count": 228,
   "id": "29ad41e0",
   "metadata": {},
   "outputs": [
    {
     "name": "stdout",
     "output_type": "stream",
     "text": [
      "(98185, 9)\n"
     ]
    }
   ],
   "source": [
    "purchase_q1=purchase.merge(customers.drop(['customer_zip_code_prefix',\n",
    "                                                       'customer_city',\n",
    "                                                       'customer_state'], axis=1),\n",
    "                                        left_on='customer_id', right_on='customer_id')\n",
    "print(purchase_q1.shape)\n",
    "purchase_q1_count=purchase_q1.groupby(['customer_unique_id'],as_index=False).count()"
   ]
  },
  {
   "cell_type": "markdown",
   "id": "e2046045",
   "metadata": {},
   "source": [
    "Let's visualize it<br>\n",
    "Визуализируем<br>"
   ]
  },
  {
   "cell_type": "code",
   "execution_count": 229,
   "id": "6c1c5dcb",
   "metadata": {},
   "outputs": [
    {
     "data": {
      "image/png": "[encoded data removed]",
      "text/plain": [
       "<Figure size 2304x1152 with 1 Axes>"
      ]
     },
     "metadata": {
      "needs_background": "light"
     },
     "output_type": "display_data"
    }
   ],
   "source": [
    "plt.figure(figsize=(32,16))\n",
    "plt.xticks(fontsize=35)\n",
    "plt.yticks(fontsize=35)\n",
    "sns.countplot(x='order_id', data=purchase_q1_count)\n",
    "plt.xlabel('Orders by Customer', fontsize=40)\n",
    "plt.ylabel('Number of orders', fontsize=40)\n",
    "plt.show()"
   ]
  },
  {
   "cell_type": "markdown",
   "id": "025716ad",
   "metadata": {},
   "source": [
    "## Answer to Question 1\n",
    "## Ответ на Вопрос 1"
   ]
  },
  {
   "cell_type": "code",
   "execution_count": 230,
   "id": "78fbfc15",
   "metadata": {},
   "outputs": [
    {
     "name": "stdout",
     "output_type": "stream",
     "text": [
      "Number of users with 1 purchase: 92082\n",
      "Число пользователей, совершивших 1 покупку: 92082\n"
     ]
    }
   ],
   "source": [
    "print('Number of users with 1 purchase: {}'.\n",
    "        format(purchase_q1_count.query('order_id==1').shape[0]))\n",
    "print('Число пользователей, совершивших 1 покупку: {}'.\n",
    "        format(purchase_q1_count.query('order_id==1').shape[0]))"
   ]
  },
  {
   "cell_type": "markdown",
   "id": "2da9ee3d",
   "metadata": {},
   "source": [
    "## Question 2 "
   ]
  },
  {
   "cell_type": "markdown",
   "id": "7777bef8",
   "metadata": {},
   "source": [
    "**Question 2**<br>\n",
    "How many orders are not delivered in a month on average due to different reasons?<br>\n",
    "(show reasons' detalization)<br>\n",
    "<br>**Вопрос 2**<br>\n",
    "Сколько заказов в месяц в среднем не доставляется по разным причинам<br>\n",
    "(вывести детализацию по причинам)?<br>\n",
    "**------------------------------------------------------------------------------------------------------------------------------**"
   ]
  },
  {
   "cell_type": "markdown",
   "id": "b1e3a283",
   "metadata": {},
   "source": [
    "Most important is to define what is not delivered order. <br>\n",
    "**We will assume that not delivered order is the one which will not be delivered for sure. <br>\n",
    "If we ask a question \"Has the order not been delivered for sure?\", the answer should be \"yes\".**\n",
    "<br>\n",
    "<br>Самое важное - определить, что считается \"недоставленный заказ\"\n",
    "**Будем считать, что недоставленный заказ это тот, который точно не будет доставлен (CAP!)**<br>\n",
    "**Если мы зададим вопрос - \"Заказ точно не был доставлен?\", ответ должен быть \"да\"**"
   ]
  },
  {
   "cell_type": "markdown",
   "id": "17495337",
   "metadata": {},
   "source": [
    "Под определение выше подходят заказы в статусе \"unavailable\" и \"canceled\""
   ]
  },
  {
   "cell_type": "code",
   "execution_count": 259,
   "id": "f1aaa509",
   "metadata": {},
   "outputs": [],
   "source": [
    "orders_q2=orders.copy()"
   ]
  },
  {
   "cell_type": "code",
   "execution_count": 260,
   "id": "aa968e46",
   "metadata": {},
   "outputs": [
    {
     "data": {
      "text/html": [
       "<div>\n",
       "<style scoped>\n",
       "    .dataframe tbody tr th:only-of-type {\n",
       "        vertical-align: middle;\n",
       "    }\n",
       "\n",
       "    .dataframe tbody tr th {\n",
       "        vertical-align: top;\n",
       "    }\n",
       "\n",
       "    .dataframe thead th {\n",
       "        text-align: right;\n",
       "    }\n",
       "</style>\n",
       "<table border=\"1\" class=\"dataframe\">\n",
       "  <thead>\n",
       "    <tr style=\"text-align: right;\">\n",
       "      <th></th>\n",
       "      <th>order_id</th>\n",
       "      <th>customer_id</th>\n",
       "      <th>order_status</th>\n",
       "      <th>purchase_timestamp</th>\n",
       "      <th>approved_at</th>\n",
       "      <th>delivered_carrier_date</th>\n",
       "      <th>delivered_customer_date</th>\n",
       "      <th>estimated_delivery_date</th>\n",
       "    </tr>\n",
       "  </thead>\n",
       "  <tbody>\n",
       "    <tr>\n",
       "      <th>0</th>\n",
       "      <td>e481f51cbdc54678b7cc49136f2d6af7</td>\n",
       "      <td>9ef432eb6251297304e76186b10a928d</td>\n",
       "      <td>delivered</td>\n",
       "      <td>2017-10-02 10:56:33</td>\n",
       "      <td>2017-10-02 11:07:15</td>\n",
       "      <td>2017-10-04 19:55:00</td>\n",
       "      <td>2017-10-10 21:25:13</td>\n",
       "      <td>2017-10-18</td>\n",
       "    </tr>\n",
       "    <tr>\n",
       "      <th>1</th>\n",
       "      <td>53cdb2fc8bc7dce0b6741e2150273451</td>\n",
       "      <td>b0830fb4747a6c6d20dea0b8c802d7ef</td>\n",
       "      <td>delivered</td>\n",
       "      <td>2018-07-24 20:41:37</td>\n",
       "      <td>2018-07-26 03:24:27</td>\n",
       "      <td>2018-07-26 14:31:00</td>\n",
       "      <td>2018-08-07 15:27:45</td>\n",
       "      <td>2018-08-13</td>\n",
       "    </tr>\n",
       "  </tbody>\n",
       "</table>\n",
       "</div>"
      ],
      "text/plain": [
       "                           order_id                       customer_id  \\\n",
       "0  e481f51cbdc54678b7cc49136f2d6af7  9ef432eb6251297304e76186b10a928d   \n",
       "1  53cdb2fc8bc7dce0b6741e2150273451  b0830fb4747a6c6d20dea0b8c802d7ef   \n",
       "\n",
       "  order_status  purchase_timestamp         approved_at delivered_carrier_date  \\\n",
       "0    delivered 2017-10-02 10:56:33 2017-10-02 11:07:15    2017-10-04 19:55:00   \n",
       "1    delivered 2018-07-24 20:41:37 2018-07-26 03:24:27    2018-07-26 14:31:00   \n",
       "\n",
       "  delivered_customer_date estimated_delivery_date  \n",
       "0     2017-10-10 21:25:13              2017-10-18  \n",
       "1     2018-08-07 15:27:45              2018-08-13  "
      ]
     },
     "execution_count": 260,
     "metadata": {},
     "output_type": "execute_result"
    }
   ],
   "source": [
    "orders_q2.head(2)"
   ]
  },
  {
   "cell_type": "markdown",
   "id": "12d2980b",
   "metadata": {},
   "source": [
    "**Step 1:** get \"unavailable\" and \"canceled\" orders<br>\n",
    "**Шаг 1:** достанем \"unavailable\" и \"canceled\" заказы "
   ]
  },
  {
   "cell_type": "code",
   "execution_count": 261,
   "id": "d3fadc71",
   "metadata": {},
   "outputs": [],
   "source": [
    "unavailable_canceled=orders_q2.query('order_status==\"canceled\" | order_status==\"unavailable\"')"
   ]
  },
  {
   "cell_type": "markdown",
   "id": "a13fa4fb",
   "metadata": {},
   "source": [
    "Наиболее корректной будем считать \"estimated_delivery_date\" для расчета недоставленных заказов в месяц, так как это наша лучшая оценка того, в какой месяц (когда) товар должен быть доставлен"
   ]
  },
  {
   "cell_type": "markdown",
   "id": "9633e09f",
   "metadata": {},
   "source": [
    "**Step 2:** groupby by month of estimate_delivery_date, count number by month-status and calculate mean<br>\n",
    "**Шаг 2:** сгуппируем по месяцам, рассчитаем число по месяцам-статусу и рассчитаем среднее <br>"
   ]
  },
  {
   "cell_type": "code",
   "execution_count": 262,
   "id": "ba258a01",
   "metadata": {},
   "outputs": [
    {
     "name": "stderr",
     "output_type": "stream",
     "text": [
      "/Users/dmitry/opt/anaconda3/lib/python3.7/site-packages/ipykernel_launcher.py:1: SettingWithCopyWarning: \n",
      "A value is trying to be set on a copy of a slice from a DataFrame.\n",
      "Try using .loc[row_indexer,col_indexer] = value instead\n",
      "\n",
      "See the caveats in the documentation: https://pandas.pydata.org/pandas-docs/stable/user_guide/indexing.html#returning-a-view-versus-a-copy\n",
      "  \"\"\"Entry point for launching an IPython kernel.\n"
     ]
    }
   ],
   "source": [
    "unavailable_canceled['month-year']=unavailable_canceled['estimated_delivery_date'].dt.to_period('m')"
   ]
  },
  {
   "cell_type": "code",
   "execution_count": 263,
   "id": "98e87b31",
   "metadata": {},
   "outputs": [
    {
     "data": {
      "text/html": [
       "<div>\n",
       "<style scoped>\n",
       "    .dataframe tbody tr th:only-of-type {\n",
       "        vertical-align: middle;\n",
       "    }\n",
       "\n",
       "    .dataframe tbody tr th {\n",
       "        vertical-align: top;\n",
       "    }\n",
       "\n",
       "    .dataframe thead th {\n",
       "        text-align: right;\n",
       "    }\n",
       "</style>\n",
       "<table border=\"1\" class=\"dataframe\">\n",
       "  <thead>\n",
       "    <tr style=\"text-align: right;\">\n",
       "      <th></th>\n",
       "      <th>order_id</th>\n",
       "      <th>customer_id</th>\n",
       "      <th>order_status</th>\n",
       "      <th>purchase_timestamp</th>\n",
       "      <th>approved_at</th>\n",
       "      <th>delivered_carrier_date</th>\n",
       "      <th>delivered_customer_date</th>\n",
       "      <th>estimated_delivery_date</th>\n",
       "      <th>month-year</th>\n",
       "    </tr>\n",
       "  </thead>\n",
       "  <tbody>\n",
       "    <tr>\n",
       "      <th>266</th>\n",
       "      <td>8e24261a7e58791d10cb1bf9da94df5c</td>\n",
       "      <td>64a254d30eed42cd0e6c36dddb88adf0</td>\n",
       "      <td>unavailable</td>\n",
       "      <td>2017-11-16 15:09:28</td>\n",
       "      <td>2017-11-16 15:26:57</td>\n",
       "      <td>NaT</td>\n",
       "      <td>NaT</td>\n",
       "      <td>2017-12-05</td>\n",
       "      <td>2017-12</td>\n",
       "    </tr>\n",
       "    <tr>\n",
       "      <th>397</th>\n",
       "      <td>1b9ecfe83cdc259250e1a8aca174f0ad</td>\n",
       "      <td>6d6b50b66d79f80827b6d96751528d30</td>\n",
       "      <td>canceled</td>\n",
       "      <td>2018-08-04 14:29:27</td>\n",
       "      <td>2018-08-07 04:10:26</td>\n",
       "      <td>NaT</td>\n",
       "      <td>NaT</td>\n",
       "      <td>2018-08-14</td>\n",
       "      <td>2018-08</td>\n",
       "    </tr>\n",
       "  </tbody>\n",
       "</table>\n",
       "</div>"
      ],
      "text/plain": [
       "                             order_id                       customer_id  \\\n",
       "266  8e24261a7e58791d10cb1bf9da94df5c  64a254d30eed42cd0e6c36dddb88adf0   \n",
       "397  1b9ecfe83cdc259250e1a8aca174f0ad  6d6b50b66d79f80827b6d96751528d30   \n",
       "\n",
       "    order_status  purchase_timestamp         approved_at  \\\n",
       "266  unavailable 2017-11-16 15:09:28 2017-11-16 15:26:57   \n",
       "397     canceled 2018-08-04 14:29:27 2018-08-07 04:10:26   \n",
       "\n",
       "    delivered_carrier_date delivered_customer_date estimated_delivery_date  \\\n",
       "266                    NaT                     NaT              2017-12-05   \n",
       "397                    NaT                     NaT              2018-08-14   \n",
       "\n",
       "    month-year  \n",
       "266    2017-12  \n",
       "397    2018-08  "
      ]
     },
     "execution_count": 263,
     "metadata": {},
     "output_type": "execute_result"
    }
   ],
   "source": [
    "unavailable_canceled.head(2)"
   ]
  },
  {
   "cell_type": "code",
   "execution_count": 270,
   "id": "ac43084e",
   "metadata": {},
   "outputs": [
    {
     "data": {
      "text/html": [
       "<div>\n",
       "<style scoped>\n",
       "    .dataframe tbody tr th:only-of-type {\n",
       "        vertical-align: middle;\n",
       "    }\n",
       "\n",
       "    .dataframe tbody tr th {\n",
       "        vertical-align: top;\n",
       "    }\n",
       "\n",
       "    .dataframe thead th {\n",
       "        text-align: right;\n",
       "    }\n",
       "</style>\n",
       "<table border=\"1\" class=\"dataframe\">\n",
       "  <thead>\n",
       "    <tr style=\"text-align: right;\">\n",
       "      <th></th>\n",
       "      <th>month-year</th>\n",
       "      <th>order_status</th>\n",
       "      <th>not_delivered</th>\n",
       "    </tr>\n",
       "  </thead>\n",
       "  <tbody>\n",
       "    <tr>\n",
       "      <th>0</th>\n",
       "      <td>2016-09</td>\n",
       "      <td>canceled</td>\n",
       "      <td>1</td>\n",
       "    </tr>\n",
       "    <tr>\n",
       "      <th>1</th>\n",
       "      <td>2016-10</td>\n",
       "      <td>canceled</td>\n",
       "      <td>3</td>\n",
       "    </tr>\n",
       "    <tr>\n",
       "      <th>2</th>\n",
       "      <td>2016-11</td>\n",
       "      <td>canceled</td>\n",
       "      <td>10</td>\n",
       "    </tr>\n",
       "  </tbody>\n",
       "</table>\n",
       "</div>"
      ],
      "text/plain": [
       "  month-year order_status  not_delivered\n",
       "0    2016-09     canceled              1\n",
       "1    2016-10     canceled              3\n",
       "2    2016-11     canceled             10"
      ]
     },
     "execution_count": 270,
     "metadata": {},
     "output_type": "execute_result"
    }
   ],
   "source": [
    "by_month=unavailable_canceled.groupby(['month-year','order_status'], \\\n",
    "                                      as_index=False).count()\\\n",
    "[['month-year','order_status','order_id']].rename(columns={'order_id':'not_delivered'})\n",
    "by_month.head(3)"
   ]
  },
  {
   "cell_type": "markdown",
   "id": "7932e483",
   "metadata": {},
   "source": [
    "## Answer to Question 2\n",
    "## Ответ на Вопрос 2"
   ]
  },
  {
   "cell_type": "code",
   "execution_count": 272,
   "id": "29b92ad2",
   "metadata": {},
   "outputs": [
    {
     "data": {
      "text/html": [
       "<div>\n",
       "<style scoped>\n",
       "    .dataframe tbody tr th:only-of-type {\n",
       "        vertical-align: middle;\n",
       "    }\n",
       "\n",
       "    .dataframe tbody tr th {\n",
       "        vertical-align: top;\n",
       "    }\n",
       "\n",
       "    .dataframe thead th {\n",
       "        text-align: right;\n",
       "    }\n",
       "</style>\n",
       "<table border=\"1\" class=\"dataframe\">\n",
       "  <thead>\n",
       "    <tr style=\"text-align: right;\">\n",
       "      <th></th>\n",
       "      <th>not_delivered</th>\n",
       "    </tr>\n",
       "    <tr>\n",
       "      <th>order_status</th>\n",
       "      <th></th>\n",
       "    </tr>\n",
       "  </thead>\n",
       "  <tbody>\n",
       "    <tr>\n",
       "      <th>canceled</th>\n",
       "      <td>23.81</td>\n",
       "    </tr>\n",
       "    <tr>\n",
       "      <th>unavailable</th>\n",
       "      <td>29.00</td>\n",
       "    </tr>\n",
       "  </tbody>\n",
       "</table>\n",
       "</div>"
      ],
      "text/plain": [
       "              not_delivered\n",
       "order_status               \n",
       "canceled              23.81\n",
       "unavailable           29.00"
      ]
     },
     "execution_count": 272,
     "metadata": {},
     "output_type": "execute_result"
    }
   ],
   "source": [
    "by_month.groupby(['order_status']).mean().round(2)"
   ]
  },
  {
   "cell_type": "markdown",
   "id": "145ade64",
   "metadata": {},
   "source": [
    "## Question 3\n"
   ]
  },
  {
   "cell_type": "markdown",
   "id": "8a8d41d8",
   "metadata": {},
   "source": [
    "For each product display in which weekday it is mostly bought?<br>\n",
    "По каждому товару определить, в какой день недели товар чаще всего покупается?<br>"
   ]
  },
  {
   "cell_type": "markdown",
   "id": "3076c12b",
   "metadata": {},
   "source": [
    "**We will assume orders from table \"purchase\" as purchased.** <br>\n",
    "Weekday will be taken from the purchase_timestamp date (as there is no funnel between purchase_timestamp and approved_timestamp)<br>\n",
    "**Step 1:** Let's append weekday<br>\n",
    "**Step 2:** Merge order_items (initial dataframe) and dataframe from Step 1 <br>\n",
    "**Step 3:** Group orders by product_id and filter by max <br>\n",
    "**Step 4:** Implode by weekday<br>\n",
    "<br>\n",
    "**Будем работать с заказами из таблицы \"purchase\"**<br>\n",
    "День недели будем брать из purchase_timestamp_date<br>\n",
    "**Шаг 1:** аппендим день недели <br>\n",
    "**Шаг 2:** смерджим order_items (первоначальный датафрейм) и датафрейм из шага 1 <br>\n",
    "**Шаг 3:** сгруппируем ордера по product_id и возьмем максимальное значение<br?\n",
    "**Шаг 4:** сделаем имплоуд по дню недели"
   ]
  },
  {
   "cell_type": "code",
   "execution_count": 273,
   "id": "de6c8a48",
   "metadata": {},
   "outputs": [
    {
     "data": {
      "text/html": [
       "<div>\n",
       "<style scoped>\n",
       "    .dataframe tbody tr th:only-of-type {\n",
       "        vertical-align: middle;\n",
       "    }\n",
       "\n",
       "    .dataframe tbody tr th {\n",
       "        vertical-align: top;\n",
       "    }\n",
       "\n",
       "    .dataframe thead th {\n",
       "        text-align: right;\n",
       "    }\n",
       "</style>\n",
       "<table border=\"1\" class=\"dataframe\">\n",
       "  <thead>\n",
       "    <tr style=\"text-align: right;\">\n",
       "      <th></th>\n",
       "      <th>order_id</th>\n",
       "      <th>purchase_timestamp</th>\n",
       "    </tr>\n",
       "  </thead>\n",
       "  <tbody>\n",
       "    <tr>\n",
       "      <th>0</th>\n",
       "      <td>e481f51cbdc54678b7cc49136f2d6af7</td>\n",
       "      <td>2017-10-02 10:56:33</td>\n",
       "    </tr>\n",
       "    <tr>\n",
       "      <th>1</th>\n",
       "      <td>53cdb2fc8bc7dce0b6741e2150273451</td>\n",
       "      <td>2018-07-24 20:41:37</td>\n",
       "    </tr>\n",
       "  </tbody>\n",
       "</table>\n",
       "</div>"
      ],
      "text/plain": [
       "                           order_id  purchase_timestamp\n",
       "0  e481f51cbdc54678b7cc49136f2d6af7 2017-10-02 10:56:33\n",
       "1  53cdb2fc8bc7dce0b6741e2150273451 2018-07-24 20:41:37"
      ]
     },
     "execution_count": 273,
     "metadata": {},
     "output_type": "execute_result"
    }
   ],
   "source": [
    "purchase_q3=purchase.copy()\n",
    "purchase_q3=purchase_q3[['order_id','purchase_timestamp']]\n",
    "purchase_q3.head(2)"
   ]
  },
  {
   "cell_type": "markdown",
   "id": "95f9bc25",
   "metadata": {},
   "source": [
    "**Step 1:** <br>\n",
    "**Шаг 1:**"
   ]
  },
  {
   "cell_type": "code",
   "execution_count": 274,
   "id": "2960dac5",
   "metadata": {},
   "outputs": [],
   "source": [
    "purchase_q3['weekday']=purchase_q3['purchase_timestamp'].dt.day_name()"
   ]
  },
  {
   "cell_type": "code",
   "execution_count": 275,
   "id": "426bcb45",
   "metadata": {},
   "outputs": [
    {
     "data": {
      "text/html": [
       "<div>\n",
       "<style scoped>\n",
       "    .dataframe tbody tr th:only-of-type {\n",
       "        vertical-align: middle;\n",
       "    }\n",
       "\n",
       "    .dataframe tbody tr th {\n",
       "        vertical-align: top;\n",
       "    }\n",
       "\n",
       "    .dataframe thead th {\n",
       "        text-align: right;\n",
       "    }\n",
       "</style>\n",
       "<table border=\"1\" class=\"dataframe\">\n",
       "  <thead>\n",
       "    <tr style=\"text-align: right;\">\n",
       "      <th></th>\n",
       "      <th>order_id</th>\n",
       "      <th>purchase_timestamp</th>\n",
       "      <th>weekday</th>\n",
       "    </tr>\n",
       "  </thead>\n",
       "  <tbody>\n",
       "    <tr>\n",
       "      <th>0</th>\n",
       "      <td>e481f51cbdc54678b7cc49136f2d6af7</td>\n",
       "      <td>2017-10-02 10:56:33</td>\n",
       "      <td>Monday</td>\n",
       "    </tr>\n",
       "    <tr>\n",
       "      <th>1</th>\n",
       "      <td>53cdb2fc8bc7dce0b6741e2150273451</td>\n",
       "      <td>2018-07-24 20:41:37</td>\n",
       "      <td>Tuesday</td>\n",
       "    </tr>\n",
       "  </tbody>\n",
       "</table>\n",
       "</div>"
      ],
      "text/plain": [
       "                           order_id  purchase_timestamp  weekday\n",
       "0  e481f51cbdc54678b7cc49136f2d6af7 2017-10-02 10:56:33   Monday\n",
       "1  53cdb2fc8bc7dce0b6741e2150273451 2018-07-24 20:41:37  Tuesday"
      ]
     },
     "execution_count": 275,
     "metadata": {},
     "output_type": "execute_result"
    }
   ],
   "source": [
    "purchase_q3.head(2)"
   ]
  },
  {
   "cell_type": "markdown",
   "id": "a66c81ae",
   "metadata": {},
   "source": [
    "**Step 2:** <br>\n",
    "**Шаг 2:**"
   ]
  },
  {
   "cell_type": "code",
   "execution_count": 276,
   "id": "50559ba0",
   "metadata": {},
   "outputs": [],
   "source": [
    "purchase_q3_by_weekday=purchase_q3.merge(order_items, left_on='order_id',\n",
    "                                                             right_on='order_id',\n",
    "                                                             how='inner')"
   ]
  },
  {
   "cell_type": "code",
   "execution_count": 278,
   "id": "3cfbdbb7",
   "metadata": {},
   "outputs": [
    {
     "data": {
      "text/html": [
       "<div>\n",
       "<style scoped>\n",
       "    .dataframe tbody tr th:only-of-type {\n",
       "        vertical-align: middle;\n",
       "    }\n",
       "\n",
       "    .dataframe tbody tr th {\n",
       "        vertical-align: top;\n",
       "    }\n",
       "\n",
       "    .dataframe thead th {\n",
       "        text-align: right;\n",
       "    }\n",
       "</style>\n",
       "<table border=\"1\" class=\"dataframe\">\n",
       "  <thead>\n",
       "    <tr style=\"text-align: right;\">\n",
       "      <th></th>\n",
       "      <th>order_id</th>\n",
       "      <th>purchase_timestamp</th>\n",
       "      <th>weekday</th>\n",
       "      <th>order_item_id</th>\n",
       "      <th>product_id</th>\n",
       "      <th>seller_id</th>\n",
       "      <th>shipping_limit_date</th>\n",
       "      <th>price</th>\n",
       "      <th>freight_value</th>\n",
       "    </tr>\n",
       "  </thead>\n",
       "  <tbody>\n",
       "    <tr>\n",
       "      <th>0</th>\n",
       "      <td>e481f51cbdc54678b7cc49136f2d6af7</td>\n",
       "      <td>2017-10-02 10:56:33</td>\n",
       "      <td>Monday</td>\n",
       "      <td>1</td>\n",
       "      <td>87285b34884572647811a353c7ac498a</td>\n",
       "      <td>3504c0cb71d7fa48d967e0e4c94d59d9</td>\n",
       "      <td>2017-10-06 11:07:15</td>\n",
       "      <td>29.99</td>\n",
       "      <td>8.72</td>\n",
       "    </tr>\n",
       "    <tr>\n",
       "      <th>1</th>\n",
       "      <td>53cdb2fc8bc7dce0b6741e2150273451</td>\n",
       "      <td>2018-07-24 20:41:37</td>\n",
       "      <td>Tuesday</td>\n",
       "      <td>1</td>\n",
       "      <td>595fac2a385ac33a80bd5114aec74eb8</td>\n",
       "      <td>289cdb325fb7e7f891c38608bf9e0962</td>\n",
       "      <td>2018-07-30 03:24:27</td>\n",
       "      <td>118.70</td>\n",
       "      <td>22.76</td>\n",
       "    </tr>\n",
       "  </tbody>\n",
       "</table>\n",
       "</div>"
      ],
      "text/plain": [
       "                           order_id  purchase_timestamp  weekday  \\\n",
       "0  e481f51cbdc54678b7cc49136f2d6af7 2017-10-02 10:56:33   Monday   \n",
       "1  53cdb2fc8bc7dce0b6741e2150273451 2018-07-24 20:41:37  Tuesday   \n",
       "\n",
       "   order_item_id                        product_id  \\\n",
       "0              1  87285b34884572647811a353c7ac498a   \n",
       "1              1  595fac2a385ac33a80bd5114aec74eb8   \n",
       "\n",
       "                          seller_id shipping_limit_date   price  freight_value  \n",
       "0  3504c0cb71d7fa48d967e0e4c94d59d9 2017-10-06 11:07:15   29.99           8.72  \n",
       "1  289cdb325fb7e7f891c38608bf9e0962 2018-07-30 03:24:27  118.70          22.76  "
      ]
     },
     "execution_count": 278,
     "metadata": {},
     "output_type": "execute_result"
    }
   ],
   "source": [
    "purchase_q3_by_weekday.head(2)"
   ]
  },
  {
   "cell_type": "code",
   "execution_count": 279,
   "id": "b8f9f376",
   "metadata": {},
   "outputs": [
    {
     "data": {
      "text/html": [
       "<div>\n",
       "<style scoped>\n",
       "    .dataframe tbody tr th:only-of-type {\n",
       "        vertical-align: middle;\n",
       "    }\n",
       "\n",
       "    .dataframe tbody tr th {\n",
       "        vertical-align: top;\n",
       "    }\n",
       "\n",
       "    .dataframe thead th {\n",
       "        text-align: right;\n",
       "    }\n",
       "</style>\n",
       "<table border=\"1\" class=\"dataframe\">\n",
       "  <thead>\n",
       "    <tr style=\"text-align: right;\">\n",
       "      <th></th>\n",
       "      <th>product_id</th>\n",
       "      <th>weekday</th>\n",
       "      <th>order_id</th>\n",
       "      <th>purchase_timestamp</th>\n",
       "      <th>order_item_id</th>\n",
       "      <th>seller_id</th>\n",
       "      <th>shipping_limit_date</th>\n",
       "      <th>price</th>\n",
       "      <th>freight_value</th>\n",
       "    </tr>\n",
       "  </thead>\n",
       "  <tbody>\n",
       "    <tr>\n",
       "      <th>60876</th>\n",
       "      <td>fffe9eeff12fcbd74a2f2b007dde0c58</td>\n",
       "      <td>Wednesday</td>\n",
       "      <td>1</td>\n",
       "      <td>1</td>\n",
       "      <td>1</td>\n",
       "      <td>1</td>\n",
       "      <td>1</td>\n",
       "      <td>1</td>\n",
       "      <td>1</td>\n",
       "    </tr>\n",
       "    <tr>\n",
       "      <th>60875</th>\n",
       "      <td>fffdb2d0ec8d6a61f0a0a0db3f25b441</td>\n",
       "      <td>Tuesday</td>\n",
       "      <td>2</td>\n",
       "      <td>2</td>\n",
       "      <td>2</td>\n",
       "      <td>2</td>\n",
       "      <td>2</td>\n",
       "      <td>2</td>\n",
       "      <td>2</td>\n",
       "    </tr>\n",
       "  </tbody>\n",
       "</table>\n",
       "</div>"
      ],
      "text/plain": [
       "                             product_id    weekday  order_id  \\\n",
       "60876  fffe9eeff12fcbd74a2f2b007dde0c58  Wednesday         1   \n",
       "60875  fffdb2d0ec8d6a61f0a0a0db3f25b441    Tuesday         2   \n",
       "\n",
       "       purchase_timestamp  order_item_id  seller_id  shipping_limit_date  \\\n",
       "60876                   1              1          1                    1   \n",
       "60875                   2              2          2                    2   \n",
       "\n",
       "       price  freight_value  \n",
       "60876      1              1  \n",
       "60875      2              2  "
      ]
     },
     "execution_count": 279,
     "metadata": {},
     "output_type": "execute_result"
    }
   ],
   "source": [
    "product_by_weekday_q3=purchase_q3_by_weekday.\\\n",
    "                groupby(['product_id','weekday'],as_index=False).count().\\\n",
    "                sort_values(['product_id'],ascending=False)\n",
    "product_by_weekday_q3.head(2)"
   ]
  },
  {
   "cell_type": "markdown",
   "id": "a2a285aa",
   "metadata": {},
   "source": [
    "**Step 3:** <br>\n",
    "**Шаг 3:**"
   ]
  },
  {
   "cell_type": "code",
   "execution_count": 280,
   "id": "34019786",
   "metadata": {},
   "outputs": [],
   "source": [
    "max_product_by_weekday_q3=product_by_weekday_q3.groupby(['product_id'],as_index=False).agg({'order_id':'max'})"
   ]
  },
  {
   "cell_type": "code",
   "execution_count": 281,
   "id": "64f482da",
   "metadata": {},
   "outputs": [
    {
     "data": {
      "text/html": [
       "<div>\n",
       "<style scoped>\n",
       "    .dataframe tbody tr th:only-of-type {\n",
       "        vertical-align: middle;\n",
       "    }\n",
       "\n",
       "    .dataframe tbody tr th {\n",
       "        vertical-align: top;\n",
       "    }\n",
       "\n",
       "    .dataframe thead th {\n",
       "        text-align: right;\n",
       "    }\n",
       "</style>\n",
       "<table border=\"1\" class=\"dataframe\">\n",
       "  <thead>\n",
       "    <tr style=\"text-align: right;\">\n",
       "      <th></th>\n",
       "      <th>product_id</th>\n",
       "      <th>order_id</th>\n",
       "    </tr>\n",
       "  </thead>\n",
       "  <tbody>\n",
       "    <tr>\n",
       "      <th>0</th>\n",
       "      <td>00066f42aeeb9f3007548bb9d3f33c38</td>\n",
       "      <td>1</td>\n",
       "    </tr>\n",
       "    <tr>\n",
       "      <th>1</th>\n",
       "      <td>00088930e925c41fd95ebfe695fd2655</td>\n",
       "      <td>1</td>\n",
       "    </tr>\n",
       "  </tbody>\n",
       "</table>\n",
       "</div>"
      ],
      "text/plain": [
       "                         product_id  order_id\n",
       "0  00066f42aeeb9f3007548bb9d3f33c38         1\n",
       "1  00088930e925c41fd95ebfe695fd2655         1"
      ]
     },
     "execution_count": 281,
     "metadata": {},
     "output_type": "execute_result"
    }
   ],
   "source": [
    "max_product_by_weekday_q3.head(2)"
   ]
  },
  {
   "cell_type": "code",
   "execution_count": 282,
   "id": "339a2131",
   "metadata": {},
   "outputs": [],
   "source": [
    "product_id_by_weekday_q3=product_by_weekday_q3.merge(max_product_by_weekday_q3, on=('product_id','order_id'))"
   ]
  },
  {
   "cell_type": "markdown",
   "id": "f8c78ef2",
   "metadata": {},
   "source": [
    "**Step 4:** <br>\n",
    "**Шаг 4:**"
   ]
  },
  {
   "cell_type": "code",
   "execution_count": 283,
   "id": "59b47403",
   "metadata": {},
   "outputs": [],
   "source": [
    "question_3_answer=product_id_by_weekday_q3.groupby(['product_id'],as_index=False).\\\n",
    "agg({'weekday':lambda x:x.to_list()})"
   ]
  },
  {
   "cell_type": "markdown",
   "id": "0c2fe3ea",
   "metadata": {},
   "source": [
    "## Answer to Question 3\n",
    "## Ответ на Вопрос 3"
   ]
  },
  {
   "cell_type": "code",
   "execution_count": 284,
   "id": "9ae29b23",
   "metadata": {},
   "outputs": [
    {
     "data": {
      "text/html": [
       "<div>\n",
       "<style scoped>\n",
       "    .dataframe tbody tr th:only-of-type {\n",
       "        vertical-align: middle;\n",
       "    }\n",
       "\n",
       "    .dataframe tbody tr th {\n",
       "        vertical-align: top;\n",
       "    }\n",
       "\n",
       "    .dataframe thead th {\n",
       "        text-align: right;\n",
       "    }\n",
       "</style>\n",
       "<table border=\"1\" class=\"dataframe\">\n",
       "  <thead>\n",
       "    <tr style=\"text-align: right;\">\n",
       "      <th></th>\n",
       "      <th>product_id</th>\n",
       "      <th>weekday</th>\n",
       "    </tr>\n",
       "  </thead>\n",
       "  <tbody>\n",
       "    <tr>\n",
       "      <th>0</th>\n",
       "      <td>00066f42aeeb9f3007548bb9d3f33c38</td>\n",
       "      <td>[Sunday]</td>\n",
       "    </tr>\n",
       "    <tr>\n",
       "      <th>1</th>\n",
       "      <td>00088930e925c41fd95ebfe695fd2655</td>\n",
       "      <td>[Tuesday]</td>\n",
       "    </tr>\n",
       "    <tr>\n",
       "      <th>2</th>\n",
       "      <td>0009406fd7479715e4bef61dd91f2462</td>\n",
       "      <td>[Thursday]</td>\n",
       "    </tr>\n",
       "    <tr>\n",
       "      <th>3</th>\n",
       "      <td>000b8f95fcb9e0096488278317764d19</td>\n",
       "      <td>[Wednesday, Friday]</td>\n",
       "    </tr>\n",
       "    <tr>\n",
       "      <th>4</th>\n",
       "      <td>000d9be29b5207b54e86aa1b1ac54872</td>\n",
       "      <td>[Tuesday]</td>\n",
       "    </tr>\n",
       "    <tr>\n",
       "      <th>...</th>\n",
       "      <td>...</td>\n",
       "      <td>...</td>\n",
       "    </tr>\n",
       "    <tr>\n",
       "      <th>32719</th>\n",
       "      <td>fff6177642830a9a94a0f2cba5e476d1</td>\n",
       "      <td>[Sunday, Saturday]</td>\n",
       "    </tr>\n",
       "    <tr>\n",
       "      <th>32720</th>\n",
       "      <td>fff81cc3158d2725c0655ab9ba0f712c</td>\n",
       "      <td>[Monday]</td>\n",
       "    </tr>\n",
       "    <tr>\n",
       "      <th>32721</th>\n",
       "      <td>fff9553ac224cec9d15d49f5a263411f</td>\n",
       "      <td>[Friday]</td>\n",
       "    </tr>\n",
       "    <tr>\n",
       "      <th>32722</th>\n",
       "      <td>fffdb2d0ec8d6a61f0a0a0db3f25b441</td>\n",
       "      <td>[Tuesday]</td>\n",
       "    </tr>\n",
       "    <tr>\n",
       "      <th>32723</th>\n",
       "      <td>fffe9eeff12fcbd74a2f2b007dde0c58</td>\n",
       "      <td>[Wednesday]</td>\n",
       "    </tr>\n",
       "  </tbody>\n",
       "</table>\n",
       "<p>32724 rows × 2 columns</p>\n",
       "</div>"
      ],
      "text/plain": [
       "                             product_id              weekday\n",
       "0      00066f42aeeb9f3007548bb9d3f33c38             [Sunday]\n",
       "1      00088930e925c41fd95ebfe695fd2655            [Tuesday]\n",
       "2      0009406fd7479715e4bef61dd91f2462           [Thursday]\n",
       "3      000b8f95fcb9e0096488278317764d19  [Wednesday, Friday]\n",
       "4      000d9be29b5207b54e86aa1b1ac54872            [Tuesday]\n",
       "...                                 ...                  ...\n",
       "32719  fff6177642830a9a94a0f2cba5e476d1   [Sunday, Saturday]\n",
       "32720  fff81cc3158d2725c0655ab9ba0f712c             [Monday]\n",
       "32721  fff9553ac224cec9d15d49f5a263411f             [Friday]\n",
       "32722  fffdb2d0ec8d6a61f0a0a0db3f25b441            [Tuesday]\n",
       "32723  fffe9eeff12fcbd74a2f2b007dde0c58          [Wednesday]\n",
       "\n",
       "[32724 rows x 2 columns]"
      ]
     },
     "execution_count": 284,
     "metadata": {},
     "output_type": "execute_result"
    }
   ],
   "source": [
    "question_3_answer"
   ]
  },
  {
   "cell_type": "markdown",
   "id": "43367fcd",
   "metadata": {},
   "source": [
    "## Question 4\n"
   ]
  },
  {
   "cell_type": "markdown",
   "id": "d86636b8",
   "metadata": {},
   "source": [
    "Сколько у каждого из пользователей в среднем покупок в неделю (по месяцам)? "
   ]
  },
  {
   "cell_type": "markdown",
   "id": "904512c0",
   "metadata": {},
   "source": [
    "**Step 1:** get month-year column for each entry, number of days in a month <br>\n",
    "**Step 2:** count orders in a month, aggregate number of days as average <br>\n",
    "**Step 3:** calculate average for each user <br>\n",
    "<br>\n",
    "**Шаг 1:** достанем месяц-год для каждой записи, а так же число дней в этом месяце<br>\n",
    "**Шаг 2:** посчитаем заказы в месяце, рассчитаем среднее<br>\n",
    "**Шаг 3:** рассчитаем среднее для каждого пользователя"
   ]
  },
  {
   "cell_type": "markdown",
   "id": "b5ab69f1",
   "metadata": {},
   "source": [
    "**Step 1:** <br>\n",
    "**Шаг 1:** <br>"
   ]
  },
  {
   "cell_type": "code",
   "execution_count": 285,
   "id": "0f7fa341",
   "metadata": {},
   "outputs": [
    {
     "data": {
      "text/html": [
       "<div>\n",
       "<style scoped>\n",
       "    .dataframe tbody tr th:only-of-type {\n",
       "        vertical-align: middle;\n",
       "    }\n",
       "\n",
       "    .dataframe tbody tr th {\n",
       "        vertical-align: top;\n",
       "    }\n",
       "\n",
       "    .dataframe thead th {\n",
       "        text-align: right;\n",
       "    }\n",
       "</style>\n",
       "<table border=\"1\" class=\"dataframe\">\n",
       "  <thead>\n",
       "    <tr style=\"text-align: right;\">\n",
       "      <th></th>\n",
       "      <th>order_id</th>\n",
       "      <th>customer_id</th>\n",
       "      <th>order_status</th>\n",
       "      <th>purchase_timestamp</th>\n",
       "      <th>approved_at</th>\n",
       "      <th>delivered_carrier_date</th>\n",
       "      <th>delivered_customer_date</th>\n",
       "      <th>estimated_delivery_date</th>\n",
       "      <th>month_year</th>\n",
       "      <th>days_in_month</th>\n",
       "      <th>customer_unique_id</th>\n",
       "    </tr>\n",
       "  </thead>\n",
       "  <tbody>\n",
       "    <tr>\n",
       "      <th>0</th>\n",
       "      <td>e481f51cbdc54678b7cc49136f2d6af7</td>\n",
       "      <td>9ef432eb6251297304e76186b10a928d</td>\n",
       "      <td>delivered</td>\n",
       "      <td>2017-10-02 10:56:33</td>\n",
       "      <td>2017-10-02 11:07:15</td>\n",
       "      <td>2017-10-04 19:55:00</td>\n",
       "      <td>2017-10-10 21:25:13</td>\n",
       "      <td>2017-10-18</td>\n",
       "      <td>2017-10</td>\n",
       "      <td>31</td>\n",
       "      <td>7c396fd4830fd04220f754e42b4e5bff</td>\n",
       "    </tr>\n",
       "    <tr>\n",
       "      <th>1</th>\n",
       "      <td>53cdb2fc8bc7dce0b6741e2150273451</td>\n",
       "      <td>b0830fb4747a6c6d20dea0b8c802d7ef</td>\n",
       "      <td>delivered</td>\n",
       "      <td>2018-07-24 20:41:37</td>\n",
       "      <td>2018-07-26 03:24:27</td>\n",
       "      <td>2018-07-26 14:31:00</td>\n",
       "      <td>2018-08-07 15:27:45</td>\n",
       "      <td>2018-08-13</td>\n",
       "      <td>2018-07</td>\n",
       "      <td>31</td>\n",
       "      <td>af07308b275d755c9edb36a90c618231</td>\n",
       "    </tr>\n",
       "  </tbody>\n",
       "</table>\n",
       "</div>"
      ],
      "text/plain": [
       "                           order_id                       customer_id  \\\n",
       "0  e481f51cbdc54678b7cc49136f2d6af7  9ef432eb6251297304e76186b10a928d   \n",
       "1  53cdb2fc8bc7dce0b6741e2150273451  b0830fb4747a6c6d20dea0b8c802d7ef   \n",
       "\n",
       "  order_status  purchase_timestamp         approved_at delivered_carrier_date  \\\n",
       "0    delivered 2017-10-02 10:56:33 2017-10-02 11:07:15    2017-10-04 19:55:00   \n",
       "1    delivered 2018-07-24 20:41:37 2018-07-26 03:24:27    2018-07-26 14:31:00   \n",
       "\n",
       "  delivered_customer_date estimated_delivery_date month_year  days_in_month  \\\n",
       "0     2017-10-10 21:25:13              2017-10-18    2017-10             31   \n",
       "1     2018-08-07 15:27:45              2018-08-13    2018-07             31   \n",
       "\n",
       "                 customer_unique_id  \n",
       "0  7c396fd4830fd04220f754e42b4e5bff  \n",
       "1  af07308b275d755c9edb36a90c618231  "
      ]
     },
     "execution_count": 285,
     "metadata": {},
     "output_type": "execute_result"
    }
   ],
   "source": [
    "purchase_q4=purchase.copy()\n",
    "purchase_q4['month_year']=purchase_q4['purchase_timestamp'].dt.to_period('M')\n",
    "purchase_q4['days_in_month']=purchase_q4['purchase_timestamp'].dt.daysinmonth\n",
    "purchase_q4=purchase_q4.merge(customers.drop(['customer_zip_code_prefix',\n",
    "                                        'customer_city',\n",
    "                                         'customer_state'], axis=1),\n",
    "                                        left_on='customer_id', right_on='customer_id')\n",
    "purchase_q4.head(2)"
   ]
  },
  {
   "cell_type": "markdown",
   "id": "ca36c345",
   "metadata": {},
   "source": [
    "**Step 2:** <br>\n",
    "**Шаг 2:** "
   ]
  },
  {
   "cell_type": "code",
   "execution_count": 289,
   "id": "845ef9e2",
   "metadata": {},
   "outputs": [
    {
     "data": {
      "text/html": [
       "<div>\n",
       "<style scoped>\n",
       "    .dataframe tbody tr th:only-of-type {\n",
       "        vertical-align: middle;\n",
       "    }\n",
       "\n",
       "    .dataframe tbody tr th {\n",
       "        vertical-align: top;\n",
       "    }\n",
       "\n",
       "    .dataframe thead th {\n",
       "        text-align: right;\n",
       "    }\n",
       "</style>\n",
       "<table border=\"1\" class=\"dataframe\">\n",
       "  <thead>\n",
       "    <tr style=\"text-align: right;\">\n",
       "      <th></th>\n",
       "      <th></th>\n",
       "      <th>purchase_quantity</th>\n",
       "      <th>days_in_month</th>\n",
       "      <th>week_factor</th>\n",
       "    </tr>\n",
       "    <tr>\n",
       "      <th>customer_unique_id</th>\n",
       "      <th>month_year</th>\n",
       "      <th></th>\n",
       "      <th></th>\n",
       "      <th></th>\n",
       "    </tr>\n",
       "  </thead>\n",
       "  <tbody>\n",
       "    <tr>\n",
       "      <th>12f5d6e1cbf93dafd9dcc19095df0b3d</th>\n",
       "      <th>2017-01</th>\n",
       "      <td>6</td>\n",
       "      <td>31.0</td>\n",
       "      <td>4.428571</td>\n",
       "    </tr>\n",
       "    <tr>\n",
       "      <th>b08fab27d47a1eb6deda07bfd965ad43</th>\n",
       "      <th>2017-09</th>\n",
       "      <td>4</td>\n",
       "      <td>30.0</td>\n",
       "      <td>4.285714</td>\n",
       "    </tr>\n",
       "    <tr>\n",
       "      <th>3e43e6105506432c953e165fb2acf44c</th>\n",
       "      <th>2018-02</th>\n",
       "      <td>4</td>\n",
       "      <td>28.0</td>\n",
       "      <td>4.000000</td>\n",
       "    </tr>\n",
       "    <tr>\n",
       "      <th>83e7958a94bd7f74a9414d8782f87628</th>\n",
       "      <th>2017-01</th>\n",
       "      <td>4</td>\n",
       "      <td>31.0</td>\n",
       "      <td>4.428571</td>\n",
       "    </tr>\n",
       "    <tr>\n",
       "      <th>25a560b9a6006157838aab1bdbd68624</th>\n",
       "      <th>2017-04</th>\n",
       "      <td>4</td>\n",
       "      <td>30.0</td>\n",
       "      <td>4.285714</td>\n",
       "    </tr>\n",
       "    <tr>\n",
       "      <th>...</th>\n",
       "      <th>...</th>\n",
       "      <td>...</td>\n",
       "      <td>...</td>\n",
       "      <td>...</td>\n",
       "    </tr>\n",
       "    <tr>\n",
       "      <th>5596f39d3816bf53e8c25417bb603b92</th>\n",
       "      <th>2017-11</th>\n",
       "      <td>1</td>\n",
       "      <td>30.0</td>\n",
       "      <td>4.285714</td>\n",
       "    </tr>\n",
       "    <tr>\n",
       "      <th>5596da0d33997ed7cd9020fa7af0649b</th>\n",
       "      <th>2017-07</th>\n",
       "      <td>1</td>\n",
       "      <td>31.0</td>\n",
       "      <td>4.428571</td>\n",
       "    </tr>\n",
       "    <tr>\n",
       "      <th>559620bb304bfa901a54939d04dd203f</th>\n",
       "      <th>2018-01</th>\n",
       "      <td>1</td>\n",
       "      <td>31.0</td>\n",
       "      <td>4.428571</td>\n",
       "    </tr>\n",
       "    <tr>\n",
       "      <th>5595fb3aa8c496ff254d154b263e80cd</th>\n",
       "      <th>2018-03</th>\n",
       "      <td>1</td>\n",
       "      <td>31.0</td>\n",
       "      <td>4.428571</td>\n",
       "    </tr>\n",
       "    <tr>\n",
       "      <th>ffffd2657e2aad2907e67c3e9daecbeb</th>\n",
       "      <th>2017-05</th>\n",
       "      <td>1</td>\n",
       "      <td>31.0</td>\n",
       "      <td>4.428571</td>\n",
       "    </tr>\n",
       "  </tbody>\n",
       "</table>\n",
       "<p>96847 rows × 3 columns</p>\n",
       "</div>"
      ],
      "text/plain": [
       "                                             purchase_quantity  days_in_month  \\\n",
       "customer_unique_id               month_year                                     \n",
       "12f5d6e1cbf93dafd9dcc19095df0b3d 2017-01                     6           31.0   \n",
       "b08fab27d47a1eb6deda07bfd965ad43 2017-09                     4           30.0   \n",
       "3e43e6105506432c953e165fb2acf44c 2018-02                     4           28.0   \n",
       "83e7958a94bd7f74a9414d8782f87628 2017-01                     4           31.0   \n",
       "25a560b9a6006157838aab1bdbd68624 2017-04                     4           30.0   \n",
       "...                                                        ...            ...   \n",
       "5596f39d3816bf53e8c25417bb603b92 2017-11                     1           30.0   \n",
       "5596da0d33997ed7cd9020fa7af0649b 2017-07                     1           31.0   \n",
       "559620bb304bfa901a54939d04dd203f 2018-01                     1           31.0   \n",
       "5595fb3aa8c496ff254d154b263e80cd 2018-03                     1           31.0   \n",
       "ffffd2657e2aad2907e67c3e9daecbeb 2017-05                     1           31.0   \n",
       "\n",
       "                                             week_factor  \n",
       "customer_unique_id               month_year               \n",
       "12f5d6e1cbf93dafd9dcc19095df0b3d 2017-01        4.428571  \n",
       "b08fab27d47a1eb6deda07bfd965ad43 2017-09        4.285714  \n",
       "3e43e6105506432c953e165fb2acf44c 2018-02        4.000000  \n",
       "83e7958a94bd7f74a9414d8782f87628 2017-01        4.428571  \n",
       "25a560b9a6006157838aab1bdbd68624 2017-04        4.285714  \n",
       "...                                                  ...  \n",
       "5596f39d3816bf53e8c25417bb603b92 2017-11        4.285714  \n",
       "5596da0d33997ed7cd9020fa7af0649b 2017-07        4.428571  \n",
       "559620bb304bfa901a54939d04dd203f 2018-01        4.428571  \n",
       "5595fb3aa8c496ff254d154b263e80cd 2018-03        4.428571  \n",
       "ffffd2657e2aad2907e67c3e9daecbeb 2017-05        4.428571  \n",
       "\n",
       "[96847 rows x 3 columns]"
      ]
     },
     "execution_count": 289,
     "metadata": {},
     "output_type": "execute_result"
    }
   ],
   "source": [
    "purchases_completed_by_user_month=purchase_q4.\\\n",
    "    groupby(['customer_unique_id','month_year']).\\\n",
    "    agg({'purchase_timestamp':'count','days_in_month':'mean'}).\\\n",
    "    sort_values('purchase_timestamp', ascending=False).\\\n",
    "    rename(columns={'purchase_timestamp':'purchase_quantity'})\n",
    "purchases_completed_by_user_month['week_factor']=purchases_completed_by_user_month['days_in_month']/7\n",
    "purchases_completed_by_user_month"
   ]
  },
  {
   "cell_type": "markdown",
   "id": "06cb279a",
   "metadata": {},
   "source": [
    "**Step 3:** <br>\n",
    "**Шаг 3:**"
   ]
  },
  {
   "cell_type": "code",
   "execution_count": 287,
   "id": "828ac40d",
   "metadata": {},
   "outputs": [],
   "source": [
    "purchases_completed_by_user_month['average_per_week']=purchases_completed_by_user_month['purchase_quantity']/\\\n",
    "purchases_completed_by_user_month['days_in_month']*7"
   ]
  },
  {
   "cell_type": "markdown",
   "id": "f884871e",
   "metadata": {},
   "source": [
    "## Answer to Question 4\n",
    "## Ответ на Вопрос 4"
   ]
  },
  {
   "cell_type": "code",
   "execution_count": 288,
   "id": "e66a9309",
   "metadata": {},
   "outputs": [
    {
     "data": {
      "text/html": [
       "<div>\n",
       "<style scoped>\n",
       "    .dataframe tbody tr th:only-of-type {\n",
       "        vertical-align: middle;\n",
       "    }\n",
       "\n",
       "    .dataframe tbody tr th {\n",
       "        vertical-align: top;\n",
       "    }\n",
       "\n",
       "    .dataframe thead th {\n",
       "        text-align: right;\n",
       "    }\n",
       "</style>\n",
       "<table border=\"1\" class=\"dataframe\">\n",
       "  <thead>\n",
       "    <tr style=\"text-align: right;\">\n",
       "      <th></th>\n",
       "      <th></th>\n",
       "      <th>average_per_week</th>\n",
       "    </tr>\n",
       "    <tr>\n",
       "      <th>customer_unique_id</th>\n",
       "      <th>month_year</th>\n",
       "      <th></th>\n",
       "    </tr>\n",
       "  </thead>\n",
       "  <tbody>\n",
       "    <tr>\n",
       "      <th>ffffd2657e2aad2907e67c3e9daecbeb</th>\n",
       "      <th>2017-05</th>\n",
       "      <td>0.225806</td>\n",
       "    </tr>\n",
       "    <tr>\n",
       "      <th>ffff5962728ec6157033ef9805bacc48</th>\n",
       "      <th>2018-05</th>\n",
       "      <td>0.225806</td>\n",
       "    </tr>\n",
       "    <tr>\n",
       "      <th>ffff371b4d645b6ecea244b27531430a</th>\n",
       "      <th>2017-02</th>\n",
       "      <td>0.250000</td>\n",
       "    </tr>\n",
       "    <tr>\n",
       "      <th>fffea47cd6d3cc0a88bd621562a9d061</th>\n",
       "      <th>2017-12</th>\n",
       "      <td>0.225806</td>\n",
       "    </tr>\n",
       "    <tr>\n",
       "      <th>fffcf5a5ff07b0908bd4e2dbc735a684</th>\n",
       "      <th>2017-06</th>\n",
       "      <td>0.233333</td>\n",
       "    </tr>\n",
       "    <tr>\n",
       "      <th>...</th>\n",
       "      <th>...</th>\n",
       "      <td>...</td>\n",
       "    </tr>\n",
       "    <tr>\n",
       "      <th>0004aac84e0df4da2b147fca70cf8255</th>\n",
       "      <th>2017-11</th>\n",
       "      <td>0.233333</td>\n",
       "    </tr>\n",
       "    <tr>\n",
       "      <th>0000f6ccb0745a6a4b88665a16c9f078</th>\n",
       "      <th>2017-10</th>\n",
       "      <td>0.225806</td>\n",
       "    </tr>\n",
       "    <tr>\n",
       "      <th>0000f46a3911fa3c0805444483337064</th>\n",
       "      <th>2017-03</th>\n",
       "      <td>0.225806</td>\n",
       "    </tr>\n",
       "    <tr>\n",
       "      <th>0000b849f77a49e4a4ce2b2a4ca5be3f</th>\n",
       "      <th>2018-05</th>\n",
       "      <td>0.225806</td>\n",
       "    </tr>\n",
       "    <tr>\n",
       "      <th>0000366f3b9a7992bf8c76cfdf3221e2</th>\n",
       "      <th>2018-05</th>\n",
       "      <td>0.225806</td>\n",
       "    </tr>\n",
       "  </tbody>\n",
       "</table>\n",
       "<p>96847 rows × 1 columns</p>\n",
       "</div>"
      ],
      "text/plain": [
       "                                             average_per_week\n",
       "customer_unique_id               month_year                  \n",
       "ffffd2657e2aad2907e67c3e9daecbeb 2017-05             0.225806\n",
       "ffff5962728ec6157033ef9805bacc48 2018-05             0.225806\n",
       "ffff371b4d645b6ecea244b27531430a 2017-02             0.250000\n",
       "fffea47cd6d3cc0a88bd621562a9d061 2017-12             0.225806\n",
       "fffcf5a5ff07b0908bd4e2dbc735a684 2017-06             0.233333\n",
       "...                                                       ...\n",
       "0004aac84e0df4da2b147fca70cf8255 2017-11             0.233333\n",
       "0000f6ccb0745a6a4b88665a16c9f078 2017-10             0.225806\n",
       "0000f46a3911fa3c0805444483337064 2017-03             0.225806\n",
       "0000b849f77a49e4a4ce2b2a4ca5be3f 2018-05             0.225806\n",
       "0000366f3b9a7992bf8c76cfdf3221e2 2018-05             0.225806\n",
       "\n",
       "[96847 rows x 1 columns]"
      ]
     },
     "execution_count": 288,
     "metadata": {},
     "output_type": "execute_result"
    }
   ],
   "source": [
    "purchases_completed_by_user_month.average_per_week.to_frame().\\\n",
    "sort_values('customer_unique_id',ascending=False)"
   ]
  },
  {
   "cell_type": "markdown",
   "id": "b983bf7c",
   "metadata": {},
   "source": [
    "## Question 5\n"
   ]
  },
  {
   "cell_type": "markdown",
   "id": "91c8a41d",
   "metadata": {},
   "source": [
    "Используя pandas, проведи когортный анализ пользователей. \n",
    "В период с января по декабрь выяви когорту с самым высоким retention на 3й месяц."
   ]
  },
  {
   "cell_type": "code",
   "execution_count": 309,
   "id": "1e1b3904",
   "metadata": {},
   "outputs": [],
   "source": [
    "purchase_q5=purchase.copy()"
   ]
  },
  {
   "cell_type": "markdown",
   "id": "664b1a5a",
   "metadata": {},
   "source": [
    "Let's define the period for which we will caclulate retention period<br>\n",
    "Определим период для которого будем считать retention"
   ]
  },
  {
   "cell_type": "code",
   "execution_count": 310,
   "id": "4848473e",
   "metadata": {},
   "outputs": [],
   "source": [
    "purchase_q5=purchase_q5.merge(customers.drop(['customer_zip_code_prefix',\n",
    "                                        'customer_city',\n",
    "                                         'customer_state'], axis=1),\n",
    "                                        left_on='customer_id', right_on='customer_id')\n"
   ]
  },
  {
   "cell_type": "code",
   "execution_count": 311,
   "id": "2806cc67",
   "metadata": {},
   "outputs": [
    {
     "data": {
      "text/html": [
       "<div>\n",
       "<style scoped>\n",
       "    .dataframe tbody tr th:only-of-type {\n",
       "        vertical-align: middle;\n",
       "    }\n",
       "\n",
       "    .dataframe tbody tr th {\n",
       "        vertical-align: top;\n",
       "    }\n",
       "\n",
       "    .dataframe thead th {\n",
       "        text-align: right;\n",
       "    }\n",
       "</style>\n",
       "<table border=\"1\" class=\"dataframe\">\n",
       "  <thead>\n",
       "    <tr style=\"text-align: right;\">\n",
       "      <th></th>\n",
       "      <th>order_id</th>\n",
       "      <th>customer_id</th>\n",
       "      <th>order_status</th>\n",
       "      <th>purchase_timestamp</th>\n",
       "      <th>approved_at</th>\n",
       "      <th>delivered_carrier_date</th>\n",
       "      <th>delivered_customer_date</th>\n",
       "      <th>estimated_delivery_date</th>\n",
       "      <th>customer_unique_id</th>\n",
       "    </tr>\n",
       "  </thead>\n",
       "  <tbody>\n",
       "    <tr>\n",
       "      <th>0</th>\n",
       "      <td>e481f51cbdc54678b7cc49136f2d6af7</td>\n",
       "      <td>9ef432eb6251297304e76186b10a928d</td>\n",
       "      <td>delivered</td>\n",
       "      <td>2017-10-02 10:56:33</td>\n",
       "      <td>2017-10-02 11:07:15</td>\n",
       "      <td>2017-10-04 19:55:00</td>\n",
       "      <td>2017-10-10 21:25:13</td>\n",
       "      <td>2017-10-18</td>\n",
       "      <td>7c396fd4830fd04220f754e42b4e5bff</td>\n",
       "    </tr>\n",
       "    <tr>\n",
       "      <th>1</th>\n",
       "      <td>53cdb2fc8bc7dce0b6741e2150273451</td>\n",
       "      <td>b0830fb4747a6c6d20dea0b8c802d7ef</td>\n",
       "      <td>delivered</td>\n",
       "      <td>2018-07-24 20:41:37</td>\n",
       "      <td>2018-07-26 03:24:27</td>\n",
       "      <td>2018-07-26 14:31:00</td>\n",
       "      <td>2018-08-07 15:27:45</td>\n",
       "      <td>2018-08-13</td>\n",
       "      <td>af07308b275d755c9edb36a90c618231</td>\n",
       "    </tr>\n",
       "  </tbody>\n",
       "</table>\n",
       "</div>"
      ],
      "text/plain": [
       "                           order_id                       customer_id  \\\n",
       "0  e481f51cbdc54678b7cc49136f2d6af7  9ef432eb6251297304e76186b10a928d   \n",
       "1  53cdb2fc8bc7dce0b6741e2150273451  b0830fb4747a6c6d20dea0b8c802d7ef   \n",
       "\n",
       "  order_status  purchase_timestamp         approved_at delivered_carrier_date  \\\n",
       "0    delivered 2017-10-02 10:56:33 2017-10-02 11:07:15    2017-10-04 19:55:00   \n",
       "1    delivered 2018-07-24 20:41:37 2018-07-26 03:24:27    2018-07-26 14:31:00   \n",
       "\n",
       "  delivered_customer_date estimated_delivery_date  \\\n",
       "0     2017-10-10 21:25:13              2017-10-18   \n",
       "1     2018-08-07 15:27:45              2018-08-13   \n",
       "\n",
       "                 customer_unique_id  \n",
       "0  7c396fd4830fd04220f754e42b4e5bff  \n",
       "1  af07308b275d755c9edb36a90c618231  "
      ]
     },
     "execution_count": 311,
     "metadata": {},
     "output_type": "execute_result"
    }
   ],
   "source": [
    "purchase_q5.head(2)"
   ]
  },
  {
   "cell_type": "code",
   "execution_count": 312,
   "id": "5fe607fb",
   "metadata": {},
   "outputs": [
    {
     "data": {
      "text/html": [
       "<div>\n",
       "<style scoped>\n",
       "    .dataframe tbody tr th:only-of-type {\n",
       "        vertical-align: middle;\n",
       "    }\n",
       "\n",
       "    .dataframe tbody tr th {\n",
       "        vertical-align: top;\n",
       "    }\n",
       "\n",
       "    .dataframe thead th {\n",
       "        text-align: right;\n",
       "    }\n",
       "</style>\n",
       "<table border=\"1\" class=\"dataframe\">\n",
       "  <thead>\n",
       "    <tr style=\"text-align: right;\">\n",
       "      <th></th>\n",
       "      <th>order_id</th>\n",
       "      <th>customer_id</th>\n",
       "      <th>order_status</th>\n",
       "      <th>purchase_timestamp</th>\n",
       "      <th>approved_at</th>\n",
       "      <th>delivered_carrier_date</th>\n",
       "      <th>delivered_customer_date</th>\n",
       "      <th>estimated_delivery_date</th>\n",
       "      <th>customer_unique_id</th>\n",
       "      <th>month_of_first_purchase</th>\n",
       "    </tr>\n",
       "  </thead>\n",
       "  <tbody>\n",
       "    <tr>\n",
       "      <th>0</th>\n",
       "      <td>e481f51cbdc54678b7cc49136f2d6af7</td>\n",
       "      <td>9ef432eb6251297304e76186b10a928d</td>\n",
       "      <td>delivered</td>\n",
       "      <td>2017-10-02 10:56:33</td>\n",
       "      <td>2017-10-02 11:07:15</td>\n",
       "      <td>2017-10-04 19:55:00</td>\n",
       "      <td>2017-10-10 21:25:13</td>\n",
       "      <td>2017-10-18</td>\n",
       "      <td>7c396fd4830fd04220f754e42b4e5bff</td>\n",
       "      <td>2017-10</td>\n",
       "    </tr>\n",
       "    <tr>\n",
       "      <th>1</th>\n",
       "      <td>53cdb2fc8bc7dce0b6741e2150273451</td>\n",
       "      <td>b0830fb4747a6c6d20dea0b8c802d7ef</td>\n",
       "      <td>delivered</td>\n",
       "      <td>2018-07-24 20:41:37</td>\n",
       "      <td>2018-07-26 03:24:27</td>\n",
       "      <td>2018-07-26 14:31:00</td>\n",
       "      <td>2018-08-07 15:27:45</td>\n",
       "      <td>2018-08-13</td>\n",
       "      <td>af07308b275d755c9edb36a90c618231</td>\n",
       "      <td>2018-07</td>\n",
       "    </tr>\n",
       "  </tbody>\n",
       "</table>\n",
       "</div>"
      ],
      "text/plain": [
       "                           order_id                       customer_id  \\\n",
       "0  e481f51cbdc54678b7cc49136f2d6af7  9ef432eb6251297304e76186b10a928d   \n",
       "1  53cdb2fc8bc7dce0b6741e2150273451  b0830fb4747a6c6d20dea0b8c802d7ef   \n",
       "\n",
       "  order_status  purchase_timestamp         approved_at delivered_carrier_date  \\\n",
       "0    delivered 2017-10-02 10:56:33 2017-10-02 11:07:15    2017-10-04 19:55:00   \n",
       "1    delivered 2018-07-24 20:41:37 2018-07-26 03:24:27    2018-07-26 14:31:00   \n",
       "\n",
       "  delivered_customer_date estimated_delivery_date  \\\n",
       "0     2017-10-10 21:25:13              2017-10-18   \n",
       "1     2018-08-07 15:27:45              2018-08-13   \n",
       "\n",
       "                 customer_unique_id month_of_first_purchase  \n",
       "0  7c396fd4830fd04220f754e42b4e5bff                 2017-10  \n",
       "1  af07308b275d755c9edb36a90c618231                 2018-07  "
      ]
     },
     "execution_count": 312,
     "metadata": {},
     "output_type": "execute_result"
    }
   ],
   "source": [
    "purchase_q5['month_of_first_purchase']=purchase_q5['purchase_timestamp'].dt.to_period('M')\n",
    "purchase_q5.head(2)"
   ]
  },
  {
   "cell_type": "code",
   "execution_count": 313,
   "id": "b5cd8005",
   "metadata": {},
   "outputs": [
    {
     "data": {
      "text/html": [
       "<div>\n",
       "<style scoped>\n",
       "    .dataframe tbody tr th:only-of-type {\n",
       "        vertical-align: middle;\n",
       "    }\n",
       "\n",
       "    .dataframe tbody tr th {\n",
       "        vertical-align: top;\n",
       "    }\n",
       "\n",
       "    .dataframe thead th {\n",
       "        text-align: right;\n",
       "    }\n",
       "</style>\n",
       "<table border=\"1\" class=\"dataframe\">\n",
       "  <thead>\n",
       "    <tr style=\"text-align: right;\">\n",
       "      <th></th>\n",
       "      <th>customer_unique_id</th>\n",
       "      <th>month_of_first_purchase</th>\n",
       "      <th>key</th>\n",
       "    </tr>\n",
       "  </thead>\n",
       "  <tbody>\n",
       "    <tr>\n",
       "      <th>0</th>\n",
       "      <td>0000366f3b9a7992bf8c76cfdf3221e2</td>\n",
       "      <td>2018-05</td>\n",
       "      <td>1</td>\n",
       "    </tr>\n",
       "    <tr>\n",
       "      <th>1</th>\n",
       "      <td>0000b849f77a49e4a4ce2b2a4ca5be3f</td>\n",
       "      <td>2018-05</td>\n",
       "      <td>1</td>\n",
       "    </tr>\n",
       "  </tbody>\n",
       "</table>\n",
       "</div>"
      ],
      "text/plain": [
       "                 customer_unique_id month_of_first_purchase  key\n",
       "0  0000366f3b9a7992bf8c76cfdf3221e2                 2018-05    1\n",
       "1  0000b849f77a49e4a4ce2b2a4ca5be3f                 2018-05    1"
      ]
     },
     "execution_count": 313,
     "metadata": {},
     "output_type": "execute_result"
    }
   ],
   "source": [
    "first_purchase=purchase_q5.groupby(['customer_unique_id'],as_index=False)\\\n",
    "              ['month_of_first_purchase'].min()\n",
    "first_purchase['key']=1\n",
    "first_purchase.head(2)"
   ]
  },
  {
   "cell_type": "code",
   "execution_count": 314,
   "id": "6d6b7a21",
   "metadata": {},
   "outputs": [
    {
     "data": {
      "text/plain": [
       "<PeriodArray>\n",
       "['2018-09', '2018-08', '2018-07', '2018-06', '2018-05', '2018-04', '2018-03',\n",
       " '2018-02', '2018-01', '2017-12', '2017-11', '2017-10', '2017-09', '2017-08',\n",
       " '2017-07', '2017-06', '2017-05', '2017-04', '2017-03', '2017-02', '2017-01',\n",
       " '2016-12', '2016-10', '2016-09']\n",
       "Length: 24, dtype: period[M]"
      ]
     },
     "execution_count": 314,
     "metadata": {},
     "output_type": "execute_result"
    }
   ],
   "source": [
    "purchase_q5.sort_values('month_of_first_purchase',ascending=False)\\\n",
    "                               ['month_of_first_purchase'].unique()"
   ]
  },
  {
   "cell_type": "markdown",
   "id": "f48b4b2c",
   "metadata": {},
   "source": [
    "The only year will all 12 months of history is 2017 - we will calculate retention for 2017 only<br>\n",
    "Все 12 месяцев у нас есть только в данных за 2017 год - возьмем только 2017 для расчета retention"
   ]
  },
  {
   "cell_type": "code",
   "execution_count": 315,
   "id": "7046c222",
   "metadata": {},
   "outputs": [],
   "source": [
    "month_list=pd.DataFrame(pd.date_range('2017-01','2017-12', freq='MS')).\\\n",
    "    rename(columns={0:'date'})"
   ]
  },
  {
   "cell_type": "code",
   "execution_count": 316,
   "id": "7bf079fb",
   "metadata": {},
   "outputs": [
    {
     "data": {
      "text/html": [
       "<div>\n",
       "<style scoped>\n",
       "    .dataframe tbody tr th:only-of-type {\n",
       "        vertical-align: middle;\n",
       "    }\n",
       "\n",
       "    .dataframe tbody tr th {\n",
       "        vertical-align: top;\n",
       "    }\n",
       "\n",
       "    .dataframe thead th {\n",
       "        text-align: right;\n",
       "    }\n",
       "</style>\n",
       "<table border=\"1\" class=\"dataframe\">\n",
       "  <thead>\n",
       "    <tr style=\"text-align: right;\">\n",
       "      <th></th>\n",
       "      <th>month</th>\n",
       "      <th>key</th>\n",
       "    </tr>\n",
       "  </thead>\n",
       "  <tbody>\n",
       "    <tr>\n",
       "      <th>0</th>\n",
       "      <td>2017-01</td>\n",
       "      <td>1</td>\n",
       "    </tr>\n",
       "    <tr>\n",
       "      <th>1</th>\n",
       "      <td>2017-02</td>\n",
       "      <td>1</td>\n",
       "    </tr>\n",
       "    <tr>\n",
       "      <th>2</th>\n",
       "      <td>2017-03</td>\n",
       "      <td>1</td>\n",
       "    </tr>\n",
       "    <tr>\n",
       "      <th>3</th>\n",
       "      <td>2017-04</td>\n",
       "      <td>1</td>\n",
       "    </tr>\n",
       "    <tr>\n",
       "      <th>4</th>\n",
       "      <td>2017-05</td>\n",
       "      <td>1</td>\n",
       "    </tr>\n",
       "    <tr>\n",
       "      <th>5</th>\n",
       "      <td>2017-06</td>\n",
       "      <td>1</td>\n",
       "    </tr>\n",
       "    <tr>\n",
       "      <th>6</th>\n",
       "      <td>2017-07</td>\n",
       "      <td>1</td>\n",
       "    </tr>\n",
       "    <tr>\n",
       "      <th>7</th>\n",
       "      <td>2017-08</td>\n",
       "      <td>1</td>\n",
       "    </tr>\n",
       "    <tr>\n",
       "      <th>8</th>\n",
       "      <td>2017-09</td>\n",
       "      <td>1</td>\n",
       "    </tr>\n",
       "    <tr>\n",
       "      <th>9</th>\n",
       "      <td>2017-10</td>\n",
       "      <td>1</td>\n",
       "    </tr>\n",
       "    <tr>\n",
       "      <th>10</th>\n",
       "      <td>2017-11</td>\n",
       "      <td>1</td>\n",
       "    </tr>\n",
       "    <tr>\n",
       "      <th>11</th>\n",
       "      <td>2017-12</td>\n",
       "      <td>1</td>\n",
       "    </tr>\n",
       "  </tbody>\n",
       "</table>\n",
       "</div>"
      ],
      "text/plain": [
       "      month  key\n",
       "0   2017-01    1\n",
       "1   2017-02    1\n",
       "2   2017-03    1\n",
       "3   2017-04    1\n",
       "4   2017-05    1\n",
       "5   2017-06    1\n",
       "6   2017-07    1\n",
       "7   2017-08    1\n",
       "8   2017-09    1\n",
       "9   2017-10    1\n",
       "10  2017-11    1\n",
       "11  2017-12    1"
      ]
     },
     "execution_count": 316,
     "metadata": {},
     "output_type": "execute_result"
    }
   ],
   "source": [
    "month_list['month']=month_list['date'].dt.to_period('M')\n",
    "month_list['key']=1\n",
    "month_list=month_list.drop(['date'],axis=1)\n",
    "month_list"
   ]
  },
  {
   "cell_type": "markdown",
   "id": "7599796f",
   "metadata": {},
   "source": [
    "Сделаем рыбу:"
   ]
  },
  {
   "cell_type": "code",
   "execution_count": 317,
   "id": "c137bf21",
   "metadata": {},
   "outputs": [],
   "source": [
    "basis=first_purchase.merge(month_list,left_on='key',right_on='key')"
   ]
  },
  {
   "cell_type": "code",
   "execution_count": 318,
   "id": "990381da",
   "metadata": {},
   "outputs": [
    {
     "data": {
      "text/html": [
       "<div>\n",
       "<style scoped>\n",
       "    .dataframe tbody tr th:only-of-type {\n",
       "        vertical-align: middle;\n",
       "    }\n",
       "\n",
       "    .dataframe tbody tr th {\n",
       "        vertical-align: top;\n",
       "    }\n",
       "\n",
       "    .dataframe thead th {\n",
       "        text-align: right;\n",
       "    }\n",
       "</style>\n",
       "<table border=\"1\" class=\"dataframe\">\n",
       "  <thead>\n",
       "    <tr style=\"text-align: right;\">\n",
       "      <th></th>\n",
       "      <th>customer_unique_id</th>\n",
       "      <th>month_of_first_purchase</th>\n",
       "      <th>month</th>\n",
       "    </tr>\n",
       "  </thead>\n",
       "  <tbody>\n",
       "    <tr>\n",
       "      <th>26</th>\n",
       "      <td>0000f46a3911fa3c0805444483337064</td>\n",
       "      <td>2017-03</td>\n",
       "      <td>2017-03</td>\n",
       "    </tr>\n",
       "    <tr>\n",
       "      <th>27</th>\n",
       "      <td>0000f46a3911fa3c0805444483337064</td>\n",
       "      <td>2017-03</td>\n",
       "      <td>2017-04</td>\n",
       "    </tr>\n",
       "    <tr>\n",
       "      <th>28</th>\n",
       "      <td>0000f46a3911fa3c0805444483337064</td>\n",
       "      <td>2017-03</td>\n",
       "      <td>2017-05</td>\n",
       "    </tr>\n",
       "    <tr>\n",
       "      <th>29</th>\n",
       "      <td>0000f46a3911fa3c0805444483337064</td>\n",
       "      <td>2017-03</td>\n",
       "      <td>2017-06</td>\n",
       "    </tr>\n",
       "    <tr>\n",
       "      <th>30</th>\n",
       "      <td>0000f46a3911fa3c0805444483337064</td>\n",
       "      <td>2017-03</td>\n",
       "      <td>2017-07</td>\n",
       "    </tr>\n",
       "    <tr>\n",
       "      <th>...</th>\n",
       "      <td>...</td>\n",
       "      <td>...</td>\n",
       "      <td>...</td>\n",
       "    </tr>\n",
       "    <tr>\n",
       "      <th>1139623</th>\n",
       "      <td>ffffd2657e2aad2907e67c3e9daecbeb</td>\n",
       "      <td>2017-05</td>\n",
       "      <td>2017-08</td>\n",
       "    </tr>\n",
       "    <tr>\n",
       "      <th>1139624</th>\n",
       "      <td>ffffd2657e2aad2907e67c3e9daecbeb</td>\n",
       "      <td>2017-05</td>\n",
       "      <td>2017-09</td>\n",
       "    </tr>\n",
       "    <tr>\n",
       "      <th>1139625</th>\n",
       "      <td>ffffd2657e2aad2907e67c3e9daecbeb</td>\n",
       "      <td>2017-05</td>\n",
       "      <td>2017-10</td>\n",
       "    </tr>\n",
       "    <tr>\n",
       "      <th>1139626</th>\n",
       "      <td>ffffd2657e2aad2907e67c3e9daecbeb</td>\n",
       "      <td>2017-05</td>\n",
       "      <td>2017-11</td>\n",
       "    </tr>\n",
       "    <tr>\n",
       "      <th>1139627</th>\n",
       "      <td>ffffd2657e2aad2907e67c3e9daecbeb</td>\n",
       "      <td>2017-05</td>\n",
       "      <td>2017-12</td>\n",
       "    </tr>\n",
       "  </tbody>\n",
       "</table>\n",
       "<p>220521 rows × 3 columns</p>\n",
       "</div>"
      ],
      "text/plain": [
       "                       customer_unique_id month_of_first_purchase    month\n",
       "26       0000f46a3911fa3c0805444483337064                 2017-03  2017-03\n",
       "27       0000f46a3911fa3c0805444483337064                 2017-03  2017-04\n",
       "28       0000f46a3911fa3c0805444483337064                 2017-03  2017-05\n",
       "29       0000f46a3911fa3c0805444483337064                 2017-03  2017-06\n",
       "30       0000f46a3911fa3c0805444483337064                 2017-03  2017-07\n",
       "...                                   ...                     ...      ...\n",
       "1139623  ffffd2657e2aad2907e67c3e9daecbeb                 2017-05  2017-08\n",
       "1139624  ffffd2657e2aad2907e67c3e9daecbeb                 2017-05  2017-09\n",
       "1139625  ffffd2657e2aad2907e67c3e9daecbeb                 2017-05  2017-10\n",
       "1139626  ffffd2657e2aad2907e67c3e9daecbeb                 2017-05  2017-11\n",
       "1139627  ffffd2657e2aad2907e67c3e9daecbeb                 2017-05  2017-12\n",
       "\n",
       "[220521 rows x 3 columns]"
      ]
     },
     "execution_count": 318,
     "metadata": {},
     "output_type": "execute_result"
    }
   ],
   "source": [
    "basis=basis[basis['month_of_first_purchase']<=basis['month']]\n",
    "basis=basis.drop(['key'],axis=1)\n",
    "basis"
   ]
  },
  {
   "cell_type": "code",
   "execution_count": 301,
   "id": "c7e388d8",
   "metadata": {},
   "outputs": [
    {
     "data": {
      "text/html": [
       "<div>\n",
       "<style scoped>\n",
       "    .dataframe tbody tr th:only-of-type {\n",
       "        vertical-align: middle;\n",
       "    }\n",
       "\n",
       "    .dataframe tbody tr th {\n",
       "        vertical-align: top;\n",
       "    }\n",
       "\n",
       "    .dataframe thead th {\n",
       "        text-align: right;\n",
       "    }\n",
       "</style>\n",
       "<table border=\"1\" class=\"dataframe\">\n",
       "  <thead>\n",
       "    <tr style=\"text-align: right;\">\n",
       "      <th></th>\n",
       "      <th>customer_unique_id</th>\n",
       "      <th>month</th>\n",
       "      <th>customer_id</th>\n",
       "    </tr>\n",
       "  </thead>\n",
       "  <tbody>\n",
       "    <tr>\n",
       "      <th>0</th>\n",
       "      <td>0000366f3b9a7992bf8c76cfdf3221e2</td>\n",
       "      <td>2018-05</td>\n",
       "      <td>1</td>\n",
       "    </tr>\n",
       "    <tr>\n",
       "      <th>1</th>\n",
       "      <td>0000b849f77a49e4a4ce2b2a4ca5be3f</td>\n",
       "      <td>2018-05</td>\n",
       "      <td>1</td>\n",
       "    </tr>\n",
       "  </tbody>\n",
       "</table>\n",
       "</div>"
      ],
      "text/plain": [
       "                 customer_unique_id    month  customer_id\n",
       "0  0000366f3b9a7992bf8c76cfdf3221e2  2018-05            1\n",
       "1  0000b849f77a49e4a4ce2b2a4ca5be3f  2018-05            1"
      ]
     },
     "execution_count": 301,
     "metadata": {},
     "output_type": "execute_result"
    }
   ],
   "source": [
    "customer_orders=purchase_q5.groupby(['customer_unique_id','month_of_first_purchase'],\\\n",
    "                                    as_index=False).count()\\\n",
    "[['customer_unique_id','month_of_first_purchase','customer_id']]\n",
    "customer_orders=customer_orders.rename({'month_of_first_purchase':'month'},axis=1)\n",
    "customer_orders.head(2)"
   ]
  },
  {
   "cell_type": "markdown",
   "id": "ee83c387",
   "metadata": {},
   "source": [
    "Подтянем данные о покупках:"
   ]
  },
  {
   "cell_type": "code",
   "execution_count": 302,
   "id": "f65e2597",
   "metadata": {},
   "outputs": [],
   "source": [
    "basis_orders=basis.merge(customer_orders, on=['customer_unique_id','month'], how='left')"
   ]
  },
  {
   "cell_type": "code",
   "execution_count": 303,
   "id": "a9c746c7",
   "metadata": {},
   "outputs": [],
   "source": [
    "basis_orders['signum']=(basis_orders['customer_id']>0)*1"
   ]
  },
  {
   "cell_type": "code",
   "execution_count": 304,
   "id": "0765b8f2",
   "metadata": {},
   "outputs": [
    {
     "data": {
      "text/html": [
       "<div>\n",
       "<style scoped>\n",
       "    .dataframe tbody tr th:only-of-type {\n",
       "        vertical-align: middle;\n",
       "    }\n",
       "\n",
       "    .dataframe tbody tr th {\n",
       "        vertical-align: top;\n",
       "    }\n",
       "\n",
       "    .dataframe thead th {\n",
       "        text-align: right;\n",
       "    }\n",
       "</style>\n",
       "<table border=\"1\" class=\"dataframe\">\n",
       "  <thead>\n",
       "    <tr style=\"text-align: right;\">\n",
       "      <th></th>\n",
       "      <th>customer_unique_id</th>\n",
       "      <th>month_of_first_purchase</th>\n",
       "      <th>month</th>\n",
       "      <th>customer_id</th>\n",
       "      <th>signum</th>\n",
       "    </tr>\n",
       "  </thead>\n",
       "  <tbody>\n",
       "    <tr>\n",
       "      <th>0</th>\n",
       "      <td>0000f46a3911fa3c0805444483337064</td>\n",
       "      <td>2017-03</td>\n",
       "      <td>2017-03</td>\n",
       "      <td>1.0</td>\n",
       "      <td>1</td>\n",
       "    </tr>\n",
       "    <tr>\n",
       "      <th>1</th>\n",
       "      <td>0000f46a3911fa3c0805444483337064</td>\n",
       "      <td>2017-03</td>\n",
       "      <td>2017-04</td>\n",
       "      <td>NaN</td>\n",
       "      <td>0</td>\n",
       "    </tr>\n",
       "  </tbody>\n",
       "</table>\n",
       "</div>"
      ],
      "text/plain": [
       "                 customer_unique_id month_of_first_purchase    month  \\\n",
       "0  0000f46a3911fa3c0805444483337064                 2017-03  2017-03   \n",
       "1  0000f46a3911fa3c0805444483337064                 2017-03  2017-04   \n",
       "\n",
       "   customer_id  signum  \n",
       "0          1.0       1  \n",
       "1          NaN       0  "
      ]
     },
     "execution_count": 304,
     "metadata": {},
     "output_type": "execute_result"
    }
   ],
   "source": [
    "basis_orders.head(2)"
   ]
  },
  {
   "cell_type": "code",
   "execution_count": 305,
   "id": "4d231c27",
   "metadata": {},
   "outputs": [],
   "source": [
    "retention=basis_orders.pivot_table(values='signum',\n",
    "                  index='month_of_first_purchase',\n",
    "                  columns='month',\n",
    "                  aggfunc='mean')"
   ]
  },
  {
   "cell_type": "code",
   "execution_count": 306,
   "id": "b22c1cdb",
   "metadata": {},
   "outputs": [
    {
     "data": {
      "image/png": "[encoded data removed]",
      "text/plain": [
       "<Figure size 432x288 with 2 Axes>"
      ]
     },
     "metadata": {
      "needs_background": "light"
     },
     "output_type": "display_data"
    }
   ],
   "source": [
    "ax = sns.heatmap(retention)"
   ]
  },
  {
   "cell_type": "code",
   "execution_count": 307,
   "id": "f7c33bce",
   "metadata": {},
   "outputs": [
    {
     "data": {
      "text/html": [
       "<div>\n",
       "<style scoped>\n",
       "    .dataframe tbody tr th:only-of-type {\n",
       "        vertical-align: middle;\n",
       "    }\n",
       "\n",
       "    .dataframe tbody tr th {\n",
       "        vertical-align: top;\n",
       "    }\n",
       "\n",
       "    .dataframe thead th {\n",
       "        text-align: right;\n",
       "    }\n",
       "</style>\n",
       "<table border=\"1\" class=\"dataframe\">\n",
       "  <thead>\n",
       "    <tr style=\"text-align: right;\">\n",
       "      <th>month</th>\n",
       "      <th>2017-01</th>\n",
       "      <th>2017-02</th>\n",
       "      <th>2017-03</th>\n",
       "      <th>2017-04</th>\n",
       "      <th>2017-05</th>\n",
       "      <th>2017-06</th>\n",
       "      <th>2017-07</th>\n",
       "      <th>2017-08</th>\n",
       "      <th>2017-09</th>\n",
       "      <th>2017-10</th>\n",
       "      <th>2017-11</th>\n",
       "      <th>2017-12</th>\n",
       "    </tr>\n",
       "    <tr>\n",
       "      <th>month_of_first_purchase</th>\n",
       "      <th></th>\n",
       "      <th></th>\n",
       "      <th></th>\n",
       "      <th></th>\n",
       "      <th></th>\n",
       "      <th></th>\n",
       "      <th></th>\n",
       "      <th></th>\n",
       "      <th></th>\n",
       "      <th></th>\n",
       "      <th></th>\n",
       "      <th></th>\n",
       "    </tr>\n",
       "  </thead>\n",
       "  <tbody>\n",
       "    <tr>\n",
       "      <th>2016-09</th>\n",
       "      <td>0.0</td>\n",
       "      <td>0.000</td>\n",
       "      <td>0.000000</td>\n",
       "      <td>0.000000</td>\n",
       "      <td>0.000000</td>\n",
       "      <td>0.000000</td>\n",
       "      <td>0.000000</td>\n",
       "      <td>0.000000</td>\n",
       "      <td>0.000000</td>\n",
       "      <td>0.000000</td>\n",
       "      <td>0.000000</td>\n",
       "      <td>0.000000</td>\n",
       "    </tr>\n",
       "    <tr>\n",
       "      <th>2016-10</th>\n",
       "      <td>0.0</td>\n",
       "      <td>0.000</td>\n",
       "      <td>0.000000</td>\n",
       "      <td>0.003448</td>\n",
       "      <td>0.000000</td>\n",
       "      <td>0.000000</td>\n",
       "      <td>0.003448</td>\n",
       "      <td>0.000000</td>\n",
       "      <td>0.003448</td>\n",
       "      <td>0.000000</td>\n",
       "      <td>0.003448</td>\n",
       "      <td>0.000000</td>\n",
       "    </tr>\n",
       "    <tr>\n",
       "      <th>2016-12</th>\n",
       "      <td>1.0</td>\n",
       "      <td>0.000</td>\n",
       "      <td>0.000000</td>\n",
       "      <td>0.000000</td>\n",
       "      <td>0.000000</td>\n",
       "      <td>0.000000</td>\n",
       "      <td>0.000000</td>\n",
       "      <td>0.000000</td>\n",
       "      <td>0.000000</td>\n",
       "      <td>0.000000</td>\n",
       "      <td>0.000000</td>\n",
       "      <td>0.000000</td>\n",
       "    </tr>\n",
       "    <tr>\n",
       "      <th>2017-01</th>\n",
       "      <td>1.0</td>\n",
       "      <td>0.004</td>\n",
       "      <td>0.002667</td>\n",
       "      <td>0.001333</td>\n",
       "      <td>0.004000</td>\n",
       "      <td>0.001333</td>\n",
       "      <td>0.004000</td>\n",
       "      <td>0.001333</td>\n",
       "      <td>0.001333</td>\n",
       "      <td>0.000000</td>\n",
       "      <td>0.004000</td>\n",
       "      <td>0.001333</td>\n",
       "    </tr>\n",
       "    <tr>\n",
       "      <th>2017-02</th>\n",
       "      <td>NaN</td>\n",
       "      <td>1.000</td>\n",
       "      <td>0.002384</td>\n",
       "      <td>0.002980</td>\n",
       "      <td>0.001192</td>\n",
       "      <td>0.004172</td>\n",
       "      <td>0.001192</td>\n",
       "      <td>0.002384</td>\n",
       "      <td>0.001788</td>\n",
       "      <td>0.000596</td>\n",
       "      <td>0.001788</td>\n",
       "      <td>0.001192</td>\n",
       "    </tr>\n",
       "    <tr>\n",
       "      <th>2017-03</th>\n",
       "      <td>NaN</td>\n",
       "      <td>NaN</td>\n",
       "      <td>1.000000</td>\n",
       "      <td>0.005056</td>\n",
       "      <td>0.003501</td>\n",
       "      <td>0.003890</td>\n",
       "      <td>0.003501</td>\n",
       "      <td>0.001556</td>\n",
       "      <td>0.001556</td>\n",
       "      <td>0.003112</td>\n",
       "      <td>0.003501</td>\n",
       "      <td>0.000778</td>\n",
       "    </tr>\n",
       "    <tr>\n",
       "      <th>2017-04</th>\n",
       "      <td>NaN</td>\n",
       "      <td>NaN</td>\n",
       "      <td>NaN</td>\n",
       "      <td>1.000000</td>\n",
       "      <td>0.006022</td>\n",
       "      <td>0.002151</td>\n",
       "      <td>0.001720</td>\n",
       "      <td>0.003011</td>\n",
       "      <td>0.002581</td>\n",
       "      <td>0.003441</td>\n",
       "      <td>0.003011</td>\n",
       "      <td>0.003011</td>\n",
       "    </tr>\n",
       "    <tr>\n",
       "      <th>2017-05</th>\n",
       "      <td>NaN</td>\n",
       "      <td>NaN</td>\n",
       "      <td>NaN</td>\n",
       "      <td>NaN</td>\n",
       "      <td>1.000000</td>\n",
       "      <td>0.004802</td>\n",
       "      <td>0.004802</td>\n",
       "      <td>0.003955</td>\n",
       "      <td>0.003107</td>\n",
       "      <td>0.003390</td>\n",
       "      <td>0.004237</td>\n",
       "      <td>0.001412</td>\n",
       "    </tr>\n",
       "    <tr>\n",
       "      <th>2017-06</th>\n",
       "      <td>NaN</td>\n",
       "      <td>NaN</td>\n",
       "      <td>NaN</td>\n",
       "      <td>NaN</td>\n",
       "      <td>NaN</td>\n",
       "      <td>1.000000</td>\n",
       "      <td>0.004513</td>\n",
       "      <td>0.003546</td>\n",
       "      <td>0.003868</td>\n",
       "      <td>0.002579</td>\n",
       "      <td>0.003868</td>\n",
       "      <td>0.003546</td>\n",
       "    </tr>\n",
       "    <tr>\n",
       "      <th>2017-07</th>\n",
       "      <td>NaN</td>\n",
       "      <td>NaN</td>\n",
       "      <td>NaN</td>\n",
       "      <td>NaN</td>\n",
       "      <td>NaN</td>\n",
       "      <td>NaN</td>\n",
       "      <td>1.000000</td>\n",
       "      <td>0.005233</td>\n",
       "      <td>0.003401</td>\n",
       "      <td>0.002355</td>\n",
       "      <td>0.002878</td>\n",
       "      <td>0.002093</td>\n",
       "    </tr>\n",
       "    <tr>\n",
       "      <th>2017-08</th>\n",
       "      <td>NaN</td>\n",
       "      <td>NaN</td>\n",
       "      <td>NaN</td>\n",
       "      <td>NaN</td>\n",
       "      <td>NaN</td>\n",
       "      <td>NaN</td>\n",
       "      <td>NaN</td>\n",
       "      <td>1.000000</td>\n",
       "      <td>0.006780</td>\n",
       "      <td>0.003390</td>\n",
       "      <td>0.002663</td>\n",
       "      <td>0.003632</td>\n",
       "    </tr>\n",
       "    <tr>\n",
       "      <th>2017-09</th>\n",
       "      <td>NaN</td>\n",
       "      <td>NaN</td>\n",
       "      <td>NaN</td>\n",
       "      <td>NaN</td>\n",
       "      <td>NaN</td>\n",
       "      <td>NaN</td>\n",
       "      <td>NaN</td>\n",
       "      <td>NaN</td>\n",
       "      <td>1.000000</td>\n",
       "      <td>0.006871</td>\n",
       "      <td>0.005399</td>\n",
       "      <td>0.002945</td>\n",
       "    </tr>\n",
       "    <tr>\n",
       "      <th>2017-10</th>\n",
       "      <td>NaN</td>\n",
       "      <td>NaN</td>\n",
       "      <td>NaN</td>\n",
       "      <td>NaN</td>\n",
       "      <td>NaN</td>\n",
       "      <td>NaN</td>\n",
       "      <td>NaN</td>\n",
       "      <td>NaN</td>\n",
       "      <td>NaN</td>\n",
       "      <td>1.000000</td>\n",
       "      <td>0.007057</td>\n",
       "      <td>0.002504</td>\n",
       "    </tr>\n",
       "    <tr>\n",
       "      <th>2017-11</th>\n",
       "      <td>NaN</td>\n",
       "      <td>NaN</td>\n",
       "      <td>NaN</td>\n",
       "      <td>NaN</td>\n",
       "      <td>NaN</td>\n",
       "      <td>NaN</td>\n",
       "      <td>NaN</td>\n",
       "      <td>NaN</td>\n",
       "      <td>NaN</td>\n",
       "      <td>NaN</td>\n",
       "      <td>1.000000</td>\n",
       "      <td>0.005564</td>\n",
       "    </tr>\n",
       "    <tr>\n",
       "      <th>2017-12</th>\n",
       "      <td>NaN</td>\n",
       "      <td>NaN</td>\n",
       "      <td>NaN</td>\n",
       "      <td>NaN</td>\n",
       "      <td>NaN</td>\n",
       "      <td>NaN</td>\n",
       "      <td>NaN</td>\n",
       "      <td>NaN</td>\n",
       "      <td>NaN</td>\n",
       "      <td>NaN</td>\n",
       "      <td>NaN</td>\n",
       "      <td>1.000000</td>\n",
       "    </tr>\n",
       "  </tbody>\n",
       "</table>\n",
       "</div>"
      ],
      "text/plain": [
       "month                    2017-01  2017-02   2017-03   2017-04   2017-05  \\\n",
       "month_of_first_purchase                                                   \n",
       "2016-09                      0.0    0.000  0.000000  0.000000  0.000000   \n",
       "2016-10                      0.0    0.000  0.000000  0.003448  0.000000   \n",
       "2016-12                      1.0    0.000  0.000000  0.000000  0.000000   \n",
       "2017-01                      1.0    0.004  0.002667  0.001333  0.004000   \n",
       "2017-02                      NaN    1.000  0.002384  0.002980  0.001192   \n",
       "2017-03                      NaN      NaN  1.000000  0.005056  0.003501   \n",
       "2017-04                      NaN      NaN       NaN  1.000000  0.006022   \n",
       "2017-05                      NaN      NaN       NaN       NaN  1.000000   \n",
       "2017-06                      NaN      NaN       NaN       NaN       NaN   \n",
       "2017-07                      NaN      NaN       NaN       NaN       NaN   \n",
       "2017-08                      NaN      NaN       NaN       NaN       NaN   \n",
       "2017-09                      NaN      NaN       NaN       NaN       NaN   \n",
       "2017-10                      NaN      NaN       NaN       NaN       NaN   \n",
       "2017-11                      NaN      NaN       NaN       NaN       NaN   \n",
       "2017-12                      NaN      NaN       NaN       NaN       NaN   \n",
       "\n",
       "month                     2017-06   2017-07   2017-08   2017-09   2017-10  \\\n",
       "month_of_first_purchase                                                     \n",
       "2016-09                  0.000000  0.000000  0.000000  0.000000  0.000000   \n",
       "2016-10                  0.000000  0.003448  0.000000  0.003448  0.000000   \n",
       "2016-12                  0.000000  0.000000  0.000000  0.000000  0.000000   \n",
       "2017-01                  0.001333  0.004000  0.001333  0.001333  0.000000   \n",
       "2017-02                  0.004172  0.001192  0.002384  0.001788  0.000596   \n",
       "2017-03                  0.003890  0.003501  0.001556  0.001556  0.003112   \n",
       "2017-04                  0.002151  0.001720  0.003011  0.002581  0.003441   \n",
       "2017-05                  0.004802  0.004802  0.003955  0.003107  0.003390   \n",
       "2017-06                  1.000000  0.004513  0.003546  0.003868  0.002579   \n",
       "2017-07                       NaN  1.000000  0.005233  0.003401  0.002355   \n",
       "2017-08                       NaN       NaN  1.000000  0.006780  0.003390   \n",
       "2017-09                       NaN       NaN       NaN  1.000000  0.006871   \n",
       "2017-10                       NaN       NaN       NaN       NaN  1.000000   \n",
       "2017-11                       NaN       NaN       NaN       NaN       NaN   \n",
       "2017-12                       NaN       NaN       NaN       NaN       NaN   \n",
       "\n",
       "month                     2017-11   2017-12  \n",
       "month_of_first_purchase                      \n",
       "2016-09                  0.000000  0.000000  \n",
       "2016-10                  0.003448  0.000000  \n",
       "2016-12                  0.000000  0.000000  \n",
       "2017-01                  0.004000  0.001333  \n",
       "2017-02                  0.001788  0.001192  \n",
       "2017-03                  0.003501  0.000778  \n",
       "2017-04                  0.003011  0.003011  \n",
       "2017-05                  0.004237  0.001412  \n",
       "2017-06                  0.003868  0.003546  \n",
       "2017-07                  0.002878  0.002093  \n",
       "2017-08                  0.002663  0.003632  \n",
       "2017-09                  0.005399  0.002945  \n",
       "2017-10                  0.007057  0.002504  \n",
       "2017-11                  1.000000  0.005564  \n",
       "2017-12                       NaN  1.000000  "
      ]
     },
     "execution_count": 307,
     "metadata": {},
     "output_type": "execute_result"
    }
   ],
   "source": [
    "retention"
   ]
  },
  {
   "cell_type": "markdown",
   "id": "2185c850",
   "metadata": {},
   "source": [
    "## Answer to Question 5\n",
    "## Ответ на Вопрос 5"
   ]
  },
  {
   "cell_type": "markdown",
   "id": "552d1d28",
   "metadata": {},
   "source": [
    "The max retention is in \"2017-09\" cohort in the 3rd month<br>\n",
    "Максимальный ретеншн в когорте \"2017-09\" на третий месяц\n"
   ]
  },
  {
   "cell_type": "markdown",
   "id": "93387892",
   "metadata": {},
   "source": [
    "## Question 6"
   ]
  },
  {
   "cell_type": "markdown",
   "id": "3a5fd0b9",
   "metadata": {},
   "source": [
    "R (Recency) - время от последней покупки пользователя до текущей даты, <br>\n",
    "F (Frequency) - суммарное количество покупок у пользователя за всё время, <br>\n",
    "M (Monetary)- сумма покупок за всё время <br>"
   ]
  },
  {
   "cell_type": "code",
   "execution_count": 319,
   "id": "c4cc9c4d",
   "metadata": {},
   "outputs": [],
   "source": [
    "from datetime import date\n",
    "today=pd.to_datetime(date.today().strftime('%Y-%m-%d %H:%M:%S'))"
   ]
  },
  {
   "cell_type": "markdown",
   "id": "b4b4e191",
   "metadata": {},
   "source": [
    "Возьмем весь датасет для работы по совершенным покупкам"
   ]
  },
  {
   "cell_type": "code",
   "execution_count": 320,
   "id": "121198fb",
   "metadata": {},
   "outputs": [],
   "source": [
    "rfm_frame=purchase.copy()\n",
    "rfm_frame=rfm_frame.merge(customers.drop(['customer_zip_code_prefix',\n",
    "                                        'customer_city',\n",
    "                                         'customer_state'], axis=1),\n",
    "                                        left_on='customer_id', right_on='customer_id')\n",
    "recency_frame=rfm_frame.copy()\n",
    "frequency_frame=rfm_frame.copy()\n",
    "monetary_frame=rfm_frame.copy()"
   ]
  },
  {
   "cell_type": "markdown",
   "id": "d1b42959",
   "metadata": {},
   "source": [
    "Let's calculate recency<br>\n",
    "Посчитаем recency"
   ]
  },
  {
   "cell_type": "code",
   "execution_count": 321,
   "id": "35e7f4d7",
   "metadata": {},
   "outputs": [],
   "source": [
    "recency_frame['days_last_order']=recency_frame['purchase_timestamp'].apply(\\\n",
    "                                lambda x:(today-x).days)"
   ]
  },
  {
   "cell_type": "code",
   "execution_count": 322,
   "id": "796e9fbb",
   "metadata": {},
   "outputs": [
    {
     "data": {
      "text/html": [
       "<div>\n",
       "<style scoped>\n",
       "    .dataframe tbody tr th:only-of-type {\n",
       "        vertical-align: middle;\n",
       "    }\n",
       "\n",
       "    .dataframe tbody tr th {\n",
       "        vertical-align: top;\n",
       "    }\n",
       "\n",
       "    .dataframe thead th {\n",
       "        text-align: right;\n",
       "    }\n",
       "</style>\n",
       "<table border=\"1\" class=\"dataframe\">\n",
       "  <thead>\n",
       "    <tr style=\"text-align: right;\">\n",
       "      <th></th>\n",
       "      <th>order_id</th>\n",
       "      <th>customer_id</th>\n",
       "      <th>order_status</th>\n",
       "      <th>purchase_timestamp</th>\n",
       "      <th>approved_at</th>\n",
       "      <th>delivered_carrier_date</th>\n",
       "      <th>delivered_customer_date</th>\n",
       "      <th>estimated_delivery_date</th>\n",
       "      <th>customer_unique_id</th>\n",
       "      <th>days_last_order</th>\n",
       "    </tr>\n",
       "  </thead>\n",
       "  <tbody>\n",
       "    <tr>\n",
       "      <th>0</th>\n",
       "      <td>e481f51cbdc54678b7cc49136f2d6af7</td>\n",
       "      <td>9ef432eb6251297304e76186b10a928d</td>\n",
       "      <td>delivered</td>\n",
       "      <td>2017-10-02 10:56:33</td>\n",
       "      <td>2017-10-02 11:07:15</td>\n",
       "      <td>2017-10-04 19:55:00</td>\n",
       "      <td>2017-10-10 21:25:13</td>\n",
       "      <td>2017-10-18</td>\n",
       "      <td>7c396fd4830fd04220f754e42b4e5bff</td>\n",
       "      <td>1710</td>\n",
       "    </tr>\n",
       "    <tr>\n",
       "      <th>1</th>\n",
       "      <td>53cdb2fc8bc7dce0b6741e2150273451</td>\n",
       "      <td>b0830fb4747a6c6d20dea0b8c802d7ef</td>\n",
       "      <td>delivered</td>\n",
       "      <td>2018-07-24 20:41:37</td>\n",
       "      <td>2018-07-26 03:24:27</td>\n",
       "      <td>2018-07-26 14:31:00</td>\n",
       "      <td>2018-08-07 15:27:45</td>\n",
       "      <td>2018-08-13</td>\n",
       "      <td>af07308b275d755c9edb36a90c618231</td>\n",
       "      <td>1415</td>\n",
       "    </tr>\n",
       "  </tbody>\n",
       "</table>\n",
       "</div>"
      ],
      "text/plain": [
       "                           order_id                       customer_id  \\\n",
       "0  e481f51cbdc54678b7cc49136f2d6af7  9ef432eb6251297304e76186b10a928d   \n",
       "1  53cdb2fc8bc7dce0b6741e2150273451  b0830fb4747a6c6d20dea0b8c802d7ef   \n",
       "\n",
       "  order_status  purchase_timestamp         approved_at delivered_carrier_date  \\\n",
       "0    delivered 2017-10-02 10:56:33 2017-10-02 11:07:15    2017-10-04 19:55:00   \n",
       "1    delivered 2018-07-24 20:41:37 2018-07-26 03:24:27    2018-07-26 14:31:00   \n",
       "\n",
       "  delivered_customer_date estimated_delivery_date  \\\n",
       "0     2017-10-10 21:25:13              2017-10-18   \n",
       "1     2018-08-07 15:27:45              2018-08-13   \n",
       "\n",
       "                 customer_unique_id  days_last_order  \n",
       "0  7c396fd4830fd04220f754e42b4e5bff             1710  \n",
       "1  af07308b275d755c9edb36a90c618231             1415  "
      ]
     },
     "execution_count": 322,
     "metadata": {},
     "output_type": "execute_result"
    }
   ],
   "source": [
    "recency_frame.head(2)"
   ]
  },
  {
   "cell_type": "markdown",
   "id": "1b2ad37c",
   "metadata": {},
   "source": [
    "Let's perform rebasing to avoid having large recency dates<br>\n",
    "Проведем ребейсинг, чтобы избежать больших значений в днях<br>"
   ]
  },
  {
   "cell_type": "code",
   "execution_count": 323,
   "id": "48e4d4c2",
   "metadata": {},
   "outputs": [],
   "source": [
    "most_recent_purchase=recency_frame['days_last_order'].min()"
   ]
  },
  {
   "cell_type": "code",
   "execution_count": 324,
   "id": "32e7eb37",
   "metadata": {},
   "outputs": [],
   "source": [
    "recency_frame['days_last_order']=recency_frame['days_last_order']-most_recent_purchase\n",
    "recency_frame=recency_frame.groupby(['customer_unique_id'],as_index=False).\\\n",
    "                                            agg({'days_last_order':'min'})\n",
    "recency_frame=recency_frame.rename(columns={'days_last_order':'recency'}).\\\n",
    "                                   sort_values('customer_unique_id',ascending=True)"
   ]
  },
  {
   "cell_type": "code",
   "execution_count": 325,
   "id": "b05709f5",
   "metadata": {},
   "outputs": [
    {
     "data": {
      "text/html": [
       "<div>\n",
       "<style scoped>\n",
       "    .dataframe tbody tr th:only-of-type {\n",
       "        vertical-align: middle;\n",
       "    }\n",
       "\n",
       "    .dataframe tbody tr th {\n",
       "        vertical-align: top;\n",
       "    }\n",
       "\n",
       "    .dataframe thead th {\n",
       "        text-align: right;\n",
       "    }\n",
       "</style>\n",
       "<table border=\"1\" class=\"dataframe\">\n",
       "  <thead>\n",
       "    <tr style=\"text-align: right;\">\n",
       "      <th></th>\n",
       "      <th>customer_unique_id</th>\n",
       "      <th>recency</th>\n",
       "    </tr>\n",
       "  </thead>\n",
       "  <tbody>\n",
       "    <tr>\n",
       "      <th>0</th>\n",
       "      <td>0000366f3b9a7992bf8c76cfdf3221e2</td>\n",
       "      <td>116</td>\n",
       "    </tr>\n",
       "    <tr>\n",
       "      <th>1</th>\n",
       "      <td>0000b849f77a49e4a4ce2b2a4ca5be3f</td>\n",
       "      <td>119</td>\n",
       "    </tr>\n",
       "  </tbody>\n",
       "</table>\n",
       "</div>"
      ],
      "text/plain": [
       "                 customer_unique_id  recency\n",
       "0  0000366f3b9a7992bf8c76cfdf3221e2      116\n",
       "1  0000b849f77a49e4a4ce2b2a4ca5be3f      119"
      ]
     },
     "execution_count": 325,
     "metadata": {},
     "output_type": "execute_result"
    }
   ],
   "source": [
    "recency_frame.head(2)"
   ]
  },
  {
   "cell_type": "markdown",
   "id": "15357a52",
   "metadata": {},
   "source": [
    "Now it is time for frequency<br>\n",
    "Время frequency"
   ]
  },
  {
   "cell_type": "code",
   "execution_count": 326,
   "id": "d13eb406",
   "metadata": {},
   "outputs": [],
   "source": [
    "frequency_frame=frequency_frame.groupby(['customer_unique_id'],as_index=False).count()\\\n",
    "[['customer_unique_id','order_id']].rename(columns={'order_id':'frequency'}).\\\n",
    "sort_values('customer_unique_id', ascending=True)"
   ]
  },
  {
   "cell_type": "code",
   "execution_count": 327,
   "id": "9e3553ec",
   "metadata": {},
   "outputs": [
    {
     "data": {
      "text/html": [
       "<div>\n",
       "<style scoped>\n",
       "    .dataframe tbody tr th:only-of-type {\n",
       "        vertical-align: middle;\n",
       "    }\n",
       "\n",
       "    .dataframe tbody tr th {\n",
       "        vertical-align: top;\n",
       "    }\n",
       "\n",
       "    .dataframe thead th {\n",
       "        text-align: right;\n",
       "    }\n",
       "</style>\n",
       "<table border=\"1\" class=\"dataframe\">\n",
       "  <thead>\n",
       "    <tr style=\"text-align: right;\">\n",
       "      <th></th>\n",
       "      <th>customer_unique_id</th>\n",
       "      <th>frequency</th>\n",
       "    </tr>\n",
       "  </thead>\n",
       "  <tbody>\n",
       "    <tr>\n",
       "      <th>0</th>\n",
       "      <td>0000366f3b9a7992bf8c76cfdf3221e2</td>\n",
       "      <td>1</td>\n",
       "    </tr>\n",
       "    <tr>\n",
       "      <th>1</th>\n",
       "      <td>0000b849f77a49e4a4ce2b2a4ca5be3f</td>\n",
       "      <td>1</td>\n",
       "    </tr>\n",
       "  </tbody>\n",
       "</table>\n",
       "</div>"
      ],
      "text/plain": [
       "                 customer_unique_id  frequency\n",
       "0  0000366f3b9a7992bf8c76cfdf3221e2          1\n",
       "1  0000b849f77a49e4a4ce2b2a4ca5be3f          1"
      ]
     },
     "execution_count": 327,
     "metadata": {},
     "output_type": "execute_result"
    }
   ],
   "source": [
    "frequency_frame.head(2)"
   ]
  },
  {
   "cell_type": "markdown",
   "id": "d1c77029",
   "metadata": {},
   "source": [
    "Finally, monetary<br>\n",
    "Наконец, monetary"
   ]
  },
  {
   "cell_type": "code",
   "execution_count": 328,
   "id": "ec72e7ad",
   "metadata": {},
   "outputs": [],
   "source": [
    "monetary_frame=monetary_frame.merge(order_items[['price','freight_value','order_id']],\n",
    "                                   on='order_id')"
   ]
  },
  {
   "cell_type": "markdown",
   "id": "e1deccc0",
   "metadata": {},
   "source": [
    "Для расчета monetary будем брать сумму \"price\" и \"freight value\" за отсутствием других денежных значений"
   ]
  },
  {
   "cell_type": "code",
   "execution_count": 329,
   "id": "1bee23ad",
   "metadata": {},
   "outputs": [],
   "source": [
    "monetary_frame['value']=monetary_frame['price']+monetary_frame['freight_value']\n",
    "monetary_frame=monetary_frame.groupby(['customer_unique_id'],as_index=False).sum()\\\n",
    "                [['customer_unique_id','value']].rename(columns={'value':'monetary'})"
   ]
  },
  {
   "cell_type": "code",
   "execution_count": 330,
   "id": "2069f3ac",
   "metadata": {},
   "outputs": [],
   "source": [
    "rfm=recency_frame.merge(frequency_frame,on='customer_unique_id').\\\n",
    "                  merge(monetary_frame,on='customer_unique_id')"
   ]
  },
  {
   "cell_type": "code",
   "execution_count": 331,
   "id": "c499f93b",
   "metadata": {},
   "outputs": [
    {
     "data": {
      "text/html": [
       "<div>\n",
       "<style scoped>\n",
       "    .dataframe tbody tr th:only-of-type {\n",
       "        vertical-align: middle;\n",
       "    }\n",
       "\n",
       "    .dataframe tbody tr th {\n",
       "        vertical-align: top;\n",
       "    }\n",
       "\n",
       "    .dataframe thead th {\n",
       "        text-align: right;\n",
       "    }\n",
       "</style>\n",
       "<table border=\"1\" class=\"dataframe\">\n",
       "  <thead>\n",
       "    <tr style=\"text-align: right;\">\n",
       "      <th></th>\n",
       "      <th>customer_unique_id</th>\n",
       "      <th>recency</th>\n",
       "      <th>frequency</th>\n",
       "      <th>monetary</th>\n",
       "    </tr>\n",
       "  </thead>\n",
       "  <tbody>\n",
       "    <tr>\n",
       "      <th>0</th>\n",
       "      <td>0000366f3b9a7992bf8c76cfdf3221e2</td>\n",
       "      <td>116</td>\n",
       "      <td>1</td>\n",
       "      <td>141.90</td>\n",
       "    </tr>\n",
       "    <tr>\n",
       "      <th>1</th>\n",
       "      <td>0000b849f77a49e4a4ce2b2a4ca5be3f</td>\n",
       "      <td>119</td>\n",
       "      <td>1</td>\n",
       "      <td>27.19</td>\n",
       "    </tr>\n",
       "  </tbody>\n",
       "</table>\n",
       "</div>"
      ],
      "text/plain": [
       "                 customer_unique_id  recency  frequency  monetary\n",
       "0  0000366f3b9a7992bf8c76cfdf3221e2      116          1    141.90\n",
       "1  0000b849f77a49e4a4ce2b2a4ca5be3f      119          1     27.19"
      ]
     },
     "execution_count": 331,
     "metadata": {},
     "output_type": "execute_result"
    }
   ],
   "source": [
    "rfm.head(2)"
   ]
  },
  {
   "cell_type": "markdown",
   "id": "323c3358",
   "metadata": {},
   "source": [
    "Построим грейдинг так, чтобы в каждый бакет по recency и monetary попадало 20% наблюдений.<br>\n",
    "<br>Из-за очень большой доли заказчиков, которые сделали только 1 заказ, разделим frequency на 2 грейда: 1 - совершена только 1 покупка и 2 - совершено больше 1 покупки"
   ]
  },
  {
   "cell_type": "code",
   "execution_count": 332,
   "id": "cf746eaa",
   "metadata": {},
   "outputs": [
    {
     "data": {
      "text/html": [
       "<div>\n",
       "<style scoped>\n",
       "    .dataframe tbody tr th:only-of-type {\n",
       "        vertical-align: middle;\n",
       "    }\n",
       "\n",
       "    .dataframe tbody tr th {\n",
       "        vertical-align: top;\n",
       "    }\n",
       "\n",
       "    .dataframe thead th {\n",
       "        text-align: right;\n",
       "    }\n",
       "</style>\n",
       "<table border=\"1\" class=\"dataframe\">\n",
       "  <thead>\n",
       "    <tr style=\"text-align: right;\">\n",
       "      <th></th>\n",
       "      <th>recency</th>\n",
       "      <th>monetary</th>\n",
       "    </tr>\n",
       "  </thead>\n",
       "  <tbody>\n",
       "    <tr>\n",
       "      <th>0.2</th>\n",
       "      <td>98.0</td>\n",
       "      <td>55.36</td>\n",
       "    </tr>\n",
       "    <tr>\n",
       "      <th>0.4</th>\n",
       "      <td>182.0</td>\n",
       "      <td>87.50</td>\n",
       "    </tr>\n",
       "    <tr>\n",
       "      <th>0.6</th>\n",
       "      <td>273.0</td>\n",
       "      <td>133.05</td>\n",
       "    </tr>\n",
       "    <tr>\n",
       "      <th>0.8</th>\n",
       "      <td>388.0</td>\n",
       "      <td>209.11</td>\n",
       "    </tr>\n",
       "  </tbody>\n",
       "</table>\n",
       "</div>"
      ],
      "text/plain": [
       "     recency  monetary\n",
       "0.2     98.0     55.36\n",
       "0.4    182.0     87.50\n",
       "0.6    273.0    133.05\n",
       "0.8    388.0    209.11"
      ]
     },
     "execution_count": 332,
     "metadata": {},
     "output_type": "execute_result"
    }
   ],
   "source": [
    "quantiles_rm=rfm[['recency','monetary']].quantile([0.2,0.4,0.6,0.8]).to_dict()\n",
    "pd.DataFrame(quantiles_rm)"
   ]
  },
  {
   "cell_type": "markdown",
   "id": "15daeaba",
   "metadata": {},
   "source": [
    "Переведем квантили в скоры:"
   ]
  },
  {
   "cell_type": "code",
   "execution_count": 333,
   "id": "03a610c1",
   "metadata": {},
   "outputs": [],
   "source": [
    "def r_score(x):\n",
    "    if x <= quantiles_rm['recency'][.2]:\n",
    "        return 5\n",
    "    elif x <= quantiles_rm['recency'][.4]:\n",
    "        return 4\n",
    "    elif x <= quantiles_rm['recency'][.6]:\n",
    "        return 3\n",
    "    elif x <= quantiles_rm['recency'][.8]:\n",
    "        return 2\n",
    "    else:\n",
    "        return 1\n",
    "\n",
    "def m_score(x):\n",
    "    if x <= quantiles_rm['monetary'][.2]:\n",
    "        return 1\n",
    "    elif x <= quantiles_rm['monetary'][.4]:\n",
    "        return 2\n",
    "    elif x <= quantiles_rm['monetary'][.6]:\n",
    "        return 3\n",
    "    elif x <= quantiles_rm['monetary'][.8]:\n",
    "        return 4\n",
    "    else:\n",
    "        return 5\n",
    "\n",
    "def f_score(x):\n",
    "    if x<=1:\n",
    "        return 1\n",
    "    else:\n",
    "        return 2   "
   ]
  },
  {
   "cell_type": "code",
   "execution_count": 334,
   "id": "58f053e1",
   "metadata": {},
   "outputs": [],
   "source": [
    "rfm['R'] = rfm['recency'].apply(lambda x: r_score(x))\n",
    "rfm['F'] = rfm['frequency'].apply(lambda x: f_score(x))\n",
    "rfm['M'] = rfm['monetary'].apply(lambda x: m_score(x))"
   ]
  },
  {
   "cell_type": "code",
   "execution_count": 335,
   "id": "a3384fd4",
   "metadata": {},
   "outputs": [
    {
     "data": {
      "text/html": [
       "<div>\n",
       "<style scoped>\n",
       "    .dataframe tbody tr th:only-of-type {\n",
       "        vertical-align: middle;\n",
       "    }\n",
       "\n",
       "    .dataframe tbody tr th {\n",
       "        vertical-align: top;\n",
       "    }\n",
       "\n",
       "    .dataframe thead th {\n",
       "        text-align: right;\n",
       "    }\n",
       "</style>\n",
       "<table border=\"1\" class=\"dataframe\">\n",
       "  <thead>\n",
       "    <tr style=\"text-align: right;\">\n",
       "      <th></th>\n",
       "      <th>customer_unique_id</th>\n",
       "      <th>recency</th>\n",
       "      <th>frequency</th>\n",
       "      <th>monetary</th>\n",
       "      <th>R</th>\n",
       "      <th>F</th>\n",
       "      <th>M</th>\n",
       "      <th>RFM Score</th>\n",
       "    </tr>\n",
       "  </thead>\n",
       "  <tbody>\n",
       "    <tr>\n",
       "      <th>0</th>\n",
       "      <td>0000366f3b9a7992bf8c76cfdf3221e2</td>\n",
       "      <td>116</td>\n",
       "      <td>1</td>\n",
       "      <td>141.90</td>\n",
       "      <td>4</td>\n",
       "      <td>1</td>\n",
       "      <td>4</td>\n",
       "      <td>414</td>\n",
       "    </tr>\n",
       "    <tr>\n",
       "      <th>1</th>\n",
       "      <td>0000b849f77a49e4a4ce2b2a4ca5be3f</td>\n",
       "      <td>119</td>\n",
       "      <td>1</td>\n",
       "      <td>27.19</td>\n",
       "      <td>4</td>\n",
       "      <td>1</td>\n",
       "      <td>1</td>\n",
       "      <td>411</td>\n",
       "    </tr>\n",
       "    <tr>\n",
       "      <th>2</th>\n",
       "      <td>0000f46a3911fa3c0805444483337064</td>\n",
       "      <td>542</td>\n",
       "      <td>1</td>\n",
       "      <td>86.22</td>\n",
       "      <td>1</td>\n",
       "      <td>1</td>\n",
       "      <td>2</td>\n",
       "      <td>112</td>\n",
       "    </tr>\n",
       "    <tr>\n",
       "      <th>3</th>\n",
       "      <td>0000f6ccb0745a6a4b88665a16c9f078</td>\n",
       "      <td>326</td>\n",
       "      <td>1</td>\n",
       "      <td>43.62</td>\n",
       "      <td>2</td>\n",
       "      <td>1</td>\n",
       "      <td>1</td>\n",
       "      <td>211</td>\n",
       "    </tr>\n",
       "    <tr>\n",
       "      <th>4</th>\n",
       "      <td>0004aac84e0df4da2b147fca70cf8255</td>\n",
       "      <td>293</td>\n",
       "      <td>1</td>\n",
       "      <td>196.89</td>\n",
       "      <td>2</td>\n",
       "      <td>1</td>\n",
       "      <td>4</td>\n",
       "      <td>214</td>\n",
       "    </tr>\n",
       "  </tbody>\n",
       "</table>\n",
       "</div>"
      ],
      "text/plain": [
       "                 customer_unique_id  recency  frequency  monetary  R  F  M  \\\n",
       "0  0000366f3b9a7992bf8c76cfdf3221e2      116          1    141.90  4  1  4   \n",
       "1  0000b849f77a49e4a4ce2b2a4ca5be3f      119          1     27.19  4  1  1   \n",
       "2  0000f46a3911fa3c0805444483337064      542          1     86.22  1  1  2   \n",
       "3  0000f6ccb0745a6a4b88665a16c9f078      326          1     43.62  2  1  1   \n",
       "4  0004aac84e0df4da2b147fca70cf8255      293          1    196.89  2  1  4   \n",
       "\n",
       "  RFM Score  \n",
       "0       414  \n",
       "1       411  \n",
       "2       112  \n",
       "3       211  \n",
       "4       214  "
      ]
     },
     "execution_count": 335,
     "metadata": {},
     "output_type": "execute_result"
    }
   ],
   "source": [
    "rfm['RFM Score'] = rfm['R'].map(str) + rfm['F'].map(str) + rfm['M'].map(str)\n",
    "rfm.head()"
   ]
  },
  {
   "cell_type": "markdown",
   "id": "696a0736",
   "metadata": {},
   "source": [
    "Теперь разделим по группам клиентов в зависимости от RFM-скора:"
   ]
  },
  {
   "cell_type": "code",
   "execution_count": 338,
   "id": "5594cadc",
   "metadata": {},
   "outputs": [],
   "source": [
    "segt_map = {\n",
    "    '[1-2]1[1-2]':'old one-time buyers - minor',\n",
    "    '[1-2]2[1-2]':'old frequent buyers - minor',\n",
    "    '[1-2]1[3-5]':'old one-time buyers - major',\n",
    "    '[1-2]2[3-5]':'old frequent buyers - major',\n",
    "    '[3-4]1[1-2]':'research',\n",
    "    '[3-4]2[1-2]':'need attention',\n",
    "    '[3-4]1[3-5]':'potential',\n",
    "    '[3-4]2[3-5]':'at risk',\n",
    "    '51[1-3]':'recent one-time buyers',\n",
    "    '52[1-3]':'promising',\n",
    "    '51[4-5]': 'need attention',\n",
    "    '52[4-5]':'best in class'\n",
    "}\n",
    "\n",
    "rfm['segment'] = rfm['R'].map(str) + rfm['F'].map(str)+rfm['M'].map(str)\n",
    "rfm['segment'] = rfm['segment'].replace(segt_map, regex=True)\n"
   ]
  },
  {
   "cell_type": "markdown",
   "id": "4e573600",
   "metadata": {},
   "source": [
    "**'old one-time buyers - minor'** - made single purchase long ago, didn't spend much / сделали единственную покупку давно, не потратили много <br>\n",
    "<br>\n",
    "**'old frequent buyers - minor'** - made more than one purchase long ago, didn't spend much / сделали несколько покупком давно, не потратили много <br>\n",
    "<br>\n",
    "**'old one-time buyers - major'** - made single purchase long ago, spent significantly / сделали единственную покупку давно, потратили много<br>\n",
    "<br>\n",
    "**'old frequent buyers - major'** - made more than one purchase long ago, spent significantly / сделали несколько покупок давно, потратили много<br>\n",
    "<br>\n",
    "**'recent one-time buyers'** - made single purchase recently, didn't spend much / сделали единственную покупку недавно, не потратили много<br>\n",
    "<br> \n",
    "**'research'** - small recent spontaneous purchase, research on the group is needed / маленькие недавние спонтанные покупки, нужно лучше понять группу<br>\n",
    "<br>\n",
    "**'need attention'** - we should attract them to buy again / нужно привлечать их назад  - купили недавно, разовая покупка, но потратили много<br>\n",
    "<br>\n",
    "**'at risk'** - frequent buyers in the nearest past, spent on average / регулярные покупатели в недавнем прошлом, тратят средне/максимум <br>\n",
    "<br>\n",
    "**'promising'** - recent purchases, buy frequently,don't spend much / недавние покупки,  покупают часто, не тратят много<br>\n",
    "<br>\n",
    "**'need attention'** - recently made expensive purchase, we should hold them /недавно сделали дорогую покупку, нужно удержать их<br>\n",
    "<br>\n",
    "**'best in class'** - top buyers / топ покупатели<br>\n"
   ]
  },
  {
   "cell_type": "code",
   "execution_count": 339,
   "id": "e8af166b",
   "metadata": {},
   "outputs": [
    {
     "data": {
      "text/html": [
       "<div>\n",
       "<style scoped>\n",
       "    .dataframe tbody tr th:only-of-type {\n",
       "        vertical-align: middle;\n",
       "    }\n",
       "\n",
       "    .dataframe tbody tr th {\n",
       "        vertical-align: top;\n",
       "    }\n",
       "\n",
       "    .dataframe thead th {\n",
       "        text-align: right;\n",
       "    }\n",
       "</style>\n",
       "<table border=\"1\" class=\"dataframe\">\n",
       "  <thead>\n",
       "    <tr style=\"text-align: right;\">\n",
       "      <th></th>\n",
       "      <th>customer_unique_id</th>\n",
       "      <th>recency</th>\n",
       "      <th>frequency</th>\n",
       "      <th>monetary</th>\n",
       "      <th>R</th>\n",
       "      <th>F</th>\n",
       "      <th>M</th>\n",
       "      <th>RFM Score</th>\n",
       "      <th>segment</th>\n",
       "    </tr>\n",
       "  </thead>\n",
       "  <tbody>\n",
       "    <tr>\n",
       "      <th>0</th>\n",
       "      <td>0000366f3b9a7992bf8c76cfdf3221e2</td>\n",
       "      <td>116</td>\n",
       "      <td>1</td>\n",
       "      <td>141.90</td>\n",
       "      <td>4</td>\n",
       "      <td>1</td>\n",
       "      <td>4</td>\n",
       "      <td>414</td>\n",
       "      <td>potential</td>\n",
       "    </tr>\n",
       "    <tr>\n",
       "      <th>1</th>\n",
       "      <td>0000b849f77a49e4a4ce2b2a4ca5be3f</td>\n",
       "      <td>119</td>\n",
       "      <td>1</td>\n",
       "      <td>27.19</td>\n",
       "      <td>4</td>\n",
       "      <td>1</td>\n",
       "      <td>1</td>\n",
       "      <td>411</td>\n",
       "      <td>research</td>\n",
       "    </tr>\n",
       "  </tbody>\n",
       "</table>\n",
       "</div>"
      ],
      "text/plain": [
       "                 customer_unique_id  recency  frequency  monetary  R  F  M  \\\n",
       "0  0000366f3b9a7992bf8c76cfdf3221e2      116          1    141.90  4  1  4   \n",
       "1  0000b849f77a49e4a4ce2b2a4ca5be3f      119          1     27.19  4  1  1   \n",
       "\n",
       "  RFM Score    segment  \n",
       "0       414  potential  \n",
       "1       411   research  "
      ]
     },
     "execution_count": 339,
     "metadata": {},
     "output_type": "execute_result"
    }
   ],
   "source": [
    "rfm.head(2)"
   ]
  },
  {
   "cell_type": "code",
   "execution_count": 340,
   "id": "b04df913",
   "metadata": {},
   "outputs": [
    {
     "data": {
      "text/plain": [
       "array(['potential', 'research', 'old one-time buyers - minor',\n",
       "       'old one-time buyers - major', 'recent one-time buyers',\n",
       "       'need attention', 'at risk', 'promising',\n",
       "       'old frequent buyers - major', 'best in class',\n",
       "       'old frequent buyers - minor'], dtype=object)"
      ]
     },
     "execution_count": 340,
     "metadata": {},
     "output_type": "execute_result"
    }
   ],
   "source": [
    "rfm['segment'].unique()"
   ]
  },
  {
   "cell_type": "code",
   "execution_count": 341,
   "id": "2656abe1",
   "metadata": {},
   "outputs": [
    {
     "data": {
      "image/png": "[encoded data removed]",
      "text/plain": [
       "<Figure size 432x288 with 1 Axes>"
      ]
     },
     "metadata": {
      "needs_background": "light"
     },
     "output_type": "display_data"
    }
   ],
   "source": [
    "segments_counts = rfm['segment'].value_counts().sort_values(ascending=True)\n",
    "fig, ax = plt.subplots()\n",
    "bars = ax.barh(range(len(segments_counts)),\n",
    "              segments_counts,\n",
    "              color='silver')\n",
    "ax.set_frame_on(False)\n",
    "ax.tick_params(left=False,\n",
    "               bottom=False,\n",
    "               labelbottom=False)\n",
    "ax.set_yticks(range(len(segments_counts)))\n",
    "ax.set_yticklabels(segments_counts.index)\n",
    "for i, bar in enumerate(bars):\n",
    "        value = bar.get_width()\n",
    "        ax.text(value,\n",
    "                bar.get_y() + bar.get_height()/2,\n",
    "                '{:,} ({:}%)'.format(int(value),\n",
    "                                   int(value*100/segments_counts.sum())),\n",
    "                va='center',\n",
    "                ha='left'\n",
    "               )\n",
    "\n",
    "plt.show()"
   ]
  }
 ],
 "metadata": {
  "kernelspec": {
   "display_name": "Python 3",
   "language": "python",
   "name": "python3"
  },
  "language_info": {
   "codemirror_mode": {
    "name": "ipython",
    "version": 3
   },
   "file_extension": ".py",
   "mimetype": "text/x-python",
   "name": "python",
   "nbconvert_exporter": "python",
   "pygments_lexer": "ipython3",
   "version": "3.7.4"
  }
 },
 "nbformat": 4,
 "nbformat_minor": 5
}
