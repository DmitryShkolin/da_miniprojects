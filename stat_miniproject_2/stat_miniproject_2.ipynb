{
 "cells": [
  {
   "cell_type": "markdown",
   "id": "90ef0b1a",
   "metadata": {},
   "source": [
    "## Минипроект по статистике 2\n",
    "## Statistics Miniproject 2"
   ]
  },
  {
   "cell_type": "raw",
   "id": "a497ca22",
   "metadata": {},
   "source": [
    "ad_id – идентификатор объявления (рекламы)\n",
    "xyz_campaign_id – идентификатор рекламной кампании в базе компании X\n",
    "fb_campaign_id – идентификатор кампании в Facebook\n",
    "age – возрастная группа, которой показывалась реклама\n",
    "gender – пол тех, кому показывалась реклама\n",
    "interest –код, указывающий категорию, к которой относится интерес пользователя (соответствие число – интерес)\n",
    "impressions – число показов\n",
    "clicks – число кликов\n",
    "spent – сумма, которую компания потратила на показ объявления \n",
    "total_conversion – количество людей, которые заинтересовались продуктом после просмотра рекламы\n",
    "approved_conversion – количество людей, которые купили продукт после просмотра рекламы"
   ]
  },
  {
   "cell_type": "raw",
   "id": "09d8d998",
   "metadata": {},
   "source": [
    "ad_id - identifier of the ad (advertising)\n",
    "xyz_campaign_id – advertising campaign ID in company X database\n",
    "fb_campaign_id - Facebook campaign ID\n",
    "age - the age group that the ad was shown to\n",
    "gender - the gender of those who were shown the ad\n",
    "interest - code indicating the category to which the user's interest belongs (corresponding number - interest)\n",
    "impressions - number of impressions\n",
    "clicks - number of clicks\n",
    "spent - the amount that the company spent on displaying the ad\n",
    "total_conversion - the number of people who became interested in the product after viewing the ad\n",
    "approved_conversion - number of people who bought the product after viewing the ad"
   ]
  },
  {
   "cell_type": "code",
   "execution_count": 142,
   "id": "d85d868b",
   "metadata": {},
   "outputs": [],
   "source": [
    "import pandas as pd\n",
    "import numpy as np\n",
    "import seaborn as sns\n",
    "import matplotlib.pyplot as plt\n",
    "%matplotlib inline\n",
    "data=pd.read_csv('~/conversion.csv')"
   ]
  },
  {
   "cell_type": "raw",
   "id": "2d7825cc",
   "metadata": {},
   "source": [
    "Вопрос 1\n",
    "Сколько уникальных рекламных кампаний было проведено?\n",
    "Question 1\n",
    "How many unique advertising attacks were carried out?"
   ]
  },
  {
   "cell_type": "code",
   "execution_count": 143,
   "id": "b555188f",
   "metadata": {},
   "outputs": [
    {
     "name": "stdout",
     "output_type": "stream",
     "text": [
      "3 уникальных кампаний было проведено\n",
      "3 unique campaigns were carried out\n"
     ]
    }
   ],
   "source": [
    "unique_campaigns=len(data['xyz_campaign_id'].unique())\n",
    "print('{} уникальных кампаний было проведено'.format(unique_campaigns))\n",
    "print('{} unique campaigns were carried out'.format(unique_campaigns))"
   ]
  },
  {
   "cell_type": "raw",
   "id": "676f2e6a",
   "metadata": {},
   "source": [
    "Вопрос 2\n",
    "Постройте график распределения числа показов для каждой рекламной кампании в Facebook\n",
    "Question 2\n",
    "Plot the distribution of impressions for each Facebook ad campaign"
   ]
  },
  {
   "cell_type": "code",
   "execution_count": 144,
   "id": "e8622c4d",
   "metadata": {},
   "outputs": [],
   "source": [
    "fb_log=data.groupby(['fb_campaign_id'],as_index=False).sum()\\\n",
    "       [['fb_campaign_id','Impressions']]"
   ]
  },
  {
   "cell_type": "code",
   "execution_count": 146,
   "id": "f8eb9127",
   "metadata": {},
   "outputs": [
    {
     "name": "stderr",
     "output_type": "stream",
     "text": [
      "/Users/dmitry/opt/anaconda3/lib/python3.7/site-packages/seaborn/distributions.py:2619: FutureWarning: `distplot` is a deprecated function and will be removed in a future version. Please adapt your code to use either `displot` (a figure-level function with similar flexibility) or `histplot` (an axes-level function for histograms).\n",
      "  warnings.warn(msg, FutureWarning)\n"
     ]
    },
    {
     "data": {
      "image/png": "[encoded data removed]",
      "text/plain": [
       "<Figure size 432x288 with 1 Axes>"
      ]
     },
     "metadata": {
      "needs_background": "light"
     },
     "output_type": "display_data"
    }
   ],
   "source": [
    "ax=sns.distplot(fb_log['fb_campaign_id'],kde=False)\n",
    "ax.set_title('Распределение числа показов для каждой рекламы в Facebook \\n'+ \n",
    "             'Distribution of impressions for each Facebook ad')\n",
    "plt.show()"
   ]
  },
  {
   "cell_type": "raw",
   "id": "2834818f",
   "metadata": {},
   "source": [
    "Вопрос 3\n",
    "Создайте новую колонку CTR (click-through-rate). \n",
    "В качестве ответа укажите ad_id объявления с наибольшим CTR.\n",
    "Question 3\n",
    "Create a new CTR (click-through-rate) column.\n",
    "As an answer, enter the ad_id of the ad with the highest CTR."
   ]
  },
  {
   "cell_type": "code",
   "execution_count": 147,
   "id": "999d781b",
   "metadata": {},
   "outputs": [
    {
     "data": {
      "text/html": [
       "<div>\n",
       "<style scoped>\n",
       "    .dataframe tbody tr th:only-of-type {\n",
       "        vertical-align: middle;\n",
       "    }\n",
       "\n",
       "    .dataframe tbody tr th {\n",
       "        vertical-align: top;\n",
       "    }\n",
       "\n",
       "    .dataframe thead th {\n",
       "        text-align: right;\n",
       "    }\n",
       "</style>\n",
       "<table border=\"1\" class=\"dataframe\">\n",
       "  <thead>\n",
       "    <tr style=\"text-align: right;\">\n",
       "      <th></th>\n",
       "      <th>ad_id</th>\n",
       "      <th>xyz_campaign_id</th>\n",
       "      <th>fb_campaign_id</th>\n",
       "      <th>age</th>\n",
       "      <th>gender</th>\n",
       "      <th>interest</th>\n",
       "      <th>Impressions</th>\n",
       "      <th>Clicks</th>\n",
       "      <th>Spent</th>\n",
       "      <th>Total_Conversion</th>\n",
       "      <th>Approved_Conversion</th>\n",
       "      <th>CTR</th>\n",
       "    </tr>\n",
       "  </thead>\n",
       "  <tbody>\n",
       "    <tr>\n",
       "      <th>150</th>\n",
       "      <td>738637</td>\n",
       "      <td>936</td>\n",
       "      <td>109857</td>\n",
       "      <td>45-49</td>\n",
       "      <td>F</td>\n",
       "      <td>24</td>\n",
       "      <td>944</td>\n",
       "      <td>1</td>\n",
       "      <td>1.42</td>\n",
       "      <td>1</td>\n",
       "      <td>0</td>\n",
       "      <td>0.001059</td>\n",
       "    </tr>\n",
       "  </tbody>\n",
       "</table>\n",
       "</div>"
      ],
      "text/plain": [
       "      ad_id  xyz_campaign_id  fb_campaign_id    age gender  interest  \\\n",
       "150  738637              936          109857  45-49      F        24   \n",
       "\n",
       "     Impressions  Clicks  Spent  Total_Conversion  Approved_Conversion  \\\n",
       "150          944       1   1.42                 1                    0   \n",
       "\n",
       "          CTR  \n",
       "150  0.001059  "
      ]
     },
     "execution_count": 147,
     "metadata": {},
     "output_type": "execute_result"
    }
   ],
   "source": [
    "data['CTR']=data['Clicks']/data['Impressions']\n",
    "data=data.sort_values('CTR',ascending=False)\n",
    "data.head(1)"
   ]
  },
  {
   "cell_type": "raw",
   "id": "d0632404",
   "metadata": {},
   "source": [
    "Вопрос 4\n",
    "Визуализируйте CTR с разбивкой по номеру рекламной кампании (xyz_campaign_id)\n",
    "Q4\n",
    "Visualize CTR by the campaign id (xyz_campaign_id)"
   ]
  },
  {
   "cell_type": "code",
   "execution_count": 148,
   "id": "dae77a49",
   "metadata": {},
   "outputs": [],
   "source": [
    "#916\n",
    "CTR_916=data.query('xyz_campaign_id==916')[['CTR']]\n",
    "CTR_936=data.query('xyz_campaign_id==936')[['CTR']]\n",
    "CTR_1178=data.query('xyz_campaign_id==1178')[['CTR']]"
   ]
  },
  {
   "cell_type": "code",
   "execution_count": 149,
   "id": "4bf67b59",
   "metadata": {},
   "outputs": [
    {
     "data": {
      "image/png": "[encoded data removed]",
      "text/plain": [
       "<Figure size 415.75x360 with 1 Axes>"
      ]
     },
     "metadata": {
      "needs_background": "light"
     },
     "output_type": "display_data"
    },
    {
     "data": {
      "image/png": "[encoded data removed]",
      "text/plain": [
       "<Figure size 415.75x360 with 1 Axes>"
      ]
     },
     "metadata": {
      "needs_background": "light"
     },
     "output_type": "display_data"
    },
    {
     "data": {
      "image/png": "[encoded data removed]",
      "text/plain": [
       "<Figure size 415.75x360 with 1 Axes>"
      ]
     },
     "metadata": {
      "needs_background": "light"
     },
     "output_type": "display_data"
    }
   ],
   "source": [
    "sns.displot(CTR_916,kde=False, bins=20)\n",
    "sns.displot(CTR_936,kde=False, bins=20)\n",
    "sns.displot(CTR_1178,kde=False, bins=20)\n",
    "plt.show()"
   ]
  },
  {
   "cell_type": "raw",
   "id": "05fb38a1",
   "metadata": {},
   "source": [
    "Вопрос 5\n",
    "1) Выведите описательные статистики для Cost-Per-Click,\n",
    "2) Посмотрите на форму распределения, \n",
    "3) Укажите межквартильный размах, округленный до двух знаков после точки.\n",
    "Question 5\n",
    "1) Output descriptive statistics for Cost-Per-Click,\n",
    "2) Look at the shape of the distribution,\n",
    "3) Enter the interquartile range, rounded to two decimal places."
   ]
  },
  {
   "cell_type": "code",
   "execution_count": 150,
   "id": "5d7c9f27",
   "metadata": {},
   "outputs": [],
   "source": [
    "data['CPC']=data['Spent']/data['Clicks']"
   ]
  },
  {
   "cell_type": "code",
   "execution_count": 151,
   "id": "8aae3539",
   "metadata": {},
   "outputs": [
    {
     "data": {
      "text/plain": [
       "count    936.000000\n",
       "mean       1.499347\n",
       "std        0.232879\n",
       "min        0.180000\n",
       "25%        1.390000\n",
       "50%        1.498273\n",
       "75%        1.644364\n",
       "max        2.212000\n",
       "Name: CPC, dtype: float64"
      ]
     },
     "execution_count": 151,
     "metadata": {},
     "output_type": "execute_result"
    }
   ],
   "source": [
    "data['CPC'].describe()"
   ]
  },
  {
   "cell_type": "code",
   "execution_count": 152,
   "id": "6f24c457",
   "metadata": {},
   "outputs": [
    {
     "data": {
      "text/plain": [
       "<seaborn.axisgrid.FacetGrid at 0x7feafef67690>"
      ]
     },
     "execution_count": 152,
     "metadata": {},
     "output_type": "execute_result"
    },
    {
     "data": {
      "image/png": "[encoded data removed]",
      "text/plain": [
       "<Figure size 360x360 with 1 Axes>"
      ]
     },
     "metadata": {
      "needs_background": "light"
     },
     "output_type": "display_data"
    }
   ],
   "source": [
    "sns.displot(data['CPC'])"
   ]
  },
  {
   "cell_type": "code",
   "execution_count": 153,
   "id": "d26d95eb",
   "metadata": {},
   "outputs": [
    {
     "name": "stdout",
     "output_type": "stream",
     "text": [
      "Межквартильный размах: 0.25\n",
      "Interquartile range: 0.25\n"
     ]
    }
   ],
   "source": [
    "import scipy\n",
    "print('Межквартильный размах: {}'.\\\n",
    "      format(round(scipy.stats.iqr(data['CPC'],nan_policy='omit'),2)))\n",
    "print('Interquartile range: {}'.\\\n",
    "      format(round(scipy.stats.iqr(data['CPC'],nan_policy='omit'),2)))"
   ]
  },
  {
   "cell_type": "code",
   "execution_count": 154,
   "id": "409a1372",
   "metadata": {},
   "outputs": [
    {
     "name": "stdout",
     "output_type": "stream",
     "text": [
      "Межквартильный размах: 0.25\n",
      "Interquartile range: 0.25\n"
     ]
    }
   ],
   "source": [
    "print('Межквартильный размах: {}'.\\\n",
    "         format(round(data['CPC'].dropna().describe()[6] \\\n",
    "                     -data['CPC'].dropna().describe()[4],2)))\n",
    "print('Interquartile range: {}'.\\\n",
    "         format(round(data['CPC'].dropna().describe()[6] \\\n",
    "                     -data['CPC'].dropna().describe()[4],2)))"
   ]
  },
  {
   "cell_type": "raw",
   "id": "522c81e9",
   "metadata": {},
   "source": [
    "Вопрос 6\n",
    "Визуализируйте CPC с разбивкой по полу пользователей, которым были показаны объявления\n",
    "Question 6\n",
    "Visualize CPC by gender of users who were shown ads"
   ]
  },
  {
   "cell_type": "code",
   "execution_count": 155,
   "id": "5af004bb",
   "metadata": {},
   "outputs": [
    {
     "data": {
      "image/png": "[encoded data removed]",
      "text/plain": [
       "<Figure size 432x288 with 1 Axes>"
      ]
     },
     "metadata": {
      "needs_background": "light"
     },
     "output_type": "display_data"
    }
   ],
   "source": [
    "plt.hist(data.query('gender==\"F\"')['CPC'].dropna())\n",
    "plt.hist(data.query('gender==\"M\"')['CPC'].dropna())\n",
    "plt.show()"
   ]
  },
  {
   "cell_type": "raw",
   "id": "c0965da0",
   "metadata": {},
   "source": [
    "Вопрос 7\n",
    "Посчитайте конверсию из клика в покупку, в качестве ответа укажите конверсию для объявления 1121814 в процентах, округлив значение до 2 знаков после точки.\n",
    "Question 7\n",
    "Calculate the click-to-purchase conversion rate, enter the percentage conversion for ad 1121814 as an answer, rounding the value to 2 decimal places. "
   ]
  },
  {
   "cell_type": "code",
   "execution_count": 156,
   "id": "a80ee22b",
   "metadata": {},
   "outputs": [
    {
     "data": {
      "text/plain": [
       "860    3.087886\n",
       "Name: CR, dtype: float64"
      ]
     },
     "execution_count": 156,
     "metadata": {},
     "output_type": "execute_result"
    }
   ],
   "source": [
    "data['CR']=data['Approved_Conversion']/data['Clicks']\n",
    "data[data['ad_id']==1121814]['CR']*100"
   ]
  }
 ],
 "metadata": {
  "kernelspec": {
   "display_name": "Python 3",
   "language": "python",
   "name": "python3"
  },
  "language_info": {
   "codemirror_mode": {
    "name": "ipython",
    "version": 3
   },
   "file_extension": ".py",
   "mimetype": "text/x-python",
   "name": "python",
   "nbconvert_exporter": "python",
   "pygments_lexer": "ipython3",
   "version": "3.7.4"
  }
 },
 "nbformat": 4,
 "nbformat_minor": 5
}
